{
 "cells": [
  {
   "cell_type": "markdown",
   "metadata": {},
   "source": [
    "### Label Map\n",
    "This piece of code will take in the list of species from the training and test directory and create an exaustive list of species and map it to a numerical label. \n",
    "\n",
    "The below code was created to work for Schneider's test and train data. "
   ]
  },
  {
   "cell_type": "code",
   "execution_count": 2,
   "metadata": {},
   "outputs": [],
   "source": [
    "import glob, os, sys, csv, json\n",
    "\"\"\"Schneider's data is arranged in test and train and here I intend to create a \n",
    "consolidated list of images that were in schneider data.\"\"\"\n",
    "\n",
    "Project_filepath = \"/home/ubuntu/data/tensorflow/my_workspace/training_demo/\"\n",
    "\n",
    "lst_train = glob.glob(os.path.join(Project_filepath, \"Data/images/train/*.jpg\"))\n",
    "lst_test = glob.glob(os.path.join(Project_filepath, \"Data/images/test/*.jpg\"))\n",
    "lst = lst_train + lst_test\n",
    "lst2 = []\n",
    "for l in lst:\n",
    "    lst2.append(l[-14:]) #list of all images that schnider used"
   ]
  },
  {
   "cell_type": "code",
   "execution_count": 11,
   "metadata": {},
   "outputs": [
    {
     "name": "stdout",
     "output_type": "stream",
     "text": [
      "performing iteration : 0\n",
      "performing iteration : 5000\n",
      "performing iteration : 10000\n",
      "performing iteration : 15000\n"
     ]
    }
   ],
   "source": [
    "gold_standard_bb = {}\n",
    "with open((Project_filepath + 'Data/GoldStandardBoundBoxCoord.csv'), 'r') as csvfile:\n",
    "    csvdata = csv.reader(csvfile, delimiter=',')\n",
    "    header = next(csvdata)\n",
    "    col_mapper = {k: i for i, k in enumerate(header)}\n",
    "    for i, row in enumerate(csvdata):\n",
    "        filename = row[col_mapper['filename']]\n",
    "        if filename in lst2: #including only the images that were used by Schneider\n",
    "            if filename not in gold_standard_bb.keys():\n",
    "                gold_standard_bb[filename] = []\n",
    "            gold_standard_bb[filename].append({k: row[v] for k, v in col_mapper.items() })\n",
    "            if i%5000 == 0:\n",
    "                print(\"performing iteration : %s\" % i)"
   ]
  },
  {
   "cell_type": "markdown",
   "metadata": {},
   "source": [
    "##### Uncomment the below code when running this first time\n",
    "This creates a label map in form of a dictionary and saves it in local Path for reference. <br>\n",
    "Once the label map is in the local path, it can be loaded in future for further use."
   ]
  },
  {
   "cell_type": "code",
   "execution_count": 17,
   "metadata": {},
   "outputs": [],
   "source": [
    "# Label map function\n",
    "# label_map= {}\n",
    "# label_num = 0\n",
    "# for k, v in gold_standard_bb.items():\n",
    "#     if v[0]['class'] not in label_map:\n",
    "#         label_map[v[0]['class']] = label_num + 1\n",
    "#         label_num +=1\n",
    "\n",
    "\n",
    "# Creating a json dump for a backup\n",
    "# with open('/home/ubuntu/data/tensorflow/my_workspace/training_demo/Data/label_map.json', 'w') as outfile:\n",
    "#     json.dump(label_map, outfile)\n",
    "\n",
    "# Loading the json dump  \n",
    "with open('/home/ubuntu/data/tensorflow/my_workspace/training_demo/Data/label_map.json', 'r') as f:\n",
    "     label_map = json.load(f)"
   ]
  },
  {
   "cell_type": "markdown",
   "metadata": {},
   "source": [
    "Writing the label map to a pbtxt file format. This is a file format needed by the tensorflow graph.<br>\n",
    "The pbtxt file is saved in the local path for any future uses."
   ]
  },
  {
   "cell_type": "code",
   "execution_count": 19,
   "metadata": {},
   "outputs": [],
   "source": [
    "# Writing the label map to the pbtxt file\n",
    "s = [(k, label_map[k]) for k in sorted(label_map, key=label_map.get, reverse=False)]\n",
    "with open('/home/ubuntu/data/tensorflow/my_workspace/training_demo/annotations/label_map.pbtxt', 'w') as f:\n",
    "    for k, v in s:\n",
    "        print(\"item { \\n id:%d \\n name:'%s' \\n } \\n\" %(v, k),file=f)"
   ]
  },
  {
   "cell_type": "code",
   "execution_count": 18,
   "metadata": {
    "scrolled": true
   },
   "outputs": [
    {
     "data": {
      "text/plain": [
       "{'Aardvark': 32,\n",
       " 'Aardwolf': 40,\n",
       " 'Baboon': 8,\n",
       " 'BuffCrestedBustard': 29,\n",
       " 'Buffalo': 5,\n",
       " 'Bushbuck': 27,\n",
       " 'CattleEgret': 19,\n",
       " 'Cheetah': 28,\n",
       " 'DikDik': 18,\n",
       " 'Eland': 21,\n",
       " 'Elephant': 20,\n",
       " 'GazelleGrants': 16,\n",
       " 'GazelleThomsons': 4,\n",
       " 'Giraffe': 3,\n",
       " 'GreyBackedFiscal': 23,\n",
       " 'GuineaFowl': 6,\n",
       " 'Hare': 41,\n",
       " 'Hartebeest': 10,\n",
       " 'Hippopotamus': 25,\n",
       " 'Human': 17,\n",
       " 'HyenaSpotted': 9,\n",
       " 'Impala': 12,\n",
       " 'Jackal': 33,\n",
       " 'KoriBustard': 11,\n",
       " 'Leopard': 34,\n",
       " 'Lion': 31,\n",
       " 'Mongoose': 39,\n",
       " 'Ostrich': 35,\n",
       " 'OtherBird': 7,\n",
       " 'Oxpecker': 22,\n",
       " 'Porcupine': 36,\n",
       " 'Reedbuck': 15,\n",
       " 'Rhinoceros': 45,\n",
       " 'Rodent': 44,\n",
       " 'SecretaryBird': 37,\n",
       " 'Serval': 42,\n",
       " 'Stork': 24,\n",
       " 'SuperbStarling': 30,\n",
       " 'Topi': 26,\n",
       " 'VervetMonkey': 46,\n",
       " 'Warthog': 14,\n",
       " 'Waterbuck': 43,\n",
       " 'WattledStarling': 13,\n",
       " 'WhiteHeadBuffaloWeaver': 38,\n",
       " 'Wildebeest': 1,\n",
       " 'Zebra': 2}"
      ]
     },
     "execution_count": 18,
     "metadata": {},
     "output_type": "execute_result"
    }
   ],
   "source": [
    "label_map"
   ]
  },
  {
   "cell_type": "markdown",
   "metadata": {},
   "source": [
    "1 Class label map. \n",
    "\n",
    "This mapping was created manually to have a species agnostic box created by the trained tensorflow model"
   ]
  },
  {
   "cell_type": "code",
   "execution_count": 3,
   "metadata": {},
   "outputs": [],
   "source": [
    "label_map_temp ={'Animal': 1}\n",
    "with open('/home/ubuntu/data/tensorflow/my_workspace/training_demo/Data/label_map_temp.json', 'w') as outfile:\n",
    "    json.dump(label_map_temp, outfile)"
   ]
  },
  {
   "cell_type": "markdown",
   "metadata": {},
   "source": [
    "**Label map for testing on the schneider data**"
   ]
  },
  {
   "cell_type": "code",
   "execution_count": 2,
   "metadata": {},
   "outputs": [
    {
     "name": "stdout",
     "output_type": "stream",
     "text": [
      "{'Warthog': 9, 'Hare': 32, 'Jackal': 25, 'Serval': 37, 'Elephant': 11, 'Baboon': 33, 'Eland': 27, 'GazelleThomsons': 7, 'Rodent': 41, 'KoriBustard': 21, 'Mongoose': 13, 'OtherBird': 22, 'Leopard': 18, 'Topi': 39, 'Reedbuck': 3, 'GuineaFowl': 16, 'Impala': 10, 'HyenaSpotted': 8, 'Hartebeest': 15, 'Porcupine': 6, 'Cheetah': 26, 'Rhinoceros': 46, 'Zebra': 5, 'Aardwolf': 28, 'Buffalo': 14, 'Lion': 20, 'Hippopotamus': 29, 'DikDik': 4, 'SecretaryBird': 36, 'Human': 1, 'Waterbuck': 35, 'Aardvark': 31, 'Giraffe': 12, 'GazelleGrants': 2, 'Wildebeest': 17, 'Bushbuck': 24, 'VervetMonkey': 34, 'Ostrich': 19}\n"
     ]
    }
   ],
   "source": [
    "label_map = {\"GazelleGrants\": 2, \"Porcupine\": 6, \"Human\": 1, \"Rhinoceros\": 46, \"KoriBustard\": 21, \"Topi\": 39, \"Mongoose\": 13, \"HyenaSpotted\": 8, \"Cheetah\": 26, \"Elephant\": 11, \"Lion\": 20, \"Eland\": 27, \"Serval\": 37, \"OtherBird\": 22, \"Aardvark\": 31, \"GazelleThomsons\": 7, \"Jackal\": 25, \"Ostrich\": 19, \"Zebra\": 5, \"Hartebeest\": 15, \"Wildebeest\": 17, \"Baboon\": 33, \"DikDik\": 4 , \"Rodent\": 41, \"Bushbuck\": 24, \"Warthog\": 9, \"Aardwolf\": 28, \"Reedbuck\": 3, \"Impala\": 10, \"Hippopotamus\": 29, \"Leopard\": 18, \"Waterbuck\": 35, \"Hare\": 32, \"Buffalo\": 14, \"GuineaFowl\": 16, \"Giraffe\": 12, \"SecretaryBird\": 36, \"VervetMonkey\": 34}\n",
    "print(label_map)"
   ]
  },
  {
   "cell_type": "code",
   "execution_count": 3,
   "metadata": {},
   "outputs": [],
   "source": [
    "# Writing the label map to the pbtxt file\n",
    "s = [(k, label_map[k]) for k in sorted(label_map, key=label_map.get, reverse=False)]\n",
    "with open('/home/ubuntu/data/tensorflow/my_workspace/training_demo/annotations/label_map_test_schneider.pbtxt', 'w') as f:\n",
    "    for k, v in s:\n",
    "        print(\"item { \\n id:%d \\n name:'%s' \\n } \\n\" %(v, k),file=f)"
   ]
  },
  {
   "cell_type": "code",
   "execution_count": null,
   "metadata": {},
   "outputs": [],
   "source": []
  }
 ],
 "metadata": {
  "kernelspec": {
   "display_name": "Python 3",
   "language": "python",
   "name": "python3"
  },
  "language_info": {
   "codemirror_mode": {
    "name": "ipython",
    "version": 3
   },
   "file_extension": ".py",
   "mimetype": "text/x-python",
   "name": "python",
   "nbconvert_exporter": "python",
   "pygments_lexer": "ipython3",
   "version": "3.5.2"
  }
 },
 "nbformat": 4,
 "nbformat_minor": 2
}
