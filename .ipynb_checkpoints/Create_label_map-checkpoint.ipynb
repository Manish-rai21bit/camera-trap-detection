{
 "cells": [
  {
   "cell_type": "markdown",
   "metadata": {},
   "source": [
    "### Label Map\n",
    "\"\"\"This piece of code will take in the list of species from the training and test directory and create an exaustive list of species and map it to a numerical label\"\"\""
   ]
  },
  {
   "cell_type": "code",
   "execution_count": 16,
   "metadata": {},
   "outputs": [],
   "source": [
    "import glob, os, sys, csv, json\n",
    "\n",
    "Project_filepath = \"/home/ubuntu/data/tensorflow/my_workspace/training_demo/\"\n",
    "\n",
    "lst_train = glob.glob(os.path.join(Project_filepath, \"Data/images/train/*.jpg\"))\n",
    "lst_test = glob.glob(os.path.join(Project_filepath, \"Data/images/test/*.jpg\"))\n",
    "lst = lst_train + lst_test\n",
    "lst2 = []\n",
    "for l in lst:\n",
    "    lst2.append(l[-14:]) #list of all images that schnider used"
   ]
  },
  {
   "cell_type": "code",
   "execution_count": 11,
   "metadata": {},
   "outputs": [
    {
     "name": "stdout",
     "output_type": "stream",
     "text": [
      "performing iteration : 0\n",
      "performing iteration : 5000\n",
      "performing iteration : 10000\n",
      "performing iteration : 15000\n"
     ]
    }
   ],
   "source": [
    "gold_standard_bb = {}\n",
    "with open((Project_filepath + 'Data/GoldStandardBoundBoxCoord.csv'), 'r') as csvfile:\n",
    "    csvdata = csv.reader(csvfile, delimiter=',')\n",
    "    header = next(csvdata)\n",
    "    col_mapper = {k: i for i, k in enumerate(header)}\n",
    "    for i, row in enumerate(csvdata):\n",
    "        filename = row[col_mapper['filename']]\n",
    "        if filename in lst2: #including only the images that were used by Schneider\n",
    "            if filename not in gold_standard_bb.keys():\n",
    "                gold_standard_bb[filename] = []\n",
    "            gold_standard_bb[filename].append({k: row[v] for k, v in col_mapper.items() })\n",
    "            if i%5000 == 0:\n",
    "                print(\"performing iteration : %s\" % i)"
   ]
  },
  {
   "cell_type": "markdown",
   "metadata": {},
   "source": [
    "##### Uncomment the below code when running this first time"
   ]
  },
  {
   "cell_type": "code",
   "execution_count": 17,
   "metadata": {},
   "outputs": [],
   "source": [
    "# Label map function\n",
    "# label_map= {}\n",
    "# label_num = 0\n",
    "# for k, v in gold_standard_bb.items():\n",
    "#     if v[0]['class'] not in label_map:\n",
    "#         label_map[v[0]['class']] = label_num + 1\n",
    "#         label_num +=1\n",
    "\n",
    "\n",
    "# Creating a json dump for a backup\n",
    "with open('/home/ubuntu/data/tensorflow/my_workspace/training_demo/Data/label_map.json', 'w') as outfile:\n",
    "    json.dump(label_map, outfile)\n",
    "\n",
    "# Loading the json dump  \n",
    "with open('/home/ubuntu/data/tensorflow/my_workspace/training_demo/Data/label_map.json', 'r') as f:\n",
    "     label_map = json.load(f)"
   ]
  },
  {
   "cell_type": "code",
   "execution_count": 19,
   "metadata": {},
   "outputs": [],
   "source": [
    "# Printing the label map to the pbtxt file\n",
    "\n",
    "s = [(k, label_map[k]) for k in sorted(label_map, key=label_map.get, reverse=False)]\n",
    "with open('/home/ubuntu/data/tensorflow/my_workspace/training_demo/annotations/label_map.pbtxt', 'w') as f:\n",
    "    for k, v in s:\n",
    "        print(\"item { \\n id:%d \\n name:'%s' \\n } \\n\" %(v, k),file=f)"
   ]
  },
  {
   "cell_type": "code",
   "execution_count": 18,
   "metadata": {},
   "outputs": [
    {
     "data": {
      "text/plain": [
       "{'Aardvark': 32,\n",
       " 'Aardwolf': 40,\n",
       " 'Baboon': 8,\n",
       " 'BuffCrestedBustard': 29,\n",
       " 'Buffalo': 5,\n",
       " 'Bushbuck': 27,\n",
       " 'CattleEgret': 19,\n",
       " 'Cheetah': 28,\n",
       " 'DikDik': 18,\n",
       " 'Eland': 21,\n",
       " 'Elephant': 20,\n",
       " 'GazelleGrants': 16,\n",
       " 'GazelleThomsons': 4,\n",
       " 'Giraffe': 3,\n",
       " 'GreyBackedFiscal': 23,\n",
       " 'GuineaFowl': 6,\n",
       " 'Hare': 41,\n",
       " 'Hartebeest': 10,\n",
       " 'Hippopotamus': 25,\n",
       " 'Human': 17,\n",
       " 'HyenaSpotted': 9,\n",
       " 'Impala': 12,\n",
       " 'Jackal': 33,\n",
       " 'KoriBustard': 11,\n",
       " 'Leopard': 34,\n",
       " 'Lion': 31,\n",
       " 'Mongoose': 39,\n",
       " 'Ostrich': 35,\n",
       " 'OtherBird': 7,\n",
       " 'Oxpecker': 22,\n",
       " 'Porcupine': 36,\n",
       " 'Reedbuck': 15,\n",
       " 'Rhinoceros': 45,\n",
       " 'Rodent': 44,\n",
       " 'SecretaryBird': 37,\n",
       " 'Serval': 42,\n",
       " 'Stork': 24,\n",
       " 'SuperbStarling': 30,\n",
       " 'Topi': 26,\n",
       " 'VervetMonkey': 46,\n",
       " 'Warthog': 14,\n",
       " 'Waterbuck': 43,\n",
       " 'WattledStarling': 13,\n",
       " 'WhiteHeadBuffaloWeaver': 38,\n",
       " 'Wildebeest': 1,\n",
       " 'Zebra': 2}"
      ]
     },
     "execution_count": 18,
     "metadata": {},
     "output_type": "execute_result"
    }
   ],
   "source": [
    "label_map"
   ]
  },
  {
   "cell_type": "code",
   "execution_count": null,
   "metadata": {},
   "outputs": [],
   "source": []
  }
 ],
 "metadata": {
  "kernelspec": {
   "display_name": "Python 3",
   "language": "python",
   "name": "python3"
  },
  "language_info": {
   "codemirror_mode": {
    "name": "ipython",
    "version": 3
   },
   "file_extension": ".py",
   "mimetype": "text/x-python",
   "name": "python",
   "nbconvert_exporter": "python",
   "pygments_lexer": "ipython3",
   "version": "3.5.2"
  }
 },
 "nbformat": 4,
 "nbformat_minor": 2
}
