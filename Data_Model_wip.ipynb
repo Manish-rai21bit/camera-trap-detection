{
 "cells": [
  {
   "cell_type": "markdown",
   "metadata": {},
   "source": [
    "### Data Model\n",
    "1. Data Export : CSV -> JSON\n",
    "2. Data Import : JSON -> CSV \n",
    "3. Create test train spit\n",
    "4. Write TFRecord : JSON -> TFRecord\n",
    "5. Data import for Schneider\n",
    "6. Check data"
   ]
  },
  {
   "cell_type": "markdown",
   "metadata": {},
   "source": [
    "##### Data Exports"
   ]
  },
  {
   "cell_type": "code",
   "execution_count": 1,
   "metadata": {
    "collapsed": true
   },
   "outputs": [],
   "source": [
    "import pandas as pd\n",
    "import csv, os, sys\n",
    "import operator\n",
    "import tensorflow as tf\n",
    "import json\n",
    "sys.path.append('/Users/manishrai/Desktop/UMN/Research/Zooniverse/Code/tensorflow/models/research/object_detection/')\n",
    "from utils import dataset_util"
   ]
  },
  {
   "cell_type": "code",
   "execution_count": 2,
   "metadata": {
    "collapsed": true
   },
   "outputs": [],
   "source": [
    "Project_filepath = \"/Users/manishrai/Desktop/UMN/Research/Zooniverse/\""
   ]
  },
  {
   "cell_type": "raw",
   "metadata": {},
   "source": [
    "with open(os.path.join(Project_filepath, 'Data/Schneider_Data/GoldStandardBoundBoxCoord.csv'), 'r') as csvfile:\n",
    "    csvdata = csv.reader(csvfile, delimiter=',')\n",
    "    for row in csvdata:\n",
    "        #print ', '.join(row)\n",
    "        print row"
   ]
  },
  {
   "cell_type": "raw",
   "metadata": {},
   "source": [
    "with open(os.path.join(Project_filepath, 'Data/all_images.csv'), 'r') as csvfile:\n",
    "    csvdata = csv.reader(csvfile, delimiter=',')\n",
    "    for row in csvdata:\n",
    "        #print ', '.join(row)\n",
    "        print row"
   ]
  },
  {
   "cell_type": "raw",
   "metadata": {},
   "source": [
    "with open(os.path.join(Project_filepath, 'Data/consensus_data.csv'), 'r') as csvfile:\n",
    "    csvdata = csv.reader(csvfile, delimiter=',')\n",
    "    for row in csvdata:\n",
    "        #print ', '.join(row)\n",
    "        print row"
   ]
  },
  {
   "cell_type": "markdown",
   "metadata": {},
   "source": [
    "CaptureEventID - Consensus Data <br>\n",
    "Metadata {SiteID, Location, Datetime} - Consensus Data <br>\n",
    "Images [{ path} - all_images, dimension - GoldStandardBoundBoxCoord] <br>\n",
    "Observation [bounding box] - GoldStandardBoundBoxCoord"
   ]
  },
  {
   "cell_type": "markdown",
   "metadata": {},
   "source": [
    "##### Helper functions"
   ]
  },
  {
   "cell_type": "code",
   "execution_count": 3,
   "metadata": {
    "collapsed": true
   },
   "outputs": [],
   "source": [
    "\"\"\"This function reads a raw image, resizes it with aspect ratio preservation and returns the byte string\"\"\"\n",
    "from PIL import Image\n",
    "import numpy as np\n",
    "import io\n",
    "\n",
    "\n",
    "\n",
    "def resize_jpeg(image,  max_side):\n",
    "    \"\"\" Take Raw JPEG resize with aspect ratio preservation\n",
    "         and return bytes\n",
    "    \"\"\"\n",
    "    img = Image.open(image)\n",
    "    img.thumbnail([max_side, max_side], Image.ANTIALIAS)\n",
    "    b = io.BytesIO()\n",
    "    img.save(b, 'JPEG')\n",
    "    image_bytes = b.getvalue()\n",
    "    return image_bytes"
   ]
  },
  {
   "cell_type": "code",
   "execution_count": 4,
   "metadata": {
    "collapsed": true
   },
   "outputs": [],
   "source": [
    "def class_text_to_int(row_label):\n",
    "\n",
    "    if row_label == 'Aardwolf': return 1\n",
    "    elif row_label == 'Aardvark': return 2\n",
    "    elif row_label == 'Baboon': return 3\n",
    "    elif row_label == 'Buffalo': return 4\n",
    "    elif row_label == 'BuffaloYouth': return 5\n",
    "    elif row_label == 'BuffCrestedBustard': return 6\n",
    "    elif row_label == 'Bushbuck': return 7\n",
    "    elif row_label == 'CatteEgret': return 8\n",
    "    elif row_label == 'Cheetah': return 9\n",
    "    elif row_label == 'DikDik': return 10\n",
    "    elif row_label == 'DistantAnimal': return 11\n",
    "    elif row_label == 'Eland': return 12\n",
    "    elif row_label == 'Elephant': return 13\n",
    "    elif row_label == 'ElephantYouth': return 14\n",
    "    elif row_label == 'GazelleGrants': return 15\n",
    "    elif row_label == 'GazelleGrantsFemale': return 16\n",
    "    elif row_label == 'GazelleGrantsMale': return 17\n",
    "    elif row_label == 'GazelleThomsons': return 18\n",
    "    elif row_label == 'GazelleThomsonsFemale': return 19\n",
    "    elif row_label == 'GazelleThomsonsMale': return 20\n",
    "    elif row_label == 'GazelleThomsonsYouth': return 21\n",
    "    elif row_label == 'Giraffe': return 22\n",
    "    elif row_label == 'GreyBackedFiscal': return 23\n",
    "    elif row_label == 'GuineaFowl': return 24\n",
    "    elif row_label == 'GuineaFowlYouth': return 25\n",
    "    elif row_label == 'Hare': return 26\n",
    "    elif row_label == 'Hartebeest': return 27\n",
    "    elif row_label == 'Hippopotamus': return 28\n",
    "    elif row_label == 'HotAirBalloon': return 29\n",
    "    elif row_label == 'Human': return 30\n",
    "    elif row_label == 'HyenaSpotted': return 31\n",
    "    elif row_label == 'Impala': return 32\n",
    "    elif row_label == 'ImpalaFemale': return 33\n",
    "    elif row_label == 'ImpalaMale': return 34\n",
    "    elif row_label == 'ImpalaYouth': return 35\n",
    "    elif row_label == 'Jackal': return 36\n",
    "    elif row_label == 'KoriBustard': return 37\n",
    "    elif row_label == 'Leopard': return 38\n",
    "    elif row_label == 'LionFemale': return 39 \n",
    "    elif row_label == 'LionMale': return 40\n",
    "    elif row_label == 'Mongoose': return 41\n",
    "    elif row_label == 'Ostrich': return 42\n",
    "    elif row_label == 'OtherBird': return 43\n",
    "    elif row_label == 'Oxpecker': return 44\n",
    "    elif row_label == 'Porcupine': return 45\n",
    "    elif row_label == 'Reedbuck': return 46\n",
    "    elif row_label == 'ReedbuckMale': return 47\n",
    "    elif row_label == 'ReedbuckFemale': return 48\n",
    "    elif row_label == 'ReedbuckYouth': return 49\n",
    "    elif row_label == 'Rhinoceros': return 50\n",
    "    elif row_label == 'Rodent': return 51\n",
    "    elif row_label == 'SecretaryBird': return 52\n",
    "    elif row_label == 'Serval': return 53\n",
    "    elif row_label == 'SpottedHyena': return 54\n",
    "    elif row_label == 'Stork': return 55\n",
    "    elif row_label == 'SuperbStarling': return 56\n",
    "    elif row_label == 'Topi': return 57\n",
    "    elif row_label == 'TopiMale': return 58\n",
    "    elif row_label == 'TopiFemale': return 59\n",
    "    elif row_label == 'Truck': return 60\n",
    "    elif row_label == 'VervetMonkey': return 61\n",
    "    elif row_label == 'Warthog': return 62\n",
    "    elif row_label == 'Waterbuck': return 63\n",
    "    elif row_label == 'WattledStarling': return 64\n",
    "    elif row_label == 'WhiteHeadBuffaloWeaver': return 65\n",
    "    elif row_label == 'Wildebeest': return 66\n",
    "    elif row_label == 'WildebeestYouth': return 67\n",
    "    elif row_label == 'Zebra': return 68\n",
    "    elif row_label == 'ZebraYouth': return 69\n",
    "    else: print('unlabelled!', row_label)"
   ]
  },
  {
   "cell_type": "code",
   "execution_count": 40,
   "metadata": {},
   "outputs": [
    {
     "name": "stdout",
     "output_type": "stream",
     "text": [
      "Overwriting data_model.py\n"
     ]
    }
   ],
   "source": [
    "%%writefile data_model.py\n",
    "\n",
    "def fetchcolvalue(filename, searchkey, output_col_no):\n",
    "    csvfile = open(os.path.join(Project_filepath, filename), 'r')\n",
    "    csvdata = csv.reader(csvfile, delimiter=',')\n",
    "    first_row = next(csvdata)\n",
    "    ct = 0\n",
    "    for row in csvdata:\n",
    "        if searchkey in row[ct]:\n",
    "            colVal = row[output_col_no]\n",
    "            break\n",
    "        else:\n",
    "            colVal = \"\"\n",
    "            \n",
    "    csvfile.close()\n",
    "    return colVal\n",
    "\n",
    "# URL fetching\n",
    "def fetchurl(filename, searchkey):\n",
    "    csvfile = open(os.path.join(Project_filepath, filename), 'r')\n",
    "    csvdata = csv.reader(csvfile, delimiter=',')\n",
    "    first_row = next(csvdata)\n",
    "    csvdata2 = sorted(csvdata, key=lambda row: (0, 1)) \n",
    "    for row in csvdata2:\n",
    "        if row[0] == searchkey:\n",
    "            URL = 'https://snapshotserengeti.s3.msi.umn.edu/' + row[1]\n",
    "            break\n",
    "        else:\n",
    "            URL = ''\n",
    "    \n",
    "    csvfile.close()\n",
    "    return URL\n",
    "\n",
    "def csvtodict(Project_filepath, bb_data, concensus_data, all_images_data, images):\n",
    "    lst = []\n",
    "    event_dict = {}\n",
    "    csvfile = open(os.path.join(Project_filepath, bb_data), 'r')\n",
    "    csvdata = csv.reader(csvfile, delimiter=',')\n",
    "    first_row = next(csvdata)\n",
    "    for row in csvdata:\n",
    "        if row[0][0:10] not in event_dict:\n",
    "            event_dict[row[0][0:10]] = {'metadata' : {\"SiteID\": fetchcolvalue(concensus_data, row[0][0:10], 3), \n",
    "                                  \"DateTime\": fetchcolvalue(concensus_data, row[0][0:10], 2),  \n",
    "                                  \"Season\": fetchcolvalue(all_images_data, row[0][0:10], 1)[0:2]},\n",
    "                                    'images' : [{\"Path\" : os.path.join(Project_filepath, 'Data/Schneider_Data/images/', row[0]),\n",
    "                                \"URL\" : fetchurl(all_images_data, row[0][0:10]),\n",
    "                                \"dim_x\" : fetchcolvalue(bb_data, row[0], 1),\n",
    "                                \"dim_y\" : fetchcolvalue(bb_data, row[0], 2),\n",
    "                                \"image_label\" : \"tbd\",\n",
    "                                'observations' : [{\"bb_xmin\" : fetchcolvalue(bb_data, row[0], 4),\n",
    "                                      \"bb_ymin\" : fetchcolvalue(bb_data, row[0], 5),\n",
    "                                      \"bb_xmax\" : fetchcolvalue(bb_data, row[0], 6),\n",
    "                                      \"bb_ymax\" : fetchcolvalue(bb_data, row[0], 7), \n",
    "                                      \"bb_primary_label\" : fetchcolvalue(bb_data, row[0], 3), \n",
    "                                      \"bb_label\" : {\"species\" : fetchcolvalue(bb_data, row[0], 3),\n",
    "                                                    \"pose\" : \"standing/ sitting/ running\"\n",
    "                                                   }\n",
    "                                     }]\n",
    "                               }]\n",
    "                                    }\n",
    "    return event_dict\n",
    "\n",
    "\n",
    "def dicttojson(event_dict):\n",
    "    with open('event_dict.json', 'w') as outfile:\n",
    "        json.dump(event_dict, outfile)\n",
    "    #return json.dump(event_dict, outfile)\n",
    "\n",
    "def jsontodict(event_json):\n",
    "    with open(event_json, 'r') as f:\n",
    "        return json.load(f)\n",
    "\n",
    "\n",
    "def create_tf_example(data):\n",
    "    # TODO(user): Populate the following variables from your example.\n",
    "    height = int(data['images'][0]['dim_y']) # Image height\n",
    "    width = int(data['images'][0]['dim_x']) # Image width\n",
    "    filename = str(data['images'][0]['Path']) # Filename of the image. Empty if image is not from file\n",
    "    encoded_image_data = resize_jpeg(str(data['images'][0]['Path']),  10) # Encoded image bytes\n",
    "    image_format = b'jpg' # b'jpeg' or b'png'\n",
    "\n",
    "    xmins = [float(data['images'][0]['observations'][0]['bb_xmin'])] # List of normalized left x coordinates in bounding box (1 per box)\n",
    "    xmaxs = [float(data['images'][0]['observations'][0]['bb_xmax'])] # List of normalized right x coordinates in bounding box\n",
    "             # (1 per box)\n",
    "    ymins = [float(data['images'][0]['observations'][0]['bb_ymin'])] # List of normalized top y coordinates in bounding box (1 per box)\n",
    "    ymaxs = [float(data['images'][0]['observations'][0]['bb_ymax'])] # List of normalized bottom y coordinates in bounding box\n",
    "             # (1 per box)\n",
    "    #classes_text = data[''] # List of string class name of bounding box (1 per box)\n",
    "    #classes = data[''] # List of integer class id of bounding box (1 per box)\n",
    "\n",
    "    tf_example = tf.train.Example(features=tf.train.Features(feature={\n",
    "      'image/height': dataset_util.int64_feature(height),\n",
    "      'image/width': dataset_util.int64_feature(width),\n",
    "      'image/filename': dataset_util.bytes_feature(filename),\n",
    "      'image/source_id': dataset_util.bytes_feature(filename),\n",
    "      'image/encoded': dataset_util.bytes_feature(encoded_image_data),\n",
    "      'image/format': dataset_util.bytes_feature(image_format),\n",
    "      'image/object/bbox/xmin': dataset_util.float_list_feature(xmins),\n",
    "      'image/object/bbox/xmax': dataset_util.float_list_feature(xmaxs),\n",
    "      'image/object/bbox/ymin': dataset_util.float_list_feature(ymins),\n",
    "      'image/object/bbox/ymax': dataset_util.float_list_feature(ymaxs),\n",
    "      #'image/object/class/text': dataset_util.bytes_list_feature(classes_text),\n",
    "      #'image/object/class/label': dataset_util.int64_list_feature(classes),\n",
    "    }))\n",
    "    \n",
    "    return tf_example\n",
    "\n",
    "\n",
    "def encode_to_tfr_record(test_feature, out_tfr_file):\n",
    "    with tf.python_io.TFRecordWriter(out_tfr_file) as writer:\n",
    "        for k, v in test_feature.items():\n",
    "            example = create_tf_example(v)\n",
    "            writer.write(example.SerializeToString())"
   ]
  },
  {
   "cell_type": "code",
   "execution_count": 38,
   "metadata": {
    "scrolled": true
   },
   "outputs": [
    {
     "data": {
      "text/plain": [
       "{u'ASG000clcb': {u'images': [{u'Path': u'/Users/manishrai/Desktop/UMN/Research/Zooniverse/Data/Schneider_Data/images/ASG000clcb.jpg',\n",
       "    u'URL': u'https://snapshotserengeti.s3.msi.umn.edu/S4/U09/U09_R2/S4_U09_R2_IMAG1737.JPG',\n",
       "    u'dim_x': u'2048',\n",
       "    u'dim_y': u'1536',\n",
       "    u'image_label': u'tbd',\n",
       "    u'observations': [{u'bb_label': {u'pose': u'standing/ sitting/ running',\n",
       "       u'species': u'Wildebeest'},\n",
       "      u'bb_primary_label': u'Wildebeest',\n",
       "      u'bb_xmax': u'1487',\n",
       "      u'bb_xmin': u'1457',\n",
       "      u'bb_ymax': u'675',\n",
       "      u'bb_ymin': u'648'}]}],\n",
       "  u'metadata': {u'DateTime': u'2012-04-15 14:37:30',\n",
       "   u'Season': u'S4',\n",
       "   u'SiteID': u'U09'}},\n",
       " u'ASG000dz24': {u'images': [{u'Path': u'/Users/manishrai/Desktop/UMN/Research/Zooniverse/Data/Schneider_Data/images/ASG000dz24.jpg',\n",
       "    u'URL': u'https://snapshotserengeti.s3.msi.umn.edu/S4/J01/J01_R1/S4_J01_R1_IMAG0111.JPG',\n",
       "    u'dim_x': u'2048',\n",
       "    u'dim_y': u'1536',\n",
       "    u'image_label': u'tbd',\n",
       "    u'observations': [{u'bb_label': {u'pose': u'standing/ sitting/ running',\n",
       "       u'species': u'Impala'},\n",
       "      u'bb_primary_label': u'Impala',\n",
       "      u'bb_xmax': u'1227',\n",
       "      u'bb_xmin': u'1141',\n",
       "      u'bb_ymax': u'977',\n",
       "      u'bb_ymin': u'883'}]}],\n",
       "  u'metadata': {u'DateTime': u'2012-03-01 14:42:59',\n",
       "   u'Season': u'S4',\n",
       "   u'SiteID': u'J01'}}}"
      ]
     },
     "execution_count": 38,
     "metadata": {},
     "output_type": "execute_result"
    }
   ],
   "source": [
    "bb_data = 'Data/Schneider_Data/TestGoldStandardBoundBoxCoord.csv'\n",
    "concensus_data = 'Data/consensus_data.csv'\n",
    "all_images_data = 'Data/all_images.csv'\n",
    "images = 'Data/Schneider_Data/'\n",
    "event_dict = csvtodict(Project_filepath, bb_data, concensus_data, all_images_data, images) # In this step we create a dictionary from the csv\n",
    "dicttojson(event_dict) # storing the dictionary to json\n",
    "event_dict = jsontodict(\"event_dict.json\") # getting back the dictionary. For creating the tfrecord we will use this \n",
    "encode_to_tfr_record(event_dict, 'test_event.tfrecord') # this step creates a tfrecord file\n",
    "event_dict"
   ]
  },
  {
   "cell_type": "code",
   "execution_count": 7,
   "metadata": {
    "scrolled": true
   },
   "outputs": [
    {
     "name": "stdout",
     "output_type": "stream",
     "text": [
      "features {\n",
      "  feature {\n",
      "    key: \"image/encoded\"\n",
      "    value {\n",
      "      bytes_list {\n",
      "        value: \"\\377\\330\\377\\340\\000\\020JFIF\\000\\001\\001\\000\\000\\001\\000\\001\\000\\000\\377\\333\\000C\\000\\010\\006\\006\\007\\006\\005\\010\\007\\007\\007\\t\\t\\010\\n\\014\\024\\r\\014\\013\\013\\014\\031\\022\\023\\017\\024\\035\\032\\037\\036\\035\\032\\034\\034 $.\\' \\\",#\\034\\034(7),01444\\037\\'9=82<.342\\377\\333\\000C\\001\\t\\t\\t\\014\\013\\014\\030\\r\\r\\0302!\\034!22222222222222222222222222222222222222222222222222\\377\\300\\000\\021\\010\\000\\007\\000\\n\\003\\001\\\"\\000\\002\\021\\001\\003\\021\\001\\377\\304\\000\\037\\000\\000\\001\\005\\001\\001\\001\\001\\001\\001\\000\\000\\000\\000\\000\\000\\000\\000\\001\\002\\003\\004\\005\\006\\007\\010\\t\\n\\013\\377\\304\\000\\265\\020\\000\\002\\001\\003\\003\\002\\004\\003\\005\\005\\004\\004\\000\\000\\001}\\001\\002\\003\\000\\004\\021\\005\\022!1A\\006\\023Qa\\007\\\"q\\0242\\201\\221\\241\\010#B\\261\\301\\025R\\321\\360$3br\\202\\t\\n\\026\\027\\030\\031\\032%&\\'()*456789:CDEFGHIJSTUVWXYZcdefghijstuvwxyz\\203\\204\\205\\206\\207\\210\\211\\212\\222\\223\\224\\225\\226\\227\\230\\231\\232\\242\\243\\244\\245\\246\\247\\250\\251\\252\\262\\263\\264\\265\\266\\267\\270\\271\\272\\302\\303\\304\\305\\306\\307\\310\\311\\312\\322\\323\\324\\325\\326\\327\\330\\331\\332\\341\\342\\343\\344\\345\\346\\347\\350\\351\\352\\361\\362\\363\\364\\365\\366\\367\\370\\371\\372\\377\\304\\000\\037\\001\\000\\003\\001\\001\\001\\001\\001\\001\\001\\001\\001\\000\\000\\000\\000\\000\\000\\001\\002\\003\\004\\005\\006\\007\\010\\t\\n\\013\\377\\304\\000\\265\\021\\000\\002\\001\\002\\004\\004\\003\\004\\007\\005\\004\\004\\000\\001\\002w\\000\\001\\002\\003\\021\\004\\005!1\\006\\022AQ\\007aq\\023\\\"2\\201\\010\\024B\\221\\241\\261\\301\\t#3R\\360\\025br\\321\\n\\026$4\\341%\\361\\027\\030\\031\\032&\\'()*56789:CDEFGHIJSTUVWXYZcdefghijstuvwxyz\\202\\203\\204\\205\\206\\207\\210\\211\\212\\222\\223\\224\\225\\226\\227\\230\\231\\232\\242\\243\\244\\245\\246\\247\\250\\251\\252\\262\\263\\264\\265\\266\\267\\270\\271\\272\\302\\303\\304\\305\\306\\307\\310\\311\\312\\322\\323\\324\\325\\326\\327\\330\\331\\332\\342\\343\\344\\345\\346\\347\\350\\351\\352\\362\\363\\364\\365\\366\\367\\370\\371\\372\\377\\332\\000\\014\\003\\001\\000\\002\\021\\003\\021\\000?\\000\\306\\261\\370\\327\\256%\\323Z\\335XX\\203\\214\\024Hrw\\216\\300\\356\\306?\\372\\374\\326D\\337\\020|W,\\362I\\366(\\227{\\026\\332\\262\\220\\006O@7p(\\242\\251N]\\314\\225(v?\\377\\331\"\n",
      "      }\n",
      "    }\n",
      "  }\n",
      "  feature {\n",
      "    key: \"image/filename\"\n",
      "    value {\n",
      "      bytes_list {\n",
      "        value: \"/Users/manishrai/Desktop/UMN/Research/Zooniverse/Data/Schneider_Data/images/ASG000clcb.jpg\"\n",
      "      }\n",
      "    }\n",
      "  }\n",
      "  feature {\n",
      "    key: \"image/format\"\n",
      "    value {\n",
      "      bytes_list {\n",
      "        value: \"jpg\"\n",
      "      }\n",
      "    }\n",
      "  }\n",
      "  feature {\n",
      "    key: \"image/height\"\n",
      "    value {\n",
      "      int64_list {\n",
      "        value: 1536\n",
      "      }\n",
      "    }\n",
      "  }\n",
      "  feature {\n",
      "    key: \"image/object/bbox/xmax\"\n",
      "    value {\n",
      "      float_list {\n",
      "        value: 1487.0\n",
      "      }\n",
      "    }\n",
      "  }\n",
      "  feature {\n",
      "    key: \"image/object/bbox/xmin\"\n",
      "    value {\n",
      "      float_list {\n",
      "        value: 1457.0\n",
      "      }\n",
      "    }\n",
      "  }\n",
      "  feature {\n",
      "    key: \"image/object/bbox/ymax\"\n",
      "    value {\n",
      "      float_list {\n",
      "        value: 675.0\n",
      "      }\n",
      "    }\n",
      "  }\n",
      "  feature {\n",
      "    key: \"image/object/bbox/ymin\"\n",
      "    value {\n",
      "      float_list {\n",
      "        value: 648.0\n",
      "      }\n",
      "    }\n",
      "  }\n",
      "  feature {\n",
      "    key: \"image/source_id\"\n",
      "    value {\n",
      "      bytes_list {\n",
      "        value: \"/Users/manishrai/Desktop/UMN/Research/Zooniverse/Data/Schneider_Data/images/ASG000clcb.jpg\"\n",
      "      }\n",
      "    }\n",
      "  }\n",
      "  feature {\n",
      "    key: \"image/width\"\n",
      "    value {\n",
      "      int64_list {\n",
      "        value: 2048\n",
      "      }\n",
      "    }\n",
      "  }\n",
      "}\n",
      "\n",
      "features {\n",
      "  feature {\n",
      "    key: \"image/encoded\"\n",
      "    value {\n",
      "      bytes_list {\n",
      "        value: \"\\377\\330\\377\\340\\000\\020JFIF\\000\\001\\001\\000\\000\\001\\000\\001\\000\\000\\377\\333\\000C\\000\\010\\006\\006\\007\\006\\005\\010\\007\\007\\007\\t\\t\\010\\n\\014\\024\\r\\014\\013\\013\\014\\031\\022\\023\\017\\024\\035\\032\\037\\036\\035\\032\\034\\034 $.\\' \\\",#\\034\\034(7),01444\\037\\'9=82<.342\\377\\333\\000C\\001\\t\\t\\t\\014\\013\\014\\030\\r\\r\\0302!\\034!22222222222222222222222222222222222222222222222222\\377\\300\\000\\021\\010\\000\\007\\000\\n\\003\\001\\\"\\000\\002\\021\\001\\003\\021\\001\\377\\304\\000\\037\\000\\000\\001\\005\\001\\001\\001\\001\\001\\001\\000\\000\\000\\000\\000\\000\\000\\000\\001\\002\\003\\004\\005\\006\\007\\010\\t\\n\\013\\377\\304\\000\\265\\020\\000\\002\\001\\003\\003\\002\\004\\003\\005\\005\\004\\004\\000\\000\\001}\\001\\002\\003\\000\\004\\021\\005\\022!1A\\006\\023Qa\\007\\\"q\\0242\\201\\221\\241\\010#B\\261\\301\\025R\\321\\360$3br\\202\\t\\n\\026\\027\\030\\031\\032%&\\'()*456789:CDEFGHIJSTUVWXYZcdefghijstuvwxyz\\203\\204\\205\\206\\207\\210\\211\\212\\222\\223\\224\\225\\226\\227\\230\\231\\232\\242\\243\\244\\245\\246\\247\\250\\251\\252\\262\\263\\264\\265\\266\\267\\270\\271\\272\\302\\303\\304\\305\\306\\307\\310\\311\\312\\322\\323\\324\\325\\326\\327\\330\\331\\332\\341\\342\\343\\344\\345\\346\\347\\350\\351\\352\\361\\362\\363\\364\\365\\366\\367\\370\\371\\372\\377\\304\\000\\037\\001\\000\\003\\001\\001\\001\\001\\001\\001\\001\\001\\001\\000\\000\\000\\000\\000\\000\\001\\002\\003\\004\\005\\006\\007\\010\\t\\n\\013\\377\\304\\000\\265\\021\\000\\002\\001\\002\\004\\004\\003\\004\\007\\005\\004\\004\\000\\001\\002w\\000\\001\\002\\003\\021\\004\\005!1\\006\\022AQ\\007aq\\023\\\"2\\201\\010\\024B\\221\\241\\261\\301\\t#3R\\360\\025br\\321\\n\\026$4\\341%\\361\\027\\030\\031\\032&\\'()*56789:CDEFGHIJSTUVWXYZcdefghijstuvwxyz\\202\\203\\204\\205\\206\\207\\210\\211\\212\\222\\223\\224\\225\\226\\227\\230\\231\\232\\242\\243\\244\\245\\246\\247\\250\\251\\252\\262\\263\\264\\265\\266\\267\\270\\271\\272\\302\\303\\304\\305\\306\\307\\310\\311\\312\\322\\323\\324\\325\\326\\327\\330\\331\\332\\342\\343\\344\\345\\346\\347\\350\\351\\352\\362\\363\\364\\365\\366\\367\\370\\371\\372\\377\\332\\000\\014\\003\\001\\000\\002\\021\\003\\021\\000?\\000\\345\\374+\\342\\215[F\\273\\201\\206&[b\\302;9\\030\\371`\\221\\201\\306p0y\\372\\367\\255\\277\\370Z\\276=\\034\\037\\354\\302Gsj9\\377\\000\\307\\250\\242\\241^\\357QY\\037\\377\\331\"\n",
      "      }\n",
      "    }\n",
      "  }\n",
      "  feature {\n",
      "    key: \"image/filename\"\n",
      "    value {\n",
      "      bytes_list {\n",
      "        value: \"/Users/manishrai/Desktop/UMN/Research/Zooniverse/Data/Schneider_Data/images/ASG000dz24.jpg\"\n",
      "      }\n",
      "    }\n",
      "  }\n",
      "  feature {\n",
      "    key: \"image/format\"\n",
      "    value {\n",
      "      bytes_list {\n",
      "        value: \"jpg\"\n",
      "      }\n",
      "    }\n",
      "  }\n",
      "  feature {\n",
      "    key: \"image/height\"\n",
      "    value {\n",
      "      int64_list {\n",
      "        value: 1536\n",
      "      }\n",
      "    }\n",
      "  }\n",
      "  feature {\n",
      "    key: \"image/object/bbox/xmax\"\n",
      "    value {\n",
      "      float_list {\n",
      "        value: 1227.0\n",
      "      }\n",
      "    }\n",
      "  }\n",
      "  feature {\n",
      "    key: \"image/object/bbox/xmin\"\n",
      "    value {\n",
      "      float_list {\n",
      "        value: 1141.0\n",
      "      }\n",
      "    }\n",
      "  }\n",
      "  feature {\n",
      "    key: \"image/object/bbox/ymax\"\n",
      "    value {\n",
      "      float_list {\n",
      "        value: 977.0\n",
      "      }\n",
      "    }\n",
      "  }\n",
      "  feature {\n",
      "    key: \"image/object/bbox/ymin\"\n",
      "    value {\n",
      "      float_list {\n",
      "        value: 883.0\n",
      "      }\n",
      "    }\n",
      "  }\n",
      "  feature {\n",
      "    key: \"image/source_id\"\n",
      "    value {\n",
      "      bytes_list {\n",
      "        value: \"/Users/manishrai/Desktop/UMN/Research/Zooniverse/Data/Schneider_Data/images/ASG000dz24.jpg\"\n",
      "      }\n",
      "    }\n",
      "  }\n",
      "  feature {\n",
      "    key: \"image/width\"\n",
      "    value {\n",
      "      int64_list {\n",
      "        value: 2048\n",
      "      }\n",
      "    }\n",
      "  }\n",
      "}\n",
      "\n"
     ]
    }
   ],
   "source": [
    "for k, v in event_dict.items():\n",
    "    print create_tf_example(v)"
   ]
  },
  {
   "cell_type": "code",
   "execution_count": 8,
   "metadata": {
    "scrolled": true
   },
   "outputs": [
    {
     "data": {
      "text/plain": [
       "({'image/encoded': <tf.Tensor 'ParseSingleSequenceExample/ParseSingleSequenceExample:0' shape=() dtype=string>,\n",
       "  'image/filename': <tf.Tensor 'ParseSingleSequenceExample/ParseSingleSequenceExample:1' shape=() dtype=string>,\n",
       "  'image/format': <tf.Tensor 'ParseSingleSequenceExample/ParseSingleSequenceExample:2' shape=() dtype=string>,\n",
       "  'image/height': <tf.Tensor 'ParseSingleSequenceExample/ParseSingleSequenceExample:3' shape=() dtype=int64>,\n",
       "  'image/source_id': <tf.Tensor 'ParseSingleSequenceExample/ParseSingleSequenceExample:4' shape=() dtype=string>,\n",
       "  'image/width': <tf.Tensor 'ParseSingleSequenceExample/ParseSingleSequenceExample:5' shape=() dtype=int64>},\n",
       " {'image/object/bbox/xmax': <tf.Tensor 'ParseSingleSequenceExample/ParseSingleSequenceExample:6' shape=(?,) dtype=int64>,\n",
       "  'image/object/bbox/xmin': <tf.Tensor 'ParseSingleSequenceExample/ParseSingleSequenceExample:7' shape=(?,) dtype=int64>,\n",
       "  'image/object/bbox/ymax': <tf.Tensor 'ParseSingleSequenceExample/ParseSingleSequenceExample:8' shape=(?,) dtype=int64>,\n",
       "  'image/object/bbox/ymin': <tf.Tensor 'ParseSingleSequenceExample/ParseSingleSequenceExample:9' shape=(?,) dtype=int64>})"
      ]
     },
     "execution_count": 8,
     "metadata": {},
     "output_type": "execute_result"
    }
   ],
   "source": [
    "context_features = {\n",
    "                    \"image/filename\" : tf.FixedLenFeature([], tf.string),\n",
    "                    \"image/format\" : tf.FixedLenFeature([], tf.string),\n",
    "                    \"image/height\" : tf.FixedLenFeature([], tf.int64),\n",
    "                    \"image/source_id\" : tf.FixedLenFeature([], tf.string),\n",
    "                    \"image/width\" : tf.FixedLenFeature([], tf.int64),\n",
    "                    \"image/encoded\" :tf.FixedLenFeature([], tf.string)\n",
    "                    }\n",
    "\n",
    "sequence_features = {\n",
    "                     \"image/object/bbox/xmin\" : tf.FixedLenSequenceFeature([], tf.int64),\n",
    "                     \"image/object/bbox/xmax\" : tf.FixedLenSequenceFeature([], tf.int64),\n",
    "                     \"image/object/bbox/ymin\" : tf.FixedLenSequenceFeature([], tf.int64),\n",
    "                     \"image/object/bbox/ymax\" : tf.FixedLenSequenceFeature([], tf.int64)\n",
    "                    }\n",
    "\n",
    "\n",
    "context, sequence = tf.parse_single_sequence_example(serialized='test_event.tfrecord',\n",
    "                                          context_features=context_features,\n",
    "                                          sequence_features=sequence_features,\n",
    "                                          example_name=None,\n",
    "                                          name=None)\n",
    "\n",
    "context, sequence"
   ]
  },
  {
   "cell_type": "markdown",
   "metadata": {},
   "source": [
    "### Decoding the TFRecord file"
   ]
  },
  {
   "cell_type": "code",
   "execution_count": 41,
   "metadata": {},
   "outputs": [
    {
     "ename": "NameError",
     "evalue": "name 'sequence' is not defined",
     "output_type": "error",
     "traceback": [
      "\u001b[0;31m---------------------------------------------------------------------------\u001b[0m",
      "\u001b[0;31mNameError\u001b[0m                                 Traceback (most recent call last)",
      "\u001b[0;32m<ipython-input-41-8a910c8d0277>\u001b[0m in \u001b[0;36m<module>\u001b[0;34m()\u001b[0m\n\u001b[0;32m----> 1\u001b[0;31m \u001b[0mdataset\u001b[0m \u001b[0;34m=\u001b[0m \u001b[0mtf\u001b[0m\u001b[0;34m.\u001b[0m\u001b[0mdata\u001b[0m\u001b[0;34m.\u001b[0m\u001b[0mDataset\u001b[0m\u001b[0;34m.\u001b[0m\u001b[0mfrom_tensor_slices\u001b[0m\u001b[0;34m(\u001b[0m\u001b[0msequence\u001b[0m\u001b[0;34m)\u001b[0m\u001b[0;34m\u001b[0m\u001b[0m\n\u001b[0m",
      "\u001b[0;31mNameError\u001b[0m: name 'sequence' is not defined"
     ]
    }
   ],
   "source": [
    "dataset = tf.data.Dataset.from_tensor_slices(sequence)"
   ]
  },
  {
   "cell_type": "code",
   "execution_count": 12,
   "metadata": {},
   "outputs": [
    {
     "data": {
      "text/plain": [
       "<TensorSliceDataset shapes: {image/object/bbox/xmax: (), image/object/bbox/ymin: (), image/object/bbox/xmin: (), image/object/bbox/ymax: ()}, types: {image/object/bbox/xmax: tf.int64, image/object/bbox/ymin: tf.int64, image/object/bbox/xmin: tf.int64, image/object/bbox/ymax: tf.int64}>"
      ]
     },
     "execution_count": 12,
     "metadata": {},
     "output_type": "execute_result"
    }
   ],
   "source": [
    "dataset"
   ]
  },
  {
   "cell_type": "code",
   "execution_count": null,
   "metadata": {
    "collapsed": true
   },
   "outputs": [],
   "source": []
  },
  {
   "cell_type": "code",
   "execution_count": null,
   "metadata": {
    "collapsed": true
   },
   "outputs": [],
   "source": []
  }
 ],
 "metadata": {
  "kernelspec": {
   "display_name": "Python 2",
   "language": "python",
   "name": "python2"
  },
  "language_info": {
   "codemirror_mode": {
    "name": "ipython",
    "version": 2
   },
   "file_extension": ".py",
   "mimetype": "text/x-python",
   "name": "python",
   "nbconvert_exporter": "python",
   "pygments_lexer": "ipython2",
   "version": "2.7.12"
  }
 },
 "nbformat": 4,
 "nbformat_minor": 1
}
