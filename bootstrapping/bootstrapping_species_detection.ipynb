{
 "cells": [
  {
   "cell_type": "markdown",
   "metadata": {},
   "source": [
    "### Bootstrapping the bounding boxes:\n",
    "In this step we will use the finetuned model to generate new bounding boxes on the data that the model has not seen. The correctly predicted boxes will be used to further finetune the model and the incorrect boxes will be used to manually draw the bounding boxes in the images.\n",
    "\n",
    "Steps:\n",
    "1. Get the species and count from the preidcted bounding boxes (data in the folder - training_demo/Predictions/)\n",
    "-- This is a TFRecord \n",
    "\n",
    "2. The LILA dataset does not have information on count and so I will use the concensus data for this information"
   ]
  },
  {
   "cell_type": "code",
   "execution_count": 27,
   "metadata": {},
   "outputs": [],
   "source": [
    "#import pandas as pd\n",
    "import operator\n",
    "import tensorflow as tf\n",
    "import json\n",
    "import pandas as pd\n",
    "import numpy as np\n",
    "from PIL import Image\n",
    "\n",
    "pd.options.display.max_columns = 100\n",
    "pd.options.display.max_rows = 10000"
   ]
  },
  {
   "cell_type": "code",
   "execution_count": 8,
   "metadata": {},
   "outputs": [],
   "source": [
    "Project_filepath = \"/home/ubuntu/data/tensorflow/my_workspace/training_demo/\""
   ]
  },
  {
   "cell_type": "code",
   "execution_count": 9,
   "metadata": {},
   "outputs": [
    {
     "name": "stdout",
     "output_type": "stream",
     "text": [
      "(864619, 3)\n",
      "(3198737, 10)\n",
      "(49, 2)\n"
     ]
    }
   ],
   "source": [
    "with open('../data/LILA/SnapshotSerengeti.json', 'r') as f:\n",
    "    dict1 = json.load(f)\n",
    "\n",
    "# read the bounding box annotations and the image information to dataframes\n",
    "df_annotations = pd.DataFrame(dict1['annotations'])\n",
    "# Removing the unknown category, humans and empty from the dataset\n",
    "df_annotations = df_annotations.loc[~df_annotations['category_id'].isin([1000, 0, 1])]\n",
    "print(df_annotations.shape)\n",
    "df_images = pd.DataFrame(dict1['images'])\n",
    "print(df_images.shape)\n",
    "df_categories = pd.DataFrame(dict1['categories'])\n",
    "print(df_categories.shape)"
   ]
  },
  {
   "cell_type": "code",
   "execution_count": 4,
   "metadata": {},
   "outputs": [
    {
     "data": {
      "text/html": [
       "<div>\n",
       "<style scoped>\n",
       "    .dataframe tbody tr th:only-of-type {\n",
       "        vertical-align: middle;\n",
       "    }\n",
       "\n",
       "    .dataframe tbody tr th {\n",
       "        vertical-align: top;\n",
       "    }\n",
       "\n",
       "    .dataframe thead th {\n",
       "        text-align: right;\n",
       "    }\n",
       "</style>\n",
       "<table border=\"1\" class=\"dataframe\">\n",
       "  <thead>\n",
       "    <tr style=\"text-align: right;\">\n",
       "      <th></th>\n",
       "      <th>category_id</th>\n",
       "      <th>id</th>\n",
       "      <th>image_id</th>\n",
       "    </tr>\n",
       "  </thead>\n",
       "  <tbody>\n",
       "    <tr>\n",
       "      <th>5</th>\n",
       "      <td>2</td>\n",
       "      <td>94cdea31-ad6d-11e8-88e9-000d3a062ba9</td>\n",
       "      <td>S1/B04/B04_R1/S1_B04_R1_PICT0006</td>\n",
       "    </tr>\n",
       "    <tr>\n",
       "      <th>6</th>\n",
       "      <td>3</td>\n",
       "      <td>94cdea33-ad6d-11e8-88e9-000d3a062ba9</td>\n",
       "      <td>S1/B04/B04_R1/S1_B04_R1_PICT0007</td>\n",
       "    </tr>\n",
       "    <tr>\n",
       "      <th>7</th>\n",
       "      <td>4</td>\n",
       "      <td>94cdea35-ad6d-11e8-88e9-000d3a062ba9</td>\n",
       "      <td>S1/B04/B04_R1/S1_B04_R1_PICT0008</td>\n",
       "    </tr>\n",
       "    <tr>\n",
       "      <th>8</th>\n",
       "      <td>5</td>\n",
       "      <td>94cdea37-ad6d-11e8-88e9-000d3a062ba9</td>\n",
       "      <td>S1/B04/B04_R1/S1_B04_R1_PICT0009</td>\n",
       "    </tr>\n",
       "    <tr>\n",
       "      <th>11</th>\n",
       "      <td>5</td>\n",
       "      <td>94cdea3d-ad6d-11e8-88e9-000d3a062ba9</td>\n",
       "      <td>S1/B04/B04_R1/S1_B04_R1_PICT0012</td>\n",
       "    </tr>\n",
       "  </tbody>\n",
       "</table>\n",
       "</div>"
      ],
      "text/plain": [
       "    category_id                                    id  \\\n",
       "5             2  94cdea31-ad6d-11e8-88e9-000d3a062ba9   \n",
       "6             3  94cdea33-ad6d-11e8-88e9-000d3a062ba9   \n",
       "7             4  94cdea35-ad6d-11e8-88e9-000d3a062ba9   \n",
       "8             5  94cdea37-ad6d-11e8-88e9-000d3a062ba9   \n",
       "11            5  94cdea3d-ad6d-11e8-88e9-000d3a062ba9   \n",
       "\n",
       "                            image_id  \n",
       "5   S1/B04/B04_R1/S1_B04_R1_PICT0006  \n",
       "6   S1/B04/B04_R1/S1_B04_R1_PICT0007  \n",
       "7   S1/B04/B04_R1/S1_B04_R1_PICT0008  \n",
       "8   S1/B04/B04_R1/S1_B04_R1_PICT0009  \n",
       "11  S1/B04/B04_R1/S1_B04_R1_PICT0012  "
      ]
     },
     "execution_count": 4,
     "metadata": {},
     "output_type": "execute_result"
    }
   ],
   "source": [
    "df_annotations.head()"
   ]
  },
  {
   "cell_type": "code",
   "execution_count": 5,
   "metadata": {
    "scrolled": true
   },
   "outputs": [
    {
     "data": {
      "text/html": [
       "<div>\n",
       "<style scoped>\n",
       "    .dataframe tbody tr th:only-of-type {\n",
       "        vertical-align: middle;\n",
       "    }\n",
       "\n",
       "    .dataframe tbody tr th {\n",
       "        vertical-align: top;\n",
       "    }\n",
       "\n",
       "    .dataframe thead th {\n",
       "        text-align: right;\n",
       "    }\n",
       "</style>\n",
       "<table border=\"1\" class=\"dataframe\">\n",
       "  <thead>\n",
       "    <tr style=\"text-align: right;\">\n",
       "      <th></th>\n",
       "      <th>datetime</th>\n",
       "      <th>file_name</th>\n",
       "      <th>frame_num</th>\n",
       "      <th>height</th>\n",
       "      <th>id</th>\n",
       "      <th>location</th>\n",
       "      <th>season</th>\n",
       "      <th>seq_id</th>\n",
       "      <th>seq_num_frames</th>\n",
       "      <th>width</th>\n",
       "    </tr>\n",
       "  </thead>\n",
       "  <tbody>\n",
       "    <tr>\n",
       "      <th>0</th>\n",
       "      <td>2010-07-18 16:26:14</td>\n",
       "      <td>S1/B04/B04_R1/S1_B04_R1_PICT0001.JPG</td>\n",
       "      <td>0</td>\n",
       "      <td>1536</td>\n",
       "      <td>S1/B04/B04_R1/S1_B04_R1_PICT0001</td>\n",
       "      <td>B04</td>\n",
       "      <td>S1</td>\n",
       "      <td>ASG0002kjh</td>\n",
       "      <td>1</td>\n",
       "      <td>2048</td>\n",
       "    </tr>\n",
       "    <tr>\n",
       "      <th>1</th>\n",
       "      <td>2010-07-18 16:26:30</td>\n",
       "      <td>S1/B04/B04_R1/S1_B04_R1_PICT0002.JPG</td>\n",
       "      <td>0</td>\n",
       "      <td>1536</td>\n",
       "      <td>S1/B04/B04_R1/S1_B04_R1_PICT0002</td>\n",
       "      <td>B04</td>\n",
       "      <td>S1</td>\n",
       "      <td>ASG0002kji</td>\n",
       "      <td>1</td>\n",
       "      <td>2048</td>\n",
       "    </tr>\n",
       "    <tr>\n",
       "      <th>2</th>\n",
       "      <td>NaN</td>\n",
       "      <td>S1/B04/B04_R1/S1_B04_R1_PICT0003.JPG</td>\n",
       "      <td>0</td>\n",
       "      <td>1536</td>\n",
       "      <td>S1/B04/B04_R1/S1_B04_R1_PICT0003</td>\n",
       "      <td>B04</td>\n",
       "      <td>S1</td>\n",
       "      <td>ASG0002kjj</td>\n",
       "      <td>1</td>\n",
       "      <td>2048</td>\n",
       "    </tr>\n",
       "    <tr>\n",
       "      <th>3</th>\n",
       "      <td>NaN</td>\n",
       "      <td>S1/B04/B04_R1/S1_B04_R1_PICT0004.JPG</td>\n",
       "      <td>0</td>\n",
       "      <td>1536</td>\n",
       "      <td>S1/B04/B04_R1/S1_B04_R1_PICT0004</td>\n",
       "      <td>B04</td>\n",
       "      <td>S1</td>\n",
       "      <td>ASG0002kjk</td>\n",
       "      <td>1</td>\n",
       "      <td>2048</td>\n",
       "    </tr>\n",
       "    <tr>\n",
       "      <th>4</th>\n",
       "      <td>NaN</td>\n",
       "      <td>S1/B04/B04_R1/S1_B04_R1_PICT0005.JPG</td>\n",
       "      <td>0</td>\n",
       "      <td>1536</td>\n",
       "      <td>S1/B04/B04_R1/S1_B04_R1_PICT0005</td>\n",
       "      <td>B04</td>\n",
       "      <td>S1</td>\n",
       "      <td>ASG0002kjl</td>\n",
       "      <td>1</td>\n",
       "      <td>2048</td>\n",
       "    </tr>\n",
       "  </tbody>\n",
       "</table>\n",
       "</div>"
      ],
      "text/plain": [
       "              datetime                             file_name  frame_num  \\\n",
       "0  2010-07-18 16:26:14  S1/B04/B04_R1/S1_B04_R1_PICT0001.JPG          0   \n",
       "1  2010-07-18 16:26:30  S1/B04/B04_R1/S1_B04_R1_PICT0002.JPG          0   \n",
       "2                  NaN  S1/B04/B04_R1/S1_B04_R1_PICT0003.JPG          0   \n",
       "3                  NaN  S1/B04/B04_R1/S1_B04_R1_PICT0004.JPG          0   \n",
       "4                  NaN  S1/B04/B04_R1/S1_B04_R1_PICT0005.JPG          0   \n",
       "\n",
       "   height                                id location season      seq_id  \\\n",
       "0    1536  S1/B04/B04_R1/S1_B04_R1_PICT0001      B04     S1  ASG0002kjh   \n",
       "1    1536  S1/B04/B04_R1/S1_B04_R1_PICT0002      B04     S1  ASG0002kji   \n",
       "2    1536  S1/B04/B04_R1/S1_B04_R1_PICT0003      B04     S1  ASG0002kjj   \n",
       "3    1536  S1/B04/B04_R1/S1_B04_R1_PICT0004      B04     S1  ASG0002kjk   \n",
       "4    1536  S1/B04/B04_R1/S1_B04_R1_PICT0005      B04     S1  ASG0002kjl   \n",
       "\n",
       "   seq_num_frames  width  \n",
       "0               1   2048  \n",
       "1               1   2048  \n",
       "2               1   2048  \n",
       "3               1   2048  \n",
       "4               1   2048  "
      ]
     },
     "execution_count": 5,
     "metadata": {},
     "output_type": "execute_result"
    }
   ],
   "source": [
    "df_images.head()"
   ]
  },
  {
   "cell_type": "code",
   "execution_count": 6,
   "metadata": {},
   "outputs": [
    {
     "data": {
      "text/html": [
       "<div>\n",
       "<style scoped>\n",
       "    .dataframe tbody tr th:only-of-type {\n",
       "        vertical-align: middle;\n",
       "    }\n",
       "\n",
       "    .dataframe tbody tr th {\n",
       "        vertical-align: top;\n",
       "    }\n",
       "\n",
       "    .dataframe thead th {\n",
       "        text-align: right;\n",
       "    }\n",
       "</style>\n",
       "<table border=\"1\" class=\"dataframe\">\n",
       "  <thead>\n",
       "    <tr style=\"text-align: right;\">\n",
       "      <th></th>\n",
       "      <th>id</th>\n",
       "      <th>name</th>\n",
       "    </tr>\n",
       "  </thead>\n",
       "  <tbody>\n",
       "    <tr>\n",
       "      <th>0</th>\n",
       "      <td>0</td>\n",
       "      <td>empty</td>\n",
       "    </tr>\n",
       "    <tr>\n",
       "      <th>1</th>\n",
       "      <td>1</td>\n",
       "      <td>human</td>\n",
       "    </tr>\n",
       "    <tr>\n",
       "      <th>2</th>\n",
       "      <td>2</td>\n",
       "      <td>gazelleGrants</td>\n",
       "    </tr>\n",
       "    <tr>\n",
       "      <th>3</th>\n",
       "      <td>3</td>\n",
       "      <td>reedbuck</td>\n",
       "    </tr>\n",
       "    <tr>\n",
       "      <th>4</th>\n",
       "      <td>4</td>\n",
       "      <td>dikDik</td>\n",
       "    </tr>\n",
       "  </tbody>\n",
       "</table>\n",
       "</div>"
      ],
      "text/plain": [
       "   id           name\n",
       "0   0          empty\n",
       "1   1          human\n",
       "2   2  gazelleGrants\n",
       "3   3       reedbuck\n",
       "4   4         dikDik"
      ]
     },
     "execution_count": 6,
     "metadata": {},
     "output_type": "execute_result"
    }
   ],
   "source": [
    "df_categories.head()"
   ]
  },
  {
   "cell_type": "raw",
   "metadata": {},
   "source": [
    "# 1. Excluding the Schneider data\n",
    "df_schneider_box = pd.read_csv('/home/ubuntu/data/tensorflow/my_workspace/training_demo/Data/GoldStandardBoundBoxCoord.csv')\n",
    "schneider_events = list(set(df_schneider_box['filename']))\n",
    "schneider_events = [word.split('.')[0] for word in schneider_events] # [word[:-4] for word in schneider_events]"
   ]
  },
  {
   "cell_type": "code",
   "execution_count": 7,
   "metadata": {},
   "outputs": [
    {
     "name": "stdout",
     "output_type": "stream",
     "text": [
      "Shape of data:  (864619, 13)\n"
     ]
    }
   ],
   "source": [
    "# 2.\n",
    "# Join the tables df_annotations and df_images\n",
    "df_bb_meta = pd.merge(left=df_annotations, \n",
    "                      right=df_images, \n",
    "                      how='left',\n",
    "                      left_on=df_annotations['image_id'], \n",
    "                      right_on=df_images['id'])\n",
    "df_bb_meta = df_bb_meta.drop(columns=['key_0', 'id_y'])\n",
    "\n",
    "df_bb_meta = pd.merge(left=df_bb_meta, \n",
    "                      right=df_categories, \n",
    "                      how='left',\n",
    "                      left_on=df_bb_meta['category_id'], \n",
    "                      right_on=df_categories['id'])\n",
    "df_bb_meta = df_bb_meta.drop(columns=['key_0', 'id'])\n",
    "print(\"Shape of data: \", df_bb_meta.shape)"
   ]
  },
  {
   "cell_type": "code",
   "execution_count": 8,
   "metadata": {},
   "outputs": [
    {
     "data": {
      "text/html": [
       "<div>\n",
       "<style scoped>\n",
       "    .dataframe tbody tr th:only-of-type {\n",
       "        vertical-align: middle;\n",
       "    }\n",
       "\n",
       "    .dataframe tbody tr th {\n",
       "        vertical-align: top;\n",
       "    }\n",
       "\n",
       "    .dataframe thead th {\n",
       "        text-align: right;\n",
       "    }\n",
       "</style>\n",
       "<table border=\"1\" class=\"dataframe\">\n",
       "  <thead>\n",
       "    <tr style=\"text-align: right;\">\n",
       "      <th></th>\n",
       "      <th>category_id</th>\n",
       "      <th>id_x</th>\n",
       "      <th>image_id</th>\n",
       "      <th>datetime</th>\n",
       "      <th>file_name</th>\n",
       "      <th>frame_num</th>\n",
       "      <th>height</th>\n",
       "      <th>location</th>\n",
       "      <th>season</th>\n",
       "      <th>seq_id</th>\n",
       "      <th>seq_num_frames</th>\n",
       "      <th>width</th>\n",
       "      <th>name</th>\n",
       "    </tr>\n",
       "  </thead>\n",
       "  <tbody>\n",
       "    <tr>\n",
       "      <th>0</th>\n",
       "      <td>2</td>\n",
       "      <td>94cdea31-ad6d-11e8-88e9-000d3a062ba9</td>\n",
       "      <td>S1/B04/B04_R1/S1_B04_R1_PICT0006</td>\n",
       "      <td>2010-07-24 08:20:10</td>\n",
       "      <td>S1/B04/B04_R1/S1_B04_R1_PICT0006.JPG</td>\n",
       "      <td>0</td>\n",
       "      <td>1536</td>\n",
       "      <td>B04</td>\n",
       "      <td>S1</td>\n",
       "      <td>ASG0002kjm</td>\n",
       "      <td>1</td>\n",
       "      <td>2048</td>\n",
       "      <td>gazelleGrants</td>\n",
       "    </tr>\n",
       "    <tr>\n",
       "      <th>1</th>\n",
       "      <td>3</td>\n",
       "      <td>94cdea33-ad6d-11e8-88e9-000d3a062ba9</td>\n",
       "      <td>S1/B04/B04_R1/S1_B04_R1_PICT0007</td>\n",
       "      <td>2010-07-24 10:14:32</td>\n",
       "      <td>S1/B04/B04_R1/S1_B04_R1_PICT0007.JPG</td>\n",
       "      <td>0</td>\n",
       "      <td>1536</td>\n",
       "      <td>B04</td>\n",
       "      <td>S1</td>\n",
       "      <td>ASG0002kjn</td>\n",
       "      <td>1</td>\n",
       "      <td>2048</td>\n",
       "      <td>reedbuck</td>\n",
       "    </tr>\n",
       "  </tbody>\n",
       "</table>\n",
       "</div>"
      ],
      "text/plain": [
       "   category_id                                  id_x  \\\n",
       "0            2  94cdea31-ad6d-11e8-88e9-000d3a062ba9   \n",
       "1            3  94cdea33-ad6d-11e8-88e9-000d3a062ba9   \n",
       "\n",
       "                           image_id             datetime  \\\n",
       "0  S1/B04/B04_R1/S1_B04_R1_PICT0006  2010-07-24 08:20:10   \n",
       "1  S1/B04/B04_R1/S1_B04_R1_PICT0007  2010-07-24 10:14:32   \n",
       "\n",
       "                              file_name  frame_num  height location season  \\\n",
       "0  S1/B04/B04_R1/S1_B04_R1_PICT0006.JPG          0    1536      B04     S1   \n",
       "1  S1/B04/B04_R1/S1_B04_R1_PICT0007.JPG          0    1536      B04     S1   \n",
       "\n",
       "       seq_id  seq_num_frames  width           name  \n",
       "0  ASG0002kjm               1   2048  gazelleGrants  \n",
       "1  ASG0002kjn               1   2048       reedbuck  "
      ]
     },
     "execution_count": 8,
     "metadata": {},
     "output_type": "execute_result"
    }
   ],
   "source": [
    "df_bb_meta.head(n = 2)"
   ]
  },
  {
   "cell_type": "markdown",
   "metadata": {},
   "source": [
    "Run through the TFRecord and check the count and list of animals. logic: <br>\n",
    "1. Predictions Species, count per image\n",
    "2. Ground truth Species, count per image from Concensus data or data prepped by marco"
   ]
  },
  {
   "cell_type": "code",
   "execution_count": 9,
   "metadata": {
    "scrolled": true
   },
   "outputs": [
    {
     "name": "stdout",
     "output_type": "stream",
     "text": [
      "{1: 'human', 2: 'gazelleGrants', 3: 'reedbuck', 4: 'dikDik', 5: 'zebra', 6: 'porcupine', 7: 'gazelleThomsons', 8: 'hyenaSpotted', 9: 'warthog', 10: 'impala', 11: 'elephant', 12: 'giraffe', 13: 'mongoose', 14: 'buffalo', 15: 'hartebeest', 16: 'guineaFowl', 17: 'wildebeest', 18: 'leopard', 19: 'ostrich', 20: 'lionFemale', 21: 'koriBustard', 22: 'otherBird', 23: 'batEaredFox', 24: 'bushbuck', 25: 'jackal', 26: 'cheetah', 27: 'eland', 28: 'aardwolf', 29: 'hippopotamus', 30: 'hyenaStriped', 31: 'aardvark', 32: 'hare', 33: 'baboon', 34: 'vervetMonkey', 35: 'waterbuck', 36: 'secretaryBird', 37: 'serval', 38: 'lionMale', 39: 'topi', 40: 'honeyBadger', 41: 'rodents', 42: 'wildcat', 43: 'civet', 44: 'genet', 45: 'caracal', 46: 'rhinoceros', 47: 'reptiles', 48: 'zorilla'}\n"
     ]
    }
   ],
   "source": [
    "# Loading the json dump  \n",
    "with open('../data/LILA/label_map.json', 'r') as f:\n",
    "     label_map = json.load(f)\n",
    "\n",
    "inv_label_map = {v: k for k, v in label_map.items()}\n",
    "print(inv_label_map)"
   ]
  },
  {
   "cell_type": "markdown",
   "metadata": {},
   "source": [
    "**Information about species and count in groundtruth/classification data (marco's data on msi)**"
   ]
  },
  {
   "cell_type": "code",
   "execution_count": 10,
   "metadata": {},
   "outputs": [
    {
     "name": "stdout",
     "output_type": "stream",
     "text": [
      "(1896164, 3)\n",
      "(1896164, 3)\n",
      "(1896164, 3)\n",
      "(485090, 3)\n"
     ]
    },
    {
     "data": {
      "text/html": [
       "<div>\n",
       "<style scoped>\n",
       "    .dataframe tbody tr th:only-of-type {\n",
       "        vertical-align: middle;\n",
       "    }\n",
       "\n",
       "    .dataframe tbody tr th {\n",
       "        vertical-align: top;\n",
       "    }\n",
       "\n",
       "    .dataframe thead th {\n",
       "        text-align: right;\n",
       "    }\n",
       "</style>\n",
       "<table border=\"1\" class=\"dataframe\">\n",
       "  <thead>\n",
       "    <tr style=\"text-align: right;\">\n",
       "      <th></th>\n",
       "      <th>species</th>\n",
       "      <th>count</th>\n",
       "      <th>filename</th>\n",
       "    </tr>\n",
       "  </thead>\n",
       "  <tbody>\n",
       "    <tr>\n",
       "      <th>0</th>\n",
       "      <td>human</td>\n",
       "      <td>1</td>\n",
       "      <td>SER/S1/B04/B04_R1/S1_B04_R1_PICT0001.JPG</td>\n",
       "    </tr>\n",
       "    <tr>\n",
       "      <th>1</th>\n",
       "      <td>human</td>\n",
       "      <td>2</td>\n",
       "      <td>SER/S1/B04/B04_R1/S1_B04_R1_PICT0002.JPG</td>\n",
       "    </tr>\n",
       "    <tr>\n",
       "      <th>5</th>\n",
       "      <td>gazellegrants</td>\n",
       "      <td>1</td>\n",
       "      <td>SER/S1/B04/B04_R1/S1_B04_R1_PICT0006.JPG</td>\n",
       "    </tr>\n",
       "    <tr>\n",
       "      <th>6</th>\n",
       "      <td>reedbuck</td>\n",
       "      <td>1</td>\n",
       "      <td>SER/S1/B04/B04_R1/S1_B04_R1_PICT0007.JPG</td>\n",
       "    </tr>\n",
       "    <tr>\n",
       "      <th>7</th>\n",
       "      <td>dikdik</td>\n",
       "      <td>1</td>\n",
       "      <td>SER/S1/B04/B04_R1/S1_B04_R1_PICT0008.JPG</td>\n",
       "    </tr>\n",
       "  </tbody>\n",
       "</table>\n",
       "</div>"
      ],
      "text/plain": [
       "         species count                                  filename\n",
       "0          human     1  SER/S1/B04/B04_R1/S1_B04_R1_PICT0001.JPG\n",
       "1          human     2  SER/S1/B04/B04_R1/S1_B04_R1_PICT0002.JPG\n",
       "5  gazellegrants     1  SER/S1/B04/B04_R1/S1_B04_R1_PICT0006.JPG\n",
       "6       reedbuck     1  SER/S1/B04/B04_R1/S1_B04_R1_PICT0007.JPG\n",
       "7         dikdik     1  SER/S1/B04/B04_R1/S1_B04_R1_PICT0008.JPG"
      ]
     },
     "execution_count": 10,
     "metadata": {},
     "output_type": "execute_result"
    }
   ],
   "source": [
    "# Loaing the classification data created by Marco\n",
    "df = pd.read_csv('../data/LILA/db_export_season_all_cleaned.csv')\n",
    "\n",
    "# data preprocessing \n",
    "df_image1 = df[['species', 'count', 'image1']]\n",
    "df_image1 = df_image1.rename(columns = {'image1':'filename'}, index=str)\n",
    "print(df_image1.shape)\n",
    "\n",
    "df_image2 = df[['species', 'count', 'image2']]\n",
    "df_image2 = df_image2.rename(columns = {'image2':'filename'}, index=str)\n",
    "print(df_image2.shape)\n",
    "\n",
    "df_image3 = df[['species', 'count', 'image3']]\n",
    "df_image3 = df_image1.rename(columns = {'image3':'filename'}, index=str)\n",
    "print(df_image3.shape)\n",
    "\n",
    "df_image1.append(df_image2)\n",
    "df_image1.append(df_image3)\n",
    "\n",
    "# The groundtruth/classification data has a lot empty images. removing the empty images\n",
    "df_image1 = df_image1[df_image1['species']!= 'empty']\n",
    "print(df_image1.shape)\n",
    "\n",
    "df_image1.head()"
   ]
  },
  {
   "cell_type": "markdown",
   "metadata": {},
   "source": [
    "Generating distribution of images and counts"
   ]
  },
  {
   "cell_type": "code",
   "execution_count": 11,
   "metadata": {
    "scrolled": false
   },
   "outputs": [
    {
     "data": {
      "image/png": "[encoded data removed]",
      "text/plain": [
       "<Figure size 432x288 with 1 Axes>"
      ]
     },
     "metadata": {},
     "output_type": "display_data"
    },
    {
     "data": {
      "image/png": "[encoded data removed]",
      "text/plain": [
       "<Figure size 432x288 with 1 Axes>"
      ]
     },
     "metadata": {},
     "output_type": "display_data"
    },
    {
     "data": {
      "image/png": "[encoded data removed]",
      "text/plain": [
       "<Figure size 432x288 with 1 Axes>"
      ]
     },
     "metadata": {},
     "output_type": "display_data"
    },
    {
     "data": {
      "image/png": "[encoded data removed]",
      "text/plain": [
       "<Figure size 432x288 with 1 Axes>"
      ]
     },
     "metadata": {},
     "output_type": "display_data"
    },
    {
     "data": {
      "image/png": "[encoded data removed]",
      "text/plain": [
       "<Figure size 432x288 with 1 Axes>"
      ]
     },
     "metadata": {},
     "output_type": "display_data"
    }
   ],
   "source": [
    "df_image2 = df_image1.groupby(by=['species', 'count'], as_index=False).count()\n",
    "df_image3 = df_image2.sort_values(by=['species', 'count'])\\\n",
    "                            .rename(index=str, columns={'filename':'freq'})\n",
    "#df_image1[df_image1['count']=='51+'] #.drop_duplicates(['filename'])#[['count', 'filename']]\n",
    "# df_image3\n",
    "\n",
    "for species in ['zebra', 'buffalo', 'impala', 'hartebeest', 'wildebeest']:\n",
    "    df_inter = df_image3[df_image3['species']==species][['count', 'freq']]\n",
    "    ax = df_inter.plot.bar(x='count', y='freq', rot=0, title=species)"
   ]
  },
  {
   "cell_type": "code",
   "execution_count": 12,
   "metadata": {},
   "outputs": [
    {
     "name": "stdout",
     "output_type": "stream",
     "text": [
      "465456\n",
      "0.08809210752466398\n"
     ]
    }
   ],
   "source": [
    "print(len(set(df_image1['filename'])))\n",
    "print((df_image1[df_image1['count']=='51+'].drop_duplicates(['filename']).shape[0]+df_image1[df_image1['count']=='11-50'].drop_duplicates(['filename']).shape[0])/(len(set(df_image1['filename']))))"
   ]
  },
  {
   "cell_type": "code",
   "execution_count": 13,
   "metadata": {},
   "outputs": [],
   "source": [
    "df_temp = df_image1.to_dict(orient='index')\n",
    "db_dict = {}\n",
    "\n",
    "for i, row in df_temp.items():\n",
    "    filename = row['filename']\n",
    "    if filename not in db_dict.keys():\n",
    "        db_dict[filename] = {}\n",
    "        db_dict[filename]['Species'] = []\n",
    "        db_dict[filename]['CountMedian'] = []\n",
    "    db_dict[filename]['Species'].append(row['species'])\n",
    "    db_dict[filename]['CountMedian'].append(row['count'])"
   ]
  },
  {
   "cell_type": "code",
   "execution_count": 14,
   "metadata": {},
   "outputs": [
    {
     "data": {
      "text/plain": [
       "{'CountMedian': ['2'], 'Species': ['zebra']}"
      ]
     },
     "execution_count": 14,
     "metadata": {},
     "output_type": "execute_result"
    }
   ],
   "source": [
    "# checking the dictionary\n",
    "db_dict['SER/S1/B05/B05_R1/S1_B05_R1_PICT0038.JPG']"
   ]
  },
  {
   "cell_type": "code",
   "execution_count": 15,
   "metadata": {},
   "outputs": [],
   "source": [
    "def decode_record(serialized_example):\n",
    "    context_features = {\n",
    "                        'image/filename': tf.FixedLenFeature([], tf.string),\n",
    "                        'image/encoded': tf.FixedLenFeature([], tf.string),\n",
    "                        'image/format': tf.FixedLenFeature([], tf.string),\n",
    "                        \"image/detection/bbox/xmin\" : tf.VarLenFeature(tf.float32),\n",
    "                        \"image/detection/bbox/xmax\" : tf.VarLenFeature(tf.float32),\n",
    "                        \"image/detection/bbox/ymin\" : tf.VarLenFeature(tf.float32),\n",
    "                        \"image/detection/bbox/ymax\" : tf.VarLenFeature(tf.float32),\n",
    "                        \"image/detection/label\" : tf.VarLenFeature(tf.int64),\n",
    "                        \"image/detection/score\" : tf.VarLenFeature(tf.float32)\n",
    "                    }\n",
    "\n",
    "\n",
    "    context, sequence = tf.parse_single_sequence_example(serialized=serialized_example,\n",
    "                                              context_features=context_features,\n",
    "#                                               sequence_features=sequence_features,\n",
    "                                              example_name=None,\n",
    "                                              name=None)\n",
    "\n",
    "    return ({k: v for k, v in context.items()},{k: v for k, v in sequence.items()})"
   ]
  },
  {
   "cell_type": "code",
   "execution_count": 16,
   "metadata": {},
   "outputs": [],
   "source": [
    "filename_list = ['/home/ubuntu/data/tensorflow/my_workspace/training_demo/Predictions/snapshot_serengeti_s01_s06-0-10000.record']\n",
    "batch_size = 16\n",
    "dataset = tf.data.Dataset.from_tensor_slices(filename_list)\n",
    "dataset = tf.data.TFRecordDataset(dataset)\n",
    "# dataset = dataset.shuffle(buffer_size=batch_size)\n",
    "# dataset = dataset.repeat(1)\n",
    "dataset = dataset.map(lambda x: decode_record(serialized_example=x)).batch(batch_size)\n",
    "\n",
    "iterator = dataset.make_one_shot_iterator() # create the iterator\n",
    "batch_data = iterator.get_next()\n",
    "\n",
    "# print(dataset.output_types)\n",
    "# print(dataset.output_shapes) "
   ]
  },
  {
   "cell_type": "code",
   "execution_count": 17,
   "metadata": {
    "scrolled": true
   },
   "outputs": [
    {
     "name": "stdout",
     "output_type": "stream",
     "text": [
      "groundtruth: ['zebra'] ['1'] \t \t predictions: ['zebra'] [1]\n",
      "groundtruth: ['zebra'] ['1'] \t \t predictions: ['zebra'] [1]\n",
      "groundtruth: ['zebra'] ['1'] \t \t predictions: ['zebra'] [1]\n",
      "groundtruth: ['zebra'] ['1'] \t \t predictions: ['zebra'] [1]\n",
      "groundtruth: ['zebra'] ['1'] \t \t predictions: [] []\n",
      "groundtruth: ['gazellethomsons'] ['1'] \t \t predictions: ['gazelleThomsons'] [1]\n",
      "------------------------ NO GROUNDTRUTH FOUND ------------------------\n",
      "groundtruth: ['gazellethomsons'] ['1'] \t \t predictions: ['gazelleThomsons'] [1]\n",
      "------------------------ NO GROUNDTRUTH FOUND ------------------------\n",
      "groundtruth: ['gazellethomsons'] ['1'] \t \t predictions: ['gazelleThomsons'] [1]\n",
      "------------------------ NO GROUNDTRUTH FOUND ------------------------\n",
      "groundtruth: ['hyenaspotted'] ['1'] \t \t predictions: [] []\n",
      "------------------------ NO GROUNDTRUTH FOUND ------------------------\n",
      "groundtruth: ['warthog'] ['1'] \t \t predictions: ['warthog'] [1]\n",
      "------------------------ NO GROUNDTRUTH FOUND ------------------------\n",
      "groundtruth: ['impala'] ['1'] \t \t predictions: ['gazelleGrants'] [1]\n"
     ]
    }
   ],
   "source": [
    "# batch_data = iterator.get_next()\n",
    "with tf.Session() as sess:\n",
    "    (context, sequence) = sess.run(batch_data)\n",
    "    img = context['image/encoded']\n",
    "    # Detection \n",
    "    filename = context['image/filename']\n",
    "    xmin_d = (context['image/detection/bbox/xmin'])\n",
    "    ymin_d = (context['image/detection/bbox/ymin'])\n",
    "    xmax_d = (context['image/detection/bbox/xmax'])\n",
    "    ymax_d = (context['image/detection/bbox/ymax'])\n",
    "    label_d = (context['image/detection/label'])\n",
    "    score = (context['image/detection/score'])\n",
    "    \n",
    "    score_threshold = 0.5\n",
    "    no_groundtruth = [] # list of mages with no groundtruth\n",
    "    correct_prediction = [] # Storing the image name of the correct predictions\n",
    "    incorrect_prediction = [] # Storing the image name of the incorrect predictions\n",
    "    \n",
    "    for rec_i in range(len(img)):\n",
    "        encoded_jpg_io = io.BytesIO(img[rec_i])\n",
    "        image = Image.open(encoded_jpg_io)\n",
    "        width, height = image.size\n",
    "        \n",
    "        xmins_d, ymins_d, xmaxs_d, ymaxs_d, labels_d, scores = [], [], [], [], [], []\n",
    "        \n",
    "        for j in range(rec_i*75, (rec_i+1)*75):\n",
    "            if xmin_d[0][j][0] == rec_i and score[1][j]>=score_threshold:\n",
    "                xmins_d.append(int(xmin_d[1][j]*width))\n",
    "                ymins_d.append(int(ymin_d[1][j]*height))\n",
    "                xmaxs_d.append(int(xmax_d[1][j]*width))\n",
    "                ymaxs_d.append(int(ymax_d[1][j]*height))\n",
    "                labels_d.append(inv_label_map[label_d[1][j]])\n",
    "                scores.append(round(score[1][j]*100, 1))\n",
    "        \n",
    "        species_p, counts_p = np.unique(labels_d, return_counts=True)      \n",
    "\n",
    "        # Matching the count and species in the Prediction and the groundtruth\n",
    "        # Correct prediction will have matching species and count\n",
    "#         if ground truth information is not present about the count and species then skip?\n",
    "        if db_dict.get('SER/' + filename[rec_i].decode('ascii') + '.JPG'):\n",
    "#             print(db_dict.get('SER/' + filename[rec_i].decode('ascii') + '.JPG'))\n",
    "            gt_species, gt_count = db_dict['SER/' + filename[rec_i].decode('ascii') + '.JPG']['Species'], db_dict['SER/' + filename[rec_i].decode('ascii') + '.JPG']['CountMedian']\n",
    "            print('groundtruth:', gt_species, gt_count, '\\t \\t' ,'predictions:', species_p, counts_p)  \n",
    "        else:\n",
    "            no_groundtruth.append(filename[rec_i].decode('ascii'))\n",
    "            print('------------------------ NO GROUNDTRUTH FOUND ------------------------')   \n",
    "            \n",
    "        # Checking the groundtruth vs prediction"
   ]
  },
  {
   "cell_type": "code",
   "execution_count": 18,
   "metadata": {},
   "outputs": [
    {
     "name": "stdout",
     "output_type": "stream",
     "text": [
      "groundtruth available for:  11\n"
     ]
    }
   ],
   "source": [
    "print('groundtruth available for: ', abs(len(no_groundtruth) - len(img)))"
   ]
  },
  {
   "cell_type": "code",
   "execution_count": 20,
   "metadata": {},
   "outputs": [
    {
     "name": "stdout",
     "output_type": "stream",
     "text": [
      "['a' 'd'] [1 2]\n"
     ]
    }
   ],
   "source": [
    "import numpy as np\n",
    "words = ['d', 'a', 'd']\n",
    "values, counts = np.unique(words, return_counts=True)\n",
    "print(values, counts)"
   ]
  },
  {
   "cell_type": "code",
   "execution_count": 21,
   "metadata": {},
   "outputs": [
    {
     "data": {
      "text/plain": [
       "[1, 0, 3, 2]"
      ]
     },
     "execution_count": 21,
     "metadata": {},
     "output_type": "execute_result"
    }
   ],
   "source": [
    "words, count = ['d', 'a', 'z', 'y'], [2, 1, 5, 10]\n",
    "m = sorted(range(len(words)), key=lambda k: words[k])\n",
    "sorted(words), [count[i] for i in m] \n",
    "m"
   ]
  },
  {
   "cell_type": "markdown",
   "metadata": {},
   "source": [
    "### Build Module for taking in the predictions and groundtruth and outputting consolidated file:\n",
    "- images with correct predictions\n",
    "- images with incorrect predictions\n",
    "\n",
    "Take the intersection of LILA (prediction) with the groundtruth (MSI) data <br>\n",
    "Prediction data - '/home/ubuntu/data/tensorflow/my_workspace/training_demo/Predictions/snapshot_serengeti_s01_s06-0-10000.csv' <br>\n",
    "groundtruth data - df_image1 (created above)"
   ]
  },
  {
   "cell_type": "code",
   "execution_count": 173,
   "metadata": {},
   "outputs": [],
   "source": [
    "%%writefile /home/ubuntu/data/tensorflow/my_workspace/camera-trap-detection/data_prep/data_prep_utils.py\n",
    "\"\"\"module for helper functions needed throughout \"\"\"\n",
    "\n",
    "import json\n",
    "\n",
    "def get_label_map_from_json(json_file):\n",
    "    with open(json_file, 'r') as f:\n",
    "        label_map = json.load(f)\n",
    "        \n",
    "    return label_map"
   ]
  },
  {
   "cell_type": "code",
   "execution_count": 12,
   "metadata": {},
   "outputs": [],
   "source": [
    "%%writefile /home/ubuntu/data/tensorflow/my_workspace/camera-trap-detection/bootstrapping/prediction_groundtruth_consolidation.py\n",
    "\"\"\" Compares the predictions and the ground truth classifications for \n",
    "bootstrapping.\n",
    "\"\"\"\n",
    "import pandas as pd\n",
    "import json, csv\n",
    "\n",
    "def flag_df(df):\n",
    "    if (11 <= df['prediction_counts'] <= 50):\n",
    "        return '11-50'\n",
    "    elif df['prediction_counts']>=51:\n",
    "        return '51+'\n",
    "    else:\n",
    "        return df['prediction_counts']\n",
    "\n",
    "def prediction_count_aggregation(dataframe):\n",
    "    \"\"\" Takes in the predictions from the output of\n",
    "    https://github.com/Manish-rai21bit/camera-trap-detection/blob/master/predictorExtractor_main.py\n",
    "    \n",
    "    and aggregate the data by filename and species\n",
    "    \"\"\"\n",
    "    prediction_df = pd.read_csv(dataframe)\n",
    "    \n",
    "    # Aggregate predictions per image and species\n",
    "    prediction_df_agg = pd.DataFrame(prediction_df.groupby(by=['filename', 'labels'], as_index=False)['score'].count())\\\n",
    "                    .rename(columns = {'score':'prediction_counts'}, index=str)\n",
    "    # Rolling up the counts 11-50 and 51>\n",
    "    prediction_df_agg['prediction_counts'] = prediction_df_agg.apply(flag_df, axis = 1)\n",
    "    \n",
    "    return prediction_df_agg\n",
    "\n",
    "\n",
    "def process_grondtruth_classification_data(dataframe, \n",
    "                                           label_map_df):\n",
    "    \"\"\"Process the data \"\"\"\n",
    "    groundtruth_df = pd.read_csv(dataframe)\n",
    "    # data preprocessing \n",
    "    groundtruth_df_img = groundtruth_df[['species', 'count', 'image1']]\n",
    "    groundtruth_df_img = groundtruth_df_img.rename(columns = {'image1':'filename'}, index=str)\n",
    "\n",
    "    groundtruth_df_img2 = groundtruth_df[['species', 'count', 'image2']]\n",
    "    groundtruth_df_img2 = groundtruth_df_img2.rename(columns = {'image2':'filename'}, index=str)\n",
    "\n",
    "    groundtruth_df_img3 = groundtruth_df[['species', 'count', 'image3']]\n",
    "    groundtruth_df_img3 = groundtruth_df_img3.rename(columns = {'image3':'filename'}, index=str)\n",
    "\n",
    "    groundtruth_df_img.append(groundtruth_df_img2)\n",
    "    groundtruth_df_img.append(groundtruth_df_img3)\n",
    "\n",
    "    # The groundtruth/classification data has a lot empty images. removing the empty images\n",
    "    groundtruth_df_img = groundtruth_df_img[groundtruth_df_img['species']!= 'empty']\n",
    "\n",
    "    # Bring in the label map information\n",
    "    groundtruth_df_img = pd.merge(left=groundtruth_df_img,\n",
    "                            right=label_map_df,\n",
    "                            left_on=groundtruth_df_img['species'].str.lower(),\n",
    "                            right_on=label_map_df['species'].str.lower(),\n",
    "                            how='inner')\n",
    "    groundtruth_df_img = groundtruth_df_img[['filename', 'species_x', 'labels', 'count']]\\\n",
    "                            .rename(columns = {'species_x':'species', 'count': 'groundtruth_counts'}, index=str)\n",
    "    groundtruth_df_img['filename'] = [big_filename[4:-4]for big_filename in groundtruth_df_img['filename']]\n",
    "    \n",
    "    return groundtruth_df_img\n",
    "\n",
    "def prediction_groundtruth_intersection_dataframe(groundtruth_dataframe, \n",
    "                                                  prediction_dataframe\n",
    "                                                 ):\n",
    "    \"\"\"Returns dataframe with images in the intersection of groundtruth and prediction images\n",
    "    prediction data aggregated by image, species and count, and groundtruth data\n",
    "    list of images that intersect\n",
    "    \"\"\"\n",
    "    intersection_images = list(set(groundtruth_dataframe.filename).intersection(set(prediction_dataframe.filename)))\n",
    "    groundtruth_dataframe_intersection = groundtruth_dataframe.loc[groundtruth_dataframe['filename'].isin(intersection_images)]\n",
    "    prediction_dataframe_intersection = prediction_dataframe.loc[prediction_dataframe['filename'].isin(intersection_images)]\n",
    "    \n",
    "    return groundtruth_dataframe_intersection, prediction_dataframe_intersection, intersection_images\n",
    "\n",
    "\n",
    "def merged_groundtruth_prediction_dataframe(groundtruth_dataframe,\n",
    "                                            prediction_dataframe,\n",
    "                                            join_type='outer'):\n",
    "    \"\"\"returns dataframe with groundtruth dataframe and the predicted datframe merged\"\"\"\n",
    "    groundtruth_prediction_dataframe = pd.merge(left=groundtruth_dataframe,\n",
    "                                                right=prediction_dataframe,\n",
    "                                                left_on=['filename', 'labels'],\n",
    "                                                right_on=['filename', 'labels'],\n",
    "                                                how=join_type)\n",
    "    return groundtruth_prediction_dataframe"
   ]
  },
  {
   "cell_type": "code",
   "execution_count": null,
   "metadata": {},
   "outputs": [],
   "source": [
    "%%writefile /home/ubuntu/data/tensorflow/my_workspace/camera-trap-detection/prediction_groundtruth_consolidation_main.py\n",
    "\"\"\" Main function for generating consolidated view for the\n",
    "groundtruth and predictions.\n",
    "\n",
    "python prediction_groundtruth_consolidation_main.py \\\n",
    "--prediction_csv_path '/home/ubuntu/data/tensorflow/my_workspace/training_demo/Predictions/snapshot_serengeti_test2.csv' \\\n",
    "--groundtruth_csv_path '/home/ubuntu/data/tensorflow/my_workspace/camera-trap-detection/data/LILA/db_export_season_all_cleaned.csv' \\\n",
    "--label_map_json '/home/ubuntu/data/tensorflow/my_workspace/camera-trap-detection/data/LILA/label_map.json' \\\n",
    "--outfile '/home/ubuntu/data/tensorflow/my_workspace/camera-trap-detection/test.csv'\n",
    "\"\"\"\n",
    "import argparse \n",
    "import pandas as pd\n",
    "\n",
    "import bootstrapping.prediction_groundtruth_consolidation as pgc\n",
    "import data_prep.data_prep_utils as dataprep_utils\n",
    "\n",
    "\n",
    "if __name__=='__main__':\n",
    "    parser = argparse.ArgumentParser()\n",
    "    parser.add_argument(\n",
    "    \"--prediction_csv_path\", type=str, required=True,\n",
    "    help=\"path to the csv with predicted bounding oxes per record\"\n",
    "    )\n",
    "    parser.add_argument(\n",
    "    \"--groundtruth_csv_path\", type=str, required=True,\n",
    "    help=\"path to the groundtruth classification data from MSI\"\n",
    "    )\n",
    "    parser.add_argument(\n",
    "    \"--label_map_json\", type=str, required=True,\n",
    "    help=\"path to json with label maps\")\n",
    "    parser.add_argument(\n",
    "    \"--outfile\", type=str, required=True,\n",
    "    help=\"path of the output csv to be created\")\n",
    "    \n",
    "    args = parser.parse_args()\n",
    "    \n",
    "    label_map_df = pd.DataFrame.from_dict(dataprep_utils.get_label_map_from_json(args.label_map_json), orient='index').reset_index()\n",
    "    label_map_df.columns=['species', 'labels']\n",
    "\n",
    "    prediction_df_agg = pgc.prediction_count_aggregation(args.prediction_csv_path)\n",
    "    groundtruth_df_img = pgc.process_grondtruth_classification_data(args.groundtruth_csv_path, label_map_df)\n",
    "\n",
    "    gt_i, pred_i, intersection_images = pgc.prediction_groundtruth_intersection_dataframe(groundtruth_df_img, \n",
    "                                                      prediction_df_agg\n",
    "                                                     )\n",
    "    df = pgc.merged_groundtruth_prediction_dataframe(gt_i, \\\n",
    "                                            pred_i, \\\n",
    "                                            join_type='outer')\n",
    "    print(\"Writing File to location: \", args.outfile)\n",
    "    df.to_csv(args.outfile, index=False)"
   ]
  },
  {
   "cell_type": "markdown",
   "metadata": {},
   "source": [
    "**Analysing the predictions and groundtruth**"
   ]
  },
  {
   "cell_type": "markdown",
   "metadata": {},
   "source": [
    "### Identifyng the images for training loop, zooniverse loop\n",
    "1. Read the consolidated CSV (Data block)\n",
    "2. Identify correct and incorrect predictions (process block) and\n",
    "3. Write the training loop images and zooniverse loop images to json\n",
    "4. Create TFRecord for the training loop data with predicted bounding boxes"
   ]
  },
  {
   "cell_type": "code",
   "execution_count": 10,
   "metadata": {},
   "outputs": [
    {
     "name": "stdout",
     "output_type": "stream",
     "text": [
      "Overwriting /home/ubuntu/data/tensorflow/my_workspace/camera-trap-detection/bootstrapping/bootstrapping_data_prep.py\n"
     ]
    }
   ],
   "source": [
    "%%writefile /home/ubuntu/data/tensorflow/my_workspace/camera-trap-detection/bootstrapping/bootstrapping_data_prep.py\n",
    "\"\"\"module for identifying images to be shown to volunteers and images for the training loop\"\"\"\n",
    "import csv\n",
    "import pandas as pd\n",
    "\n",
    "\n",
    "def pred_groundtruth_consolidate_csv_to_dict(pred_groundtruth_consolidate_csv):\n",
    "    \"\"\"This function takes the csv with groundtruth boxes and creates a dictionary object \n",
    "    with labels, groundtruth_count and prediction_count lists in matching orders.\n",
    "    For Example: \n",
    "    {'groundtruth_counts': ['6', '', ''], 'prediction_counts': ['3', '1', '1'], 'labels': ['7', '2', '20']}\n",
    "    We look at this output dictionary element like this:\n",
    "    There are 3 labels in this image/filename - '7', '2', '20'\n",
    "    For '7' there are 6 boxes in groundtruth, and 3 boxes in prediction\n",
    "    For label '2' and '20', there are no groundtruth boxes but the model made false predictions (False positives)\n",
    "    \"\"\"\n",
    "    with open(pred_groundtruth_consolidate_csv, 'r') as csvfile:\n",
    "        csvdata = csv.reader(csvfile, delimiter=',')\n",
    "        header = next(csvdata)\n",
    "\n",
    "        pred_groundtruth_consolidate_dict = {}\n",
    "\n",
    "        for i, row in enumerate(csvdata):\n",
    "            if row[0] not in pred_groundtruth_consolidate_dict:\n",
    "                pred_groundtruth_consolidate_dict[row[0]] = {}\n",
    "                pred_groundtruth_consolidate_dict[row[0]]['labels'] = []\n",
    "                pred_groundtruth_consolidate_dict[row[0]]['groundtruth_counts'] = []\n",
    "                pred_groundtruth_consolidate_dict[row[0]]['prediction_counts'] = []\n",
    "\n",
    "            pred_groundtruth_consolidate_dict[row[0]]['labels'].append(row[2])\n",
    "            pred_groundtruth_consolidate_dict[row[0]]['groundtruth_counts'].append(row[3])\n",
    "            pred_groundtruth_consolidate_dict[row[0]]['prediction_counts'].append(row[4])\n",
    "\n",
    "        return pred_groundtruth_consolidate_dict\n",
    "            \n",
    "\n",
    "def get_correct_incorrect_images(pred_groundtruth_consolidate_dict):\n",
    "    \"\"\"Return a list of images/filenames that have correct, incorrect, and corrected predictions.\n",
    "    corrected_image_species_list: list of tuples with corrected filename and corrected species label\"\"\"\n",
    "    correct_list, corrected_image_species_list, incorrect_list = [], [], []\n",
    "    \n",
    "    for filename, value in pred_groundtruth_consolidate_dict.items():\n",
    "        use_for_train_flag = False\n",
    "        # Checking out the perfect matches\n",
    "        if value['prediction_counts'] == value['groundtruth_counts']:\n",
    "            correct_list.append(filename)\n",
    "        elif value['prediction_counts'] != value['groundtruth_counts'] \\\n",
    "                and len(list(filter(None, value['groundtruth_counts']))) == 1 \\\n",
    "                and '11-50' not in value['groundtruth_counts'] \\\n",
    "                and '51+' not in value['groundtruth_counts'] \\\n",
    "                and '11-50' not in value['prediction_counts'] \\\n",
    "                and '51+' not in value['prediction_counts']:\n",
    "            # if sum of count of boxes in prediction and groundtruth are the same then this can be easily corrected\n",
    "            if sum(pd.to_numeric(list(filter(None, value['groundtruth_counts'])))) == sum(pd.to_numeric(list(filter(None, value['prediction_counts'])))): \n",
    "                # This can be corrected and hence add the filename to the corrected list\n",
    "                correct_label_index = next(i for i, v in enumerate(value['groundtruth_counts']) if v) # index of correct label\n",
    "                corrected_image_species_list.append((filename, value['labels'][correct_label_index]))\n",
    "            else:\n",
    "                incorrect_list.append(filename)\n",
    "        else:\n",
    "            incorrect_list.append(filename)\n",
    "            \n",
    "    return correct_list, corrected_image_species_list, incorrect_list\n",
    "\n",
    "def training_data_prep_from_correct_prediction(prediction_csv_path,\n",
    "                                                correct_list, \n",
    "                                                corrected_image_species_list, \n",
    "                                                label_map\n",
    "                                              ):\n",
    "    \"\"\"Takes in the original CSV with bounding box predictions, filters out the correct pridictions\n",
    "    and corrects the labels for the images that are in the corrected_image_species_list.\n",
    "    Returns a dataframe with correctly predicted bounding boxes that can be used to build the TFRecords\n",
    "    \n",
    "    prediction_csv_path '/home/ubuntu/data/tensorflow/my_workspace/training_demo/Predictions/snapshot_serengeti_test2.csv'\n",
    "    \"\"\"\n",
    "    \n",
    "    predicted_df = pd.read_csv(prediction_csv_path)\n",
    "    inverse_label_map = {v: k for k, v in label_map.items()}\n",
    "\n",
    "    corrected_image_list = [file[0] for file in corrected_image_species_list]\n",
    "    \n",
    "    correct_predicted_df = predicted_df[predicted_df['filename'].isin(correct_list + corrected_image_list)]\n",
    "    correct_predicted_df_dict = correct_predicted_df.to_dict(orient='index')\n",
    "\n",
    "    for i, val in correct_predicted_df_dict.items():\n",
    "        correct_predicted_df_dict[i]['class'] = inverse_label_map[correct_predicted_df_dict[i]['labels']]\n",
    "        if val['filename'] in corrected_image_list:\n",
    "            correct_predicted_df_dict[i]['labels'] = [rec[1] for rec in corrected_image_species_list if val['filename'] in rec[0]][0]\n",
    "\n",
    "    correct_predicted_final_df = pd.DataFrame.from_dict(correct_predicted_df_dict, orient='index')\n",
    "    correct_predicted_final_df = correct_predicted_final_df[['filename', 'class', 'xmin', 'ymin', 'xmax', 'ymax']]\n",
    "    \n",
    "    return correct_predicted_final_df"
   ]
  },
  {
   "cell_type": "code",
   "execution_count": 14,
   "metadata": {},
   "outputs": [
    {
     "name": "stdout",
     "output_type": "stream",
     "text": [
      "Overwriting /home/ubuntu/data/tensorflow/my_workspace/camera-trap-detection/bootstrapping_data_prep_main.py\n"
     ]
    }
   ],
   "source": [
    "%%writefile /home/ubuntu/data/tensorflow/my_workspace/camera-trap-detection/bootstrapping_data_prep_main.py\n",
    "\"\"\"Main function to create a csv with bounding box annotations \n",
    "that will be used to create a TFRecord file for model training\n",
    "\n",
    "python bootstrapping/bootstrapping_data_prep_main.py \\\n",
    "--pred_groundtruth_consolidate_csv '/home/ubuntu/data/tensorflow/my_workspace/camera-trap-detection/test.csv' \\\n",
    "--prediction_csv_path '/home/ubuntu/data/tensorflow/my_workspace/training_demo/Predictions/snapshot_serengeti_test2.csv' \\\n",
    "--label_map_json '/home/ubuntu/data/tensorflow/my_workspace/camera-trap-detection/data/LILA/label_map.json' \\\n",
    "--outfile '/home/ubuntu/data/tensorflow/my_workspace/training_demo/Predictions/snapshot_serengeti_test3.csv'\n",
    "\"\"\"\n",
    "\n",
    "import argparse \n",
    "import pandas as pd\n",
    "\n",
    "import bootstrapping.bootstrapping_data_prep as bdp\n",
    "import data_prep.data_prep_utils as dataprep_utils\n",
    "\n",
    "if __name__=='__main__':\n",
    "    parser = argparse.ArgumentParser()\n",
    "    parser.add_argument(\n",
    "    \"--pred_groundtruth_consolidate_csv\", type=str, required=True,\n",
    "    help=\"path to the csv with predicted and groundtruth box counts info. Fields are\\\n",
    "        filename,species,labels,groundtruth_counts,prediction_counts\"\n",
    "    )\n",
    "    parser.add_argument(\n",
    "    \"--prediction_csv_path\", type=str, required=True,\n",
    "    help=\"path to the csv with the predicted bounding box. This is the output of the code \\\n",
    "    https://github.com/Manish-rai21bit/camera-trap-detection/blob/master/predictorExtractor_main.py\"\n",
    "    )\n",
    "    parser.add_argument(\n",
    "    \"--label_map_json\", type=str, required=True,\n",
    "    help=\"path to the label map json\"\n",
    "    )\n",
    "    parser.add_argument(\n",
    "    \"--outfile\", type=str, required=True,\n",
    "    help=\"path to the csv where the save the csv ready for TFRecord creation\")\n",
    "    \n",
    "    args = parser.parse_args()\n",
    "\n",
    "    pred_groundtruth_consolidate_dict = bdp.pred_groundtruth_consolidate_csv_to_dict(args.pred_groundtruth_consolidate_csv)\n",
    "    correct_list, corrected_image_species_list, incorrect_list = bdp.get_correct_incorrect_images(pred_groundtruth_consolidate_dict)\n",
    "\n",
    "    label_map = dataprep_utils.get_label_map_from_json(args.label_map_json)\n",
    "\n",
    "    correct_predicted_final_df = bdp.training_data_prep_from_correct_prediction(args.prediction_csv_path, \n",
    "                                                    correct_list, \n",
    "                                                    corrected_image_species_list, \\\n",
    "                                                    label_map \n",
    "                                                  )\n",
    "    print(\"Writing File to location: \", args.outfile)\n",
    "    correct_predicted_final_df.to_csv(args.outfile, index=False)"
   ]
  },
  {
   "cell_type": "markdown",
   "metadata": {},
   "source": [
    "#### Analysing bounding box predictions"
   ]
  },
  {
   "cell_type": "code",
   "execution_count": 10,
   "metadata": {},
   "outputs": [
    {
     "data": {
      "image/png": "[encoded data removed]",
      "text/plain": [
       "<Figure size 1152x576 with 2 Axes>"
      ]
     },
     "metadata": {},
     "output_type": "display_data"
    }
   ],
   "source": [
    "import matplotlib.pyplot as plt\n",
    "\n",
    "pred_groundtruth_consolidate_csv = '/home/ubuntu/data/tensorflow/my_workspace/camera-trap-detection/test.csv'\n",
    "df_vis = pd.read_csv(pred_groundtruth_consolidate_csv)\n",
    "# df_vis1 = df_vis.groupby(by=['filename'], as_index=False)['groundtruth_counts', 'prediction_counts'].sum()\n",
    "\n",
    "df_vis2 = df_vis.groupby(by=['groundtruth_counts', 'prediction_counts'], as_index=False)['filename'].count()\n",
    "df_vis2 = df_vis2.rename(columns={'filename': 'count_cases'}, index=str)\n",
    "\n",
    "fig, ax = plt.subplots(figsize=(16, 8))\n",
    "im = ax.scatter(df_vis2['groundtruth_counts'], df_vis2['prediction_counts'], c=df_vis2['count_cases'],\\\n",
    "            s=2*df_vis2['count_cases'], alpha=0.75)\n",
    "ax.set_xticklabels(['1', '2', '3', '4', '5', '6', '7', '8', '9', '10', '11-50'])\n",
    "ax.set_yticks(range(1, 10, 1))\n",
    "ax.set_title('Ground Truth vs Prediction Counts')\n",
    "ax.set_xlabel('Ground Truth counts')\n",
    "ax.set_ylabel('Prediction Counts')\n",
    "fig.colorbar(im)\n",
    "ax.grid()\n",
    "ax.plot([1, 10+1], [2, 10+1], 'r-')\n",
    "plt.show()\n"
   ]
  },
  {
   "cell_type": "code",
   "execution_count": 46,
   "metadata": {},
   "outputs": [
    {
     "name": "stderr",
     "output_type": "stream",
     "text": [
      "/home/ubuntu/test_env/lib/python3.5/site-packages/matplotlib/axes/_axes.py:6571: UserWarning: The 'normed' kwarg is deprecated, and has been replaced by the 'density' kwarg.\n",
      "  warnings.warn(\"The 'normed' kwarg is deprecated, and has been \"\n"
     ]
    },
    {
     "data": {
      "image/png": "[encoded data removed]",
      "text/plain": [
       "<Figure size 936x432 with 3 Axes>"
      ]
     },
     "metadata": {},
     "output_type": "display_data"
    }
   ],
   "source": [
    "df_vis1 = df_vis.fillna(0)[['filename', 'groundtruth_counts', 'prediction_counts']]\\\n",
    "            .loc[df_vis.groundtruth_counts !='11-50']\n",
    "df_vis1.groundtruth_counts = pd.to_numeric(df_vis1.groundtruth_counts)\n",
    "df_vis2 = df_vis1.groupby(by=['filename'], as_index=False)['groundtruth_counts', 'prediction_counts'].sum()\n",
    "df_vis2.head()\n",
    "\n",
    "\n",
    "fig, (ax1, ax2) = plt.subplots(figsize=(13, 6), ncols=2)\n",
    "\n",
    "x = df_vis2.groundtruth_counts\n",
    "y = df_vis2.prediction_counts\n",
    "\n",
    "limit = 10\n",
    "edges = np.arange(limit+1) + 0.5\n",
    "bins = edges\n",
    "\n",
    "out1 = ax1.hist2d(x, y, bins=bins, cmap=plt.viridis(), norm=mco.LogNorm())\n",
    "img1 = out1[-1]\n",
    "\n",
    "ax1.set_xlabel('Ground Truth counts')\n",
    "ax1.set_ylabel('Prediction Counts')\n",
    "\n",
    "cbar1 = fig.colorbar(img1, ax=ax1, pad=0)\n",
    "cbar1.set_label('Count of images')\n",
    "\n",
    "ax1.plot([0, limit+1], [0, limit+1], 'r-')\n",
    "\n",
    "# ------------------------- #\n",
    "x = df_vis2.groundtruth_counts\n",
    "y = df_vis2.prediction_counts\n",
    "\n",
    "limit = 10\n",
    "edges = np.arange(limit+1) + 0.5\n",
    "bins = edges\n",
    "\n",
    "out2 = ax2.hist(x, bins=bins, normed=False)\n",
    "img2 = out2[-1]\n",
    "ax2.set_title('Groundtruth vs count of images')\n",
    "ax2.set_xlabel('Ground Truth Counts')\n",
    "ax2.set_ylabel('Number of images')\n",
    "ax2.grid()\n",
    "\n",
    "fig.tight_layout()"
   ]
  },
  {
   "cell_type": "code",
   "execution_count": 110,
   "metadata": {},
   "outputs": [
    {
     "data": {
      "text/plain": [
       "('S1/C06/C06_R4/S1_C06_R4_PICT0512',\n",
       " ('S1/C04/C04_R3/S1_C04_R3_PICT0449', '7'),\n",
       " 'S1/E02/E02_R5/S1_E02_R5_PICT0025')"
      ]
     },
     "execution_count": 110,
     "metadata": {},
     "output_type": "execute_result"
    }
   ],
   "source": [
    "correct_list[0], corrected_image_species_list[0], incorrect_list[0]"
   ]
  },
  {
   "cell_type": "code",
   "execution_count": 58,
   "metadata": {
    "scrolled": false
   },
   "outputs": [
    {
     "name": "stdout",
     "output_type": "stream",
     "text": [
      "correct:  {'prediction_counts': ['2'], 'groundtruth_counts': ['2'], 'labels': ['7']}\n",
      "can be fixed:  {'prediction_counts': ['1', '1', '1'], 'groundtruth_counts': ['1', '', ''], 'labels': ['7', '2', '20']}\n",
      "can be fixed:  {'prediction_counts': ['1', '1'], 'groundtruth_counts': ['1', ''], 'labels': ['7', '2']}\n",
      "For Zooniverse:  {'prediction_counts': ['5', '1'], 'groundtruth_counts': ['7', ''], 'labels': ['11', '9']}\n",
      "For Zooniverse:  {'prediction_counts': ['3', '1'], 'groundtruth_counts': ['11-50', ''], 'labels': ['14', '17']}\n"
     ]
    }
   ],
   "source": [
    "filename = pred_groundtruth_consolidate_csv_to_dict(pred_groundtruth_consolidate_csv)\n",
    "\n",
    "print('correct: ', filename['S1/C05/C05_R3/S1_C05_R3_PICT1760'])\n",
    "print('can be fixed: ', filename['S1/D07/D07_R1/S1_D07_R1_PICT0111'])\n",
    "print('can be fixed: ', filename['S1/C05/C05_R3/S1_C05_R3_PICT1817'])\n",
    "print('For Zooniverse: ', filename['S1/C06/C06_R4/S1_C06_R4_PICT0452'])\n",
    "print('For Zooniverse: ', filename['S1/D02/D02_R1/S1_D02_R1_PICT1532'])\n"
   ]
  },
  {
   "cell_type": "code",
   "execution_count": 104,
   "metadata": {},
   "outputs": [
    {
     "data": {
      "text/plain": [
       "'2'"
      ]
     },
     "execution_count": 104,
     "metadata": {},
     "output_type": "execute_result"
    }
   ],
   "source": [
    "gt = ['', '2', '3']\n",
    "pred = ['1', '1']\n",
    "l = ['6', '7']\n",
    "# i = next(i for i, v in enumerate(gt) if v)\n",
    "# i\n",
    "gt[1]"
   ]
  },
  {
   "cell_type": "code",
   "execution_count": 79,
   "metadata": {},
   "outputs": [
    {
     "data": {
      "text/plain": [
       "3"
      ]
     },
     "execution_count": 79,
     "metadata": {},
     "output_type": "execute_result"
    }
   ],
   "source": [
    "sum(pd.to_numeric(list(filter(None, ['1', '', '2']))))\n",
    "# list(filter(None, ['1', '', '2']))"
   ]
  },
  {
   "cell_type": "code",
   "execution_count": null,
   "metadata": {},
   "outputs": [],
   "source": []
  }
 ],
 "metadata": {
  "kernelspec": {
   "display_name": "Python 3",
   "language": "python",
   "name": "python3"
  },
  "language_info": {
   "codemirror_mode": {
    "name": "ipython",
    "version": 3
   },
   "file_extension": ".py",
   "mimetype": "text/x-python",
   "name": "python",
   "nbconvert_exporter": "python",
   "pygments_lexer": "ipython3",
   "version": "3.5.2"
  }
 },
 "nbformat": 4,
 "nbformat_minor": 2
}
