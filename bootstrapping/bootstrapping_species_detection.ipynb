{
 "cells": [
  {
   "cell_type": "markdown",
   "metadata": {},
   "source": [
    "### Bootstrapping the bounding boxes:\n",
    "In this step we will use the finetuned model to generate new bounding boxes on the data that the model has not seen. The correctly predicted boxes will be used to further finetune the model and the incorrect boxes will be used to manually draw the bounding boxes in the images.\n",
    "\n",
    "Steps:\n",
    "1. Get the species and count from the preidcted bounding boxes (data in the folder - training_demo/Predictions/)\n",
    "-- This is a TFRecord \n",
    "\n",
    "2. The LILA dataset does not have information on count and so I will use the concensus data for this information"
   ]
  },
  {
   "cell_type": "code",
   "execution_count": 1,
   "metadata": {},
   "outputs": [],
   "source": [
    "#import pandas as pd\n",
    "import csv, os, sys, io\n",
    "import operator\n",
    "import tensorflow as tf\n",
    "import json\n",
    "import pandas as pd\n",
    "import numpy as np\n",
    "import matplotlib.pyplot as plt\n",
    "import matplotlib.patches as patches\n",
    "sys.path.append('/home/ubuntu/data/tensorflow/my_workspace/camera-trap-detection/data/')\n",
    "from utils import dataset_util\n",
    "#Added this to handle the truncation error while decoding the jpeg\n",
    "from PIL import ImageFile\n",
    "from PIL import Image\n",
    "ImageFile.LOAD_TRUNCATED_IMAGES = True\n",
    "\n",
    "pd.options.display.max_columns = 100"
   ]
  },
  {
   "cell_type": "code",
   "execution_count": 2,
   "metadata": {},
   "outputs": [],
   "source": [
    "Project_filepath = \"/home/ubuntu/data/tensorflow/my_workspace/training_demo/\""
   ]
  },
  {
   "cell_type": "code",
   "execution_count": 10,
   "metadata": {},
   "outputs": [
    {
     "name": "stdout",
     "output_type": "stream",
     "text": [
      "(864619, 3)\n",
      "(3198737, 10)\n",
      "(49, 2)\n"
     ]
    }
   ],
   "source": [
    "with open('../data/LILA/SnapshotSerengeti.json', 'r') as f:\n",
    "    dict1 = json.load(f)\n",
    "\n",
    "# read the bounding box annotations and the image information to dataframes\n",
    "df_annotations = pd.DataFrame(dict1['annotations'])\n",
    "# Removing the unknown category, humans and empty from the dataset\n",
    "df_annotations = df_annotations.loc[~df_annotations['category_id'].isin([1000, 0, 1])]\n",
    "print(df_annotations.shape)\n",
    "df_images = pd.DataFrame(dict1['images'])\n",
    "print(df_images.shape)\n",
    "df_categories = pd.DataFrame(dict1['categories'])\n",
    "print(df_categories.shape)"
   ]
  },
  {
   "cell_type": "code",
   "execution_count": 11,
   "metadata": {},
   "outputs": [
    {
     "data": {
      "text/html": [
       "<div>\n",
       "<style scoped>\n",
       "    .dataframe tbody tr th:only-of-type {\n",
       "        vertical-align: middle;\n",
       "    }\n",
       "\n",
       "    .dataframe tbody tr th {\n",
       "        vertical-align: top;\n",
       "    }\n",
       "\n",
       "    .dataframe thead th {\n",
       "        text-align: right;\n",
       "    }\n",
       "</style>\n",
       "<table border=\"1\" class=\"dataframe\">\n",
       "  <thead>\n",
       "    <tr style=\"text-align: right;\">\n",
       "      <th></th>\n",
       "      <th>category_id</th>\n",
       "      <th>id</th>\n",
       "      <th>image_id</th>\n",
       "    </tr>\n",
       "  </thead>\n",
       "  <tbody>\n",
       "    <tr>\n",
       "      <th>5</th>\n",
       "      <td>2</td>\n",
       "      <td>94cdea31-ad6d-11e8-88e9-000d3a062ba9</td>\n",
       "      <td>S1/B04/B04_R1/S1_B04_R1_PICT0006</td>\n",
       "    </tr>\n",
       "    <tr>\n",
       "      <th>6</th>\n",
       "      <td>3</td>\n",
       "      <td>94cdea33-ad6d-11e8-88e9-000d3a062ba9</td>\n",
       "      <td>S1/B04/B04_R1/S1_B04_R1_PICT0007</td>\n",
       "    </tr>\n",
       "    <tr>\n",
       "      <th>7</th>\n",
       "      <td>4</td>\n",
       "      <td>94cdea35-ad6d-11e8-88e9-000d3a062ba9</td>\n",
       "      <td>S1/B04/B04_R1/S1_B04_R1_PICT0008</td>\n",
       "    </tr>\n",
       "    <tr>\n",
       "      <th>8</th>\n",
       "      <td>5</td>\n",
       "      <td>94cdea37-ad6d-11e8-88e9-000d3a062ba9</td>\n",
       "      <td>S1/B04/B04_R1/S1_B04_R1_PICT0009</td>\n",
       "    </tr>\n",
       "    <tr>\n",
       "      <th>11</th>\n",
       "      <td>5</td>\n",
       "      <td>94cdea3d-ad6d-11e8-88e9-000d3a062ba9</td>\n",
       "      <td>S1/B04/B04_R1/S1_B04_R1_PICT0012</td>\n",
       "    </tr>\n",
       "  </tbody>\n",
       "</table>\n",
       "</div>"
      ],
      "text/plain": [
       "    category_id                                    id  \\\n",
       "5             2  94cdea31-ad6d-11e8-88e9-000d3a062ba9   \n",
       "6             3  94cdea33-ad6d-11e8-88e9-000d3a062ba9   \n",
       "7             4  94cdea35-ad6d-11e8-88e9-000d3a062ba9   \n",
       "8             5  94cdea37-ad6d-11e8-88e9-000d3a062ba9   \n",
       "11            5  94cdea3d-ad6d-11e8-88e9-000d3a062ba9   \n",
       "\n",
       "                            image_id  \n",
       "5   S1/B04/B04_R1/S1_B04_R1_PICT0006  \n",
       "6   S1/B04/B04_R1/S1_B04_R1_PICT0007  \n",
       "7   S1/B04/B04_R1/S1_B04_R1_PICT0008  \n",
       "8   S1/B04/B04_R1/S1_B04_R1_PICT0009  \n",
       "11  S1/B04/B04_R1/S1_B04_R1_PICT0012  "
      ]
     },
     "execution_count": 11,
     "metadata": {},
     "output_type": "execute_result"
    }
   ],
   "source": [
    "df_annotations.head()"
   ]
  },
  {
   "cell_type": "code",
   "execution_count": 12,
   "metadata": {
    "scrolled": true
   },
   "outputs": [
    {
     "data": {
      "text/html": [
       "<div>\n",
       "<style scoped>\n",
       "    .dataframe tbody tr th:only-of-type {\n",
       "        vertical-align: middle;\n",
       "    }\n",
       "\n",
       "    .dataframe tbody tr th {\n",
       "        vertical-align: top;\n",
       "    }\n",
       "\n",
       "    .dataframe thead th {\n",
       "        text-align: right;\n",
       "    }\n",
       "</style>\n",
       "<table border=\"1\" class=\"dataframe\">\n",
       "  <thead>\n",
       "    <tr style=\"text-align: right;\">\n",
       "      <th></th>\n",
       "      <th>datetime</th>\n",
       "      <th>file_name</th>\n",
       "      <th>frame_num</th>\n",
       "      <th>height</th>\n",
       "      <th>id</th>\n",
       "      <th>location</th>\n",
       "      <th>season</th>\n",
       "      <th>seq_id</th>\n",
       "      <th>seq_num_frames</th>\n",
       "      <th>width</th>\n",
       "    </tr>\n",
       "  </thead>\n",
       "  <tbody>\n",
       "    <tr>\n",
       "      <th>0</th>\n",
       "      <td>2010-07-18 16:26:14</td>\n",
       "      <td>S1/B04/B04_R1/S1_B04_R1_PICT0001.JPG</td>\n",
       "      <td>0</td>\n",
       "      <td>1536</td>\n",
       "      <td>S1/B04/B04_R1/S1_B04_R1_PICT0001</td>\n",
       "      <td>B04</td>\n",
       "      <td>S1</td>\n",
       "      <td>ASG0002kjh</td>\n",
       "      <td>1</td>\n",
       "      <td>2048</td>\n",
       "    </tr>\n",
       "    <tr>\n",
       "      <th>1</th>\n",
       "      <td>2010-07-18 16:26:30</td>\n",
       "      <td>S1/B04/B04_R1/S1_B04_R1_PICT0002.JPG</td>\n",
       "      <td>0</td>\n",
       "      <td>1536</td>\n",
       "      <td>S1/B04/B04_R1/S1_B04_R1_PICT0002</td>\n",
       "      <td>B04</td>\n",
       "      <td>S1</td>\n",
       "      <td>ASG0002kji</td>\n",
       "      <td>1</td>\n",
       "      <td>2048</td>\n",
       "    </tr>\n",
       "    <tr>\n",
       "      <th>2</th>\n",
       "      <td>NaN</td>\n",
       "      <td>S1/B04/B04_R1/S1_B04_R1_PICT0003.JPG</td>\n",
       "      <td>0</td>\n",
       "      <td>1536</td>\n",
       "      <td>S1/B04/B04_R1/S1_B04_R1_PICT0003</td>\n",
       "      <td>B04</td>\n",
       "      <td>S1</td>\n",
       "      <td>ASG0002kjj</td>\n",
       "      <td>1</td>\n",
       "      <td>2048</td>\n",
       "    </tr>\n",
       "    <tr>\n",
       "      <th>3</th>\n",
       "      <td>NaN</td>\n",
       "      <td>S1/B04/B04_R1/S1_B04_R1_PICT0004.JPG</td>\n",
       "      <td>0</td>\n",
       "      <td>1536</td>\n",
       "      <td>S1/B04/B04_R1/S1_B04_R1_PICT0004</td>\n",
       "      <td>B04</td>\n",
       "      <td>S1</td>\n",
       "      <td>ASG0002kjk</td>\n",
       "      <td>1</td>\n",
       "      <td>2048</td>\n",
       "    </tr>\n",
       "    <tr>\n",
       "      <th>4</th>\n",
       "      <td>NaN</td>\n",
       "      <td>S1/B04/B04_R1/S1_B04_R1_PICT0005.JPG</td>\n",
       "      <td>0</td>\n",
       "      <td>1536</td>\n",
       "      <td>S1/B04/B04_R1/S1_B04_R1_PICT0005</td>\n",
       "      <td>B04</td>\n",
       "      <td>S1</td>\n",
       "      <td>ASG0002kjl</td>\n",
       "      <td>1</td>\n",
       "      <td>2048</td>\n",
       "    </tr>\n",
       "  </tbody>\n",
       "</table>\n",
       "</div>"
      ],
      "text/plain": [
       "              datetime                             file_name  frame_num  \\\n",
       "0  2010-07-18 16:26:14  S1/B04/B04_R1/S1_B04_R1_PICT0001.JPG          0   \n",
       "1  2010-07-18 16:26:30  S1/B04/B04_R1/S1_B04_R1_PICT0002.JPG          0   \n",
       "2                  NaN  S1/B04/B04_R1/S1_B04_R1_PICT0003.JPG          0   \n",
       "3                  NaN  S1/B04/B04_R1/S1_B04_R1_PICT0004.JPG          0   \n",
       "4                  NaN  S1/B04/B04_R1/S1_B04_R1_PICT0005.JPG          0   \n",
       "\n",
       "   height                                id location season      seq_id  \\\n",
       "0    1536  S1/B04/B04_R1/S1_B04_R1_PICT0001      B04     S1  ASG0002kjh   \n",
       "1    1536  S1/B04/B04_R1/S1_B04_R1_PICT0002      B04     S1  ASG0002kji   \n",
       "2    1536  S1/B04/B04_R1/S1_B04_R1_PICT0003      B04     S1  ASG0002kjj   \n",
       "3    1536  S1/B04/B04_R1/S1_B04_R1_PICT0004      B04     S1  ASG0002kjk   \n",
       "4    1536  S1/B04/B04_R1/S1_B04_R1_PICT0005      B04     S1  ASG0002kjl   \n",
       "\n",
       "   seq_num_frames  width  \n",
       "0               1   2048  \n",
       "1               1   2048  \n",
       "2               1   2048  \n",
       "3               1   2048  \n",
       "4               1   2048  "
      ]
     },
     "execution_count": 12,
     "metadata": {},
     "output_type": "execute_result"
    }
   ],
   "source": [
    "df_images.head()"
   ]
  },
  {
   "cell_type": "code",
   "execution_count": 13,
   "metadata": {},
   "outputs": [
    {
     "data": {
      "text/html": [
       "<div>\n",
       "<style scoped>\n",
       "    .dataframe tbody tr th:only-of-type {\n",
       "        vertical-align: middle;\n",
       "    }\n",
       "\n",
       "    .dataframe tbody tr th {\n",
       "        vertical-align: top;\n",
       "    }\n",
       "\n",
       "    .dataframe thead th {\n",
       "        text-align: right;\n",
       "    }\n",
       "</style>\n",
       "<table border=\"1\" class=\"dataframe\">\n",
       "  <thead>\n",
       "    <tr style=\"text-align: right;\">\n",
       "      <th></th>\n",
       "      <th>id</th>\n",
       "      <th>name</th>\n",
       "    </tr>\n",
       "  </thead>\n",
       "  <tbody>\n",
       "    <tr>\n",
       "      <th>0</th>\n",
       "      <td>0</td>\n",
       "      <td>empty</td>\n",
       "    </tr>\n",
       "    <tr>\n",
       "      <th>1</th>\n",
       "      <td>1</td>\n",
       "      <td>human</td>\n",
       "    </tr>\n",
       "    <tr>\n",
       "      <th>2</th>\n",
       "      <td>2</td>\n",
       "      <td>gazelleGrants</td>\n",
       "    </tr>\n",
       "    <tr>\n",
       "      <th>3</th>\n",
       "      <td>3</td>\n",
       "      <td>reedbuck</td>\n",
       "    </tr>\n",
       "    <tr>\n",
       "      <th>4</th>\n",
       "      <td>4</td>\n",
       "      <td>dikDik</td>\n",
       "    </tr>\n",
       "  </tbody>\n",
       "</table>\n",
       "</div>"
      ],
      "text/plain": [
       "   id           name\n",
       "0   0          empty\n",
       "1   1          human\n",
       "2   2  gazelleGrants\n",
       "3   3       reedbuck\n",
       "4   4         dikDik"
      ]
     },
     "execution_count": 13,
     "metadata": {},
     "output_type": "execute_result"
    }
   ],
   "source": [
    "df_categories.head()"
   ]
  },
  {
   "cell_type": "raw",
   "metadata": {},
   "source": [
    "# 1. Excluding the Schneider data\n",
    "df_schneider_box = pd.read_csv('/home/ubuntu/data/tensorflow/my_workspace/training_demo/Data/GoldStandardBoundBoxCoord.csv')\n",
    "schneider_events = list(set(df_schneider_box['filename']))\n",
    "schneider_events = [word.split('.')[0] for word in schneider_events] # [word[:-4] for word in schneider_events]"
   ]
  },
  {
   "cell_type": "code",
   "execution_count": 18,
   "metadata": {},
   "outputs": [
    {
     "name": "stdout",
     "output_type": "stream",
     "text": [
      "Shape of data:  (864619, 13)\n"
     ]
    }
   ],
   "source": [
    "# 2.\n",
    "# Join the tables df_annotations and df_images\n",
    "df_bb_meta = pd.merge(left=df_annotations, \n",
    "                      right=df_images, \n",
    "                      how='left',\n",
    "                      left_on=df_annotations['image_id'], \n",
    "                      right_on=df_images['id'])\n",
    "df_bb_meta = df_bb_meta.drop(columns=['key_0', 'id_y'])\n",
    "\n",
    "df_bb_meta = pd.merge(left=df_bb_meta, \n",
    "                      right=df_categories, \n",
    "                      how='left',\n",
    "                      left_on=df_bb_meta['category_id'], \n",
    "                      right_on=df_categories['id'])\n",
    "df_bb_meta = df_bb_meta.drop(columns=['key_0', 'id'])\n",
    "print(\"Shape of data: \", df_bb_meta.shape)"
   ]
  },
  {
   "cell_type": "code",
   "execution_count": 17,
   "metadata": {},
   "outputs": [
    {
     "data": {
      "text/html": [
       "<div>\n",
       "<style scoped>\n",
       "    .dataframe tbody tr th:only-of-type {\n",
       "        vertical-align: middle;\n",
       "    }\n",
       "\n",
       "    .dataframe tbody tr th {\n",
       "        vertical-align: top;\n",
       "    }\n",
       "\n",
       "    .dataframe thead th {\n",
       "        text-align: right;\n",
       "    }\n",
       "</style>\n",
       "<table border=\"1\" class=\"dataframe\">\n",
       "  <thead>\n",
       "    <tr style=\"text-align: right;\">\n",
       "      <th></th>\n",
       "      <th>category_id</th>\n",
       "      <th>id_x</th>\n",
       "      <th>image_id</th>\n",
       "      <th>datetime</th>\n",
       "      <th>file_name</th>\n",
       "      <th>frame_num</th>\n",
       "      <th>height</th>\n",
       "      <th>location</th>\n",
       "      <th>season</th>\n",
       "      <th>seq_id</th>\n",
       "      <th>seq_num_frames</th>\n",
       "      <th>width</th>\n",
       "      <th>name</th>\n",
       "    </tr>\n",
       "  </thead>\n",
       "  <tbody>\n",
       "    <tr>\n",
       "      <th>0</th>\n",
       "      <td>2</td>\n",
       "      <td>94cdea31-ad6d-11e8-88e9-000d3a062ba9</td>\n",
       "      <td>S1/B04/B04_R1/S1_B04_R1_PICT0006</td>\n",
       "      <td>2010-07-24 08:20:10</td>\n",
       "      <td>S1/B04/B04_R1/S1_B04_R1_PICT0006.JPG</td>\n",
       "      <td>0</td>\n",
       "      <td>1536</td>\n",
       "      <td>B04</td>\n",
       "      <td>S1</td>\n",
       "      <td>ASG0002kjm</td>\n",
       "      <td>1</td>\n",
       "      <td>2048</td>\n",
       "      <td>gazelleGrants</td>\n",
       "    </tr>\n",
       "    <tr>\n",
       "      <th>1</th>\n",
       "      <td>3</td>\n",
       "      <td>94cdea33-ad6d-11e8-88e9-000d3a062ba9</td>\n",
       "      <td>S1/B04/B04_R1/S1_B04_R1_PICT0007</td>\n",
       "      <td>2010-07-24 10:14:32</td>\n",
       "      <td>S1/B04/B04_R1/S1_B04_R1_PICT0007.JPG</td>\n",
       "      <td>0</td>\n",
       "      <td>1536</td>\n",
       "      <td>B04</td>\n",
       "      <td>S1</td>\n",
       "      <td>ASG0002kjn</td>\n",
       "      <td>1</td>\n",
       "      <td>2048</td>\n",
       "      <td>reedbuck</td>\n",
       "    </tr>\n",
       "  </tbody>\n",
       "</table>\n",
       "</div>"
      ],
      "text/plain": [
       "   category_id                                  id_x  \\\n",
       "0            2  94cdea31-ad6d-11e8-88e9-000d3a062ba9   \n",
       "1            3  94cdea33-ad6d-11e8-88e9-000d3a062ba9   \n",
       "\n",
       "                           image_id             datetime  \\\n",
       "0  S1/B04/B04_R1/S1_B04_R1_PICT0006  2010-07-24 08:20:10   \n",
       "1  S1/B04/B04_R1/S1_B04_R1_PICT0007  2010-07-24 10:14:32   \n",
       "\n",
       "                              file_name  frame_num  height location season  \\\n",
       "0  S1/B04/B04_R1/S1_B04_R1_PICT0006.JPG          0    1536      B04     S1   \n",
       "1  S1/B04/B04_R1/S1_B04_R1_PICT0007.JPG          0    1536      B04     S1   \n",
       "\n",
       "       seq_id  seq_num_frames  width           name  \n",
       "0  ASG0002kjm               1   2048  gazelleGrants  \n",
       "1  ASG0002kjn               1   2048       reedbuck  "
      ]
     },
     "execution_count": 17,
     "metadata": {},
     "output_type": "execute_result"
    }
   ],
   "source": [
    "df_bb_meta.head(n = 2)"
   ]
  },
  {
   "cell_type": "markdown",
   "metadata": {},
   "source": [
    "Run through the TFRecord and check the count and list of animals. logic: <br>\n",
    "1. Predictions Species, count per image\n",
    "2. Ground truth Species, count per image from Concensus data or data prepped by marco"
   ]
  },
  {
   "cell_type": "code",
   "execution_count": 19,
   "metadata": {
    "scrolled": true
   },
   "outputs": [
    {
     "name": "stdout",
     "output_type": "stream",
     "text": [
      "{1: 'human', 2: 'gazelleGrants', 3: 'reedbuck', 4: 'dikDik', 5: 'zebra', 6: 'porcupine', 7: 'gazelleThomsons', 8: 'hyenaSpotted', 9: 'warthog', 10: 'impala', 11: 'elephant', 12: 'giraffe', 13: 'mongoose', 14: 'buffalo', 15: 'hartebeest', 16: 'guineaFowl', 17: 'wildebeest', 18: 'leopard', 19: 'ostrich', 20: 'lionFemale', 21: 'koriBustard', 22: 'otherBird', 23: 'batEaredFox', 24: 'bushbuck', 25: 'jackal', 26: 'cheetah', 27: 'eland', 28: 'aardwolf', 29: 'hippopotamus', 30: 'hyenaStriped', 31: 'aardvark', 32: 'hare', 33: 'baboon', 34: 'vervetMonkey', 35: 'waterbuck', 36: 'secretaryBird', 37: 'serval', 38: 'lionMale', 39: 'topi', 40: 'honeyBadger', 41: 'rodents', 42: 'wildcat', 43: 'civet', 44: 'genet', 45: 'caracal', 46: 'rhinoceros', 47: 'reptiles', 48: 'zorilla'}\n"
     ]
    }
   ],
   "source": [
    "# Loading the json dump  \n",
    "with open('../data/LILA/label_map.json', 'r') as f:\n",
    "     label_map = json.load(f)\n",
    "\n",
    "inv_label_map = {v: k for k, v in label_map.items()}\n",
    "print(inv_label_map)"
   ]
  },
  {
   "cell_type": "markdown",
   "metadata": {},
   "source": [
    "**Information about species and count in groundtruth/classification data (marco's data on msi)**"
   ]
  },
  {
   "cell_type": "code",
   "execution_count": 21,
   "metadata": {},
   "outputs": [
    {
     "name": "stdout",
     "output_type": "stream",
     "text": [
      "(1896164, 3)\n",
      "(1896164, 3)\n",
      "(1896164, 3)\n",
      "(1455270, 3)\n"
     ]
    },
    {
     "data": {
      "text/html": [
       "<div>\n",
       "<style scoped>\n",
       "    .dataframe tbody tr th:only-of-type {\n",
       "        vertical-align: middle;\n",
       "    }\n",
       "\n",
       "    .dataframe tbody tr th {\n",
       "        vertical-align: top;\n",
       "    }\n",
       "\n",
       "    .dataframe thead th {\n",
       "        text-align: right;\n",
       "    }\n",
       "</style>\n",
       "<table border=\"1\" class=\"dataframe\">\n",
       "  <thead>\n",
       "    <tr style=\"text-align: right;\">\n",
       "      <th></th>\n",
       "      <th>species</th>\n",
       "      <th>count</th>\n",
       "      <th>filename</th>\n",
       "    </tr>\n",
       "  </thead>\n",
       "  <tbody>\n",
       "    <tr>\n",
       "      <th>0</th>\n",
       "      <td>human</td>\n",
       "      <td>1</td>\n",
       "      <td>SER/S1/B04/B04_R1/S1_B04_R1_PICT0001.JPG</td>\n",
       "    </tr>\n",
       "    <tr>\n",
       "      <th>1</th>\n",
       "      <td>human</td>\n",
       "      <td>2</td>\n",
       "      <td>SER/S1/B04/B04_R1/S1_B04_R1_PICT0002.JPG</td>\n",
       "    </tr>\n",
       "    <tr>\n",
       "      <th>5</th>\n",
       "      <td>gazellegrants</td>\n",
       "      <td>1</td>\n",
       "      <td>SER/S1/B04/B04_R1/S1_B04_R1_PICT0006.JPG</td>\n",
       "    </tr>\n",
       "    <tr>\n",
       "      <th>6</th>\n",
       "      <td>reedbuck</td>\n",
       "      <td>1</td>\n",
       "      <td>SER/S1/B04/B04_R1/S1_B04_R1_PICT0007.JPG</td>\n",
       "    </tr>\n",
       "    <tr>\n",
       "      <th>7</th>\n",
       "      <td>dikdik</td>\n",
       "      <td>1</td>\n",
       "      <td>SER/S1/B04/B04_R1/S1_B04_R1_PICT0008.JPG</td>\n",
       "    </tr>\n",
       "  </tbody>\n",
       "</table>\n",
       "</div>"
      ],
      "text/plain": [
       "         species count                                  filename\n",
       "0          human     1  SER/S1/B04/B04_R1/S1_B04_R1_PICT0001.JPG\n",
       "1          human     2  SER/S1/B04/B04_R1/S1_B04_R1_PICT0002.JPG\n",
       "5  gazellegrants     1  SER/S1/B04/B04_R1/S1_B04_R1_PICT0006.JPG\n",
       "6       reedbuck     1  SER/S1/B04/B04_R1/S1_B04_R1_PICT0007.JPG\n",
       "7         dikdik     1  SER/S1/B04/B04_R1/S1_B04_R1_PICT0008.JPG"
      ]
     },
     "execution_count": 21,
     "metadata": {},
     "output_type": "execute_result"
    }
   ],
   "source": [
    "# Loaing the classification data created by Marco\n",
    "df = pd.read_csv('../data/LILA/db_export_season_all_cleaned.csv')\n",
    "\n",
    "# data preprocessing \n",
    "df_image1 = df[['species', 'count', 'image1']]\n",
    "df_image1 = df_image1.rename(columns = {'image1':'filename'}, index=str)\n",
    "print(df_image1.shape)\n",
    "\n",
    "df_image2 = df[['species', 'count', 'image2']]\n",
    "df_image2 = df_image2.rename(columns = {'image2':'filename'}, index=str)\n",
    "print(df_image2.shape)\n",
    "\n",
    "df_image3 = df[['species', 'count', 'image3']]\n",
    "df_image3 = df_image1.rename(columns = {'image3':'filename'}, index=str)\n",
    "print(df_image3.shape)\n",
    "\n",
    "df_image1 = df_image1.append(df_image2)\n",
    "df_image1 = df_image1.append(df_image3)\n",
    "\n",
    "# The groundtruth/classification data has a lot empty images. removing the empty images\n",
    "df_image1 = df_image1[df_image1['species']!= 'empty']\n",
    "print(df_image1.shape)\n",
    "\n",
    "df_image1.head()"
   ]
  },
  {
   "cell_type": "raw",
   "metadata": {},
   "source": [
    "Generating distribution of images and counts"
   ]
  },
  {
   "cell_type": "code",
   "execution_count": 59,
   "metadata": {
    "scrolled": false
   },
   "outputs": [
    {
     "data": {
      "image/png": "[encoded data removed]",
      "text/plain": [
       "<Figure size 432x288 with 1 Axes>"
      ]
     },
     "metadata": {},
     "output_type": "display_data"
    },
    {
     "data": {
      "image/png": "[encoded data removed]",
      "text/plain": [
       "<Figure size 432x288 with 1 Axes>"
      ]
     },
     "metadata": {},
     "output_type": "display_data"
    },
    {
     "data": {
      "image/png": "[encoded data removed]",
      "text/plain": [
       "<Figure size 432x288 with 1 Axes>"
      ]
     },
     "metadata": {},
     "output_type": "display_data"
    },
    {
     "data": {
      "image/png": "[encoded data removed]",
      "text/plain": [
       "<Figure size 432x288 with 1 Axes>"
      ]
     },
     "metadata": {},
     "output_type": "display_data"
    },
    {
     "data": {
      "image/png": "[encoded data removed]",
      "text/plain": [
       "<Figure size 432x288 with 1 Axes>"
      ]
     },
     "metadata": {},
     "output_type": "display_data"
    }
   ],
   "source": [
    "df_image2 = df_image1.groupby(by=['species', 'count'], as_index=False).count()\n",
    "df_image3 = df_image2.sort_values(by=['species', 'count'])\\\n",
    "                            .rename(index=str, columns={'filename':'freq'})\n",
    "#df_image1[df_image1['count']=='51+'] #.drop_duplicates(['filename'])#[['count', 'filename']]\n",
    "df_image3\n",
    "\n",
    "for species in ['zebra', 'buffalo', 'impala', 'hartebeest', 'wildebeest']:\n",
    "    df_inter = df_image3[df_image3['species']==species][['count', 'freq']]\n",
    "    ax = df_inter.plot.bar(x='count', y='freq', rot=0, title=species)"
   ]
  },
  {
   "cell_type": "code",
   "execution_count": 243,
   "metadata": {},
   "outputs": [
    {
     "name": "stdout",
     "output_type": "stream",
     "text": [
      "848131\n",
      "0.09473064892098036\n"
     ]
    }
   ],
   "source": [
    "print(len(set(df_image1['filename'])))\n",
    "print((df_image1[df_image1['count']=='51+'].drop_duplicates(['filename']).shape[0]+df_image1[df_image1['count']=='11-50'].drop_duplicates(['filename']).shape[0])/(len(set(df_image1['filename']))))"
   ]
  },
  {
   "cell_type": "code",
   "execution_count": 61,
   "metadata": {},
   "outputs": [],
   "source": [
    "df_temp = df_image1.to_dict(orient='index')\n",
    "db_dict = {}\n",
    "\n",
    "for i, row in df_temp.items():\n",
    "    filename = row['filename']\n",
    "    if filename not in db_dict.keys():\n",
    "        db_dict[filename] = {}\n",
    "        db_dict[filename]['Species'] = []\n",
    "        db_dict[filename]['CountMedian'] = []\n",
    "    db_dict[filename]['Species'].append(row['species'])\n",
    "    db_dict[filename]['CountMedian'].append(row['count'])"
   ]
  },
  {
   "cell_type": "code",
   "execution_count": 62,
   "metadata": {},
   "outputs": [
    {
     "data": {
      "text/plain": [
       "{'CountMedian': ['2'], 'Species': ['zebra']}"
      ]
     },
     "execution_count": 62,
     "metadata": {},
     "output_type": "execute_result"
    }
   ],
   "source": [
    "# checking the dictionary\n",
    "db_dict['SER/S1/B05/B05_R1/S1_B05_R1_PICT0038.JPG']"
   ]
  },
  {
   "cell_type": "code",
   "execution_count": 64,
   "metadata": {},
   "outputs": [],
   "source": [
    "def decode_record(serialized_example):\n",
    "    context_features = {\n",
    "                        'image/filename': tf.FixedLenFeature([], tf.string),\n",
    "                        'image/encoded': tf.FixedLenFeature([], tf.string),\n",
    "                        'image/format': tf.FixedLenFeature([], tf.string),\n",
    "                        \"image/detection/bbox/xmin\" : tf.VarLenFeature(tf.float32),\n",
    "                        \"image/detection/bbox/xmax\" : tf.VarLenFeature(tf.float32),\n",
    "                        \"image/detection/bbox/ymin\" : tf.VarLenFeature(tf.float32),\n",
    "                        \"image/detection/bbox/ymax\" : tf.VarLenFeature(tf.float32),\n",
    "                        \"image/detection/label\" : tf.VarLenFeature(tf.int64),\n",
    "                        \"image/detection/score\" : tf.VarLenFeature(tf.float32)\n",
    "                    }\n",
    "\n",
    "\n",
    "    context, sequence = tf.parse_single_sequence_example(serialized=serialized_example,\n",
    "                                              context_features=context_features,\n",
    "#                                               sequence_features=sequence_features,\n",
    "                                              example_name=None,\n",
    "                                              name=None)\n",
    "\n",
    "    return ({k: v for k, v in context.items()},{k: v for k, v in sequence.items()})"
   ]
  },
  {
   "cell_type": "code",
   "execution_count": 65,
   "metadata": {},
   "outputs": [],
   "source": [
    "filename_list = ['/home/ubuntu/data/tensorflow/my_workspace/training_demo/Predictions/snapshot_serengeti_s01_s06-0-10000.record']\n",
    "batch_size = 16\n",
    "dataset = tf.data.Dataset.from_tensor_slices(filename_list)\n",
    "dataset = tf.data.TFRecordDataset(dataset)\n",
    "# dataset = dataset.shuffle(buffer_size=batch_size)\n",
    "# dataset = dataset.repeat(1)\n",
    "dataset = dataset.map(lambda x: decode_record(serialized_example=x)).batch(batch_size)\n",
    "\n",
    "iterator = dataset.make_one_shot_iterator() # create the iterator\n",
    "batch_data = iterator.get_next()\n",
    "\n",
    "# print(dataset.output_types)\n",
    "# print(dataset.output_shapes) "
   ]
  },
  {
   "cell_type": "code",
   "execution_count": 66,
   "metadata": {
    "scrolled": true
   },
   "outputs": [
    {
     "name": "stdout",
     "output_type": "stream",
     "text": [
      "groundtruth: ['zebra'] ['1'] \t \t predictions: ['zebra'] [1]\n",
      "groundtruth: ['zebra'] ['1'] \t \t predictions: ['zebra'] [1]\n",
      "groundtruth: ['zebra'] ['1'] \t \t predictions: ['zebra'] [1]\n",
      "groundtruth: ['zebra'] ['1'] \t \t predictions: ['zebra'] [1]\n",
      "groundtruth: ['zebra'] ['1'] \t \t predictions: [] []\n",
      "groundtruth: ['gazellethomsons'] ['1'] \t \t predictions: ['gazelleThomsons'] [1]\n",
      "------------------------ NO GROUNDTRUTH FOUND ------------------------\n",
      "groundtruth: ['gazellethomsons'] ['1'] \t \t predictions: ['gazelleThomsons'] [1]\n",
      "------------------------ NO GROUNDTRUTH FOUND ------------------------\n",
      "groundtruth: ['gazellethomsons'] ['1'] \t \t predictions: ['gazelleThomsons'] [1]\n",
      "------------------------ NO GROUNDTRUTH FOUND ------------------------\n",
      "groundtruth: ['hyenaspotted'] ['1'] \t \t predictions: [] []\n",
      "------------------------ NO GROUNDTRUTH FOUND ------------------------\n",
      "groundtruth: ['warthog'] ['1'] \t \t predictions: ['warthog'] [1]\n",
      "------------------------ NO GROUNDTRUTH FOUND ------------------------\n",
      "groundtruth: ['impala'] ['1'] \t \t predictions: ['gazelleGrants'] [1]\n"
     ]
    }
   ],
   "source": [
    "# batch_data = iterator.get_next()\n",
    "with tf.Session() as sess:\n",
    "    (context, sequence) = sess.run(batch_data)\n",
    "    img = context['image/encoded']\n",
    "    # Detection \n",
    "    filename = context['image/filename']\n",
    "    xmin_d = (context['image/detection/bbox/xmin'])\n",
    "    ymin_d = (context['image/detection/bbox/ymin'])\n",
    "    xmax_d = (context['image/detection/bbox/xmax'])\n",
    "    ymax_d = (context['image/detection/bbox/ymax'])\n",
    "    label_d = (context['image/detection/label'])\n",
    "    score = (context['image/detection/score'])\n",
    "    \n",
    "    score_threshold = 0.5\n",
    "    no_groundtruth = [] # list of mages with no groundtruth\n",
    "    correct_prediction = [] # Storing the image name of the correct predictions\n",
    "    incorrect_prediction = [] # Storing the image name of the incorrect predictions\n",
    "    \n",
    "    for rec_i in range(len(img)):\n",
    "        encoded_jpg_io = io.BytesIO(img[rec_i])\n",
    "        image = Image.open(encoded_jpg_io)\n",
    "        width, height = image.size\n",
    "        \n",
    "        xmins_d, ymins_d, xmaxs_d, ymaxs_d, labels_d, scores = [], [], [], [], [], []\n",
    "        \n",
    "        for j in range(rec_i*75, (rec_i+1)*75):\n",
    "            if xmin_d[0][j][0] == rec_i and score[1][j]>=score_threshold:\n",
    "                xmins_d.append(int(xmin_d[1][j]*width))\n",
    "                ymins_d.append(int(ymin_d[1][j]*height))\n",
    "                xmaxs_d.append(int(xmax_d[1][j]*width))\n",
    "                ymaxs_d.append(int(ymax_d[1][j]*height))\n",
    "                labels_d.append(inv_label_map[label_d[1][j]])\n",
    "                scores.append(round(score[1][j]*100, 1))\n",
    "        \n",
    "        species_p, counts_p = np.unique(labels_d, return_counts=True)      \n",
    "#         print(rec_i, filename[rec_i].decode('ascii')  + '.JPG', species_p, counts_p)\n",
    "        \n",
    "        # Matching the count and species in the Prediction and the groundtruth\n",
    "        # Correct prediction will have matching species and count\n",
    "#         if ground truth information is not present about the count and species then skip?\n",
    "        if db_dict.get('SER/' + filename[rec_i].decode('ascii') + '.JPG'):\n",
    "#             print(db_dict.get('SER/' + filename[rec_i].decode('ascii') + '.JPG'))\n",
    "            gt_species, gt_count = db_dict['SER/' + filename[rec_i].decode('ascii') + '.JPG']['Species'], db_dict['SER/' + filename[rec_i].decode('ascii') + '.JPG']['CountMedian']\n",
    "            print('groundtruth:', gt_species, gt_count, '\\t \\t' ,'predictions:', species_p, counts_p)  \n",
    "        else:\n",
    "            no_groundtruth.append(filename[rec_i].decode('ascii'))\n",
    "            print('------------------------ NO GROUNDTRUTH FOUND ------------------------')   \n",
    "            \n",
    "        # Checking the groundtruth vs prediction"
   ]
  },
  {
   "cell_type": "code",
   "execution_count": 222,
   "metadata": {},
   "outputs": [
    {
     "name": "stdout",
     "output_type": "stream",
     "text": [
      "groundtruth available for:  11\n"
     ]
    }
   ],
   "source": [
    "print('groundtruth available for: ', abs(len(no_groundtruth) - len(img)))"
   ]
  },
  {
   "cell_type": "code",
   "execution_count": 223,
   "metadata": {},
   "outputs": [],
   "source": [
    "file_p = [file.decode('ascii') for file in filename]\n",
    "file = [f.split('/')[3] for f in list(db_dict.keys())]\n",
    "# set(file) & set(file_p)\n",
    "# file_p"
   ]
  },
  {
   "cell_type": "code",
   "execution_count": 48,
   "metadata": {},
   "outputs": [
    {
     "name": "stdout",
     "output_type": "stream",
     "text": [
      "['a' 'd'] [1 2]\n"
     ]
    }
   ],
   "source": [
    "import numpy as np\n",
    "words = ['d', 'a', 'd']\n",
    "values, counts = np.unique(words, return_counts=True)\n",
    "print(values, counts)"
   ]
  },
  {
   "cell_type": "code",
   "execution_count": 28,
   "metadata": {},
   "outputs": [
    {
     "data": {
      "text/plain": [
       "[1, 0, 3, 2]"
      ]
     },
     "execution_count": 28,
     "metadata": {},
     "output_type": "execute_result"
    }
   ],
   "source": [
    "words, count = ['d', 'a', 'z', 'y'], [2, 1, 5, 10]\n",
    "m = sorted(range(len(words)), key=lambda k: words[k])\n",
    "sorted(words), [count[i] for i in m] \n",
    "m"
   ]
  },
  {
   "cell_type": "code",
   "execution_count": null,
   "metadata": {},
   "outputs": [],
   "source": []
  }
 ],
 "metadata": {
  "kernelspec": {
   "display_name": "Python 3",
   "language": "python",
   "name": "python3"
  },
  "language_info": {
   "codemirror_mode": {
    "name": "ipython",
    "version": 3
   },
   "file_extension": ".py",
   "mimetype": "text/x-python",
   "name": "python",
   "nbconvert_exporter": "python",
   "pygments_lexer": "ipython3",
   "version": "3.5.2"
  }
 },
 "nbformat": 4,
 "nbformat_minor": 2
}
