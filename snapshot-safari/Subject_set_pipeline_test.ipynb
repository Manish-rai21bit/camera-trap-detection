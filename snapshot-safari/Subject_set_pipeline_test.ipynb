{
 "cells": [
  {
   "cell_type": "markdown",
   "metadata": {},
   "source": [
    "## Subject set creation pipeline\n",
    "This notebook demonstrates the pipeline used for creating the subject set. It includes the following codes:<br>\n",
    "- get_images_from_url\n",
    "- run_inference_graph_images\n",
    "- load_image_into_numpy_array\n",
    "- run_inference_for_single_image\n",
    "\n",
    "These functions have to be arranged in modules so that it can be imported for further use. The modules with these functions are available [here](https://github.com/Manish-rai21bit/camera-trap-detection/tree/master/snapshot-safari)\n",
    "\n",
    "This work is a streamlined version of [PredictAndEvaluate](https://github.com/Manish-rai21bit/camera-trap-detection/blob/master/training_demo/PredictAndEvaluation.ipynb)\n",
    "\n",
    "\n",
    "### Running the inferrence detection can be done for bulk images\n",
    "#running inference on the test images <br>\n",
    "#SPLIT=validation  # or test <br>\n",
    "TF\\_RECORD\\_FILES='/home/ubuntu/data/tensorflow/my_workspace/training_demo/annotations/test_schneider.record' <br>\n",
    "#OUTPUT\\_TFR\\_PATH ='/home/ubuntu/data/tensorflow/my_workspace/training_demo/Predictions/test_schneider.record' <br>\n",
    "OUTPUT\\_INFERENCE\\_GRAPH='/home/ubuntu/data/tensorflow/my_workspace/training_demo/trained-inference-graphs/output\\_inference\\_graph/frozen\\_inference\\_graph.pb' <br>\n",
    "\n",
    "python /home/ubuntu/data/tensorflow/models/research/object_detection/inference/infer_detections.py \\ <br>\n",
    "  --input\\_tfrecord_paths=$TF\\_RECORD\\_FILES$ \\ <br>\n",
    "  --output\\_tfrecord\\_path='/home/ubuntu/data/tensorflow/my_workspace/training_demo/Predictions/test_schneider.record'\\ \n",
    "  --inference\\_graph=$OUTPUT\\_INFERENCE\\_GRAPH$ \\ <br>\n",
    "  --discard\\_image\\_pixels<br>\n",
    "\n",
    "\n",
    "#Check the validity of Predictions"
   ]
  },
  {
   "cell_type": "code",
   "execution_count": 46,
   "metadata": {
    "scrolled": true
   },
   "outputs": [],
   "source": [
    "import numpy as np\n",
    "import os, time\n",
    "import six.moves.urllib as urllib\n",
    "import sys, glob\n",
    "import tarfile\n",
    "import tensorflow as tf\n",
    "import zipfile\n",
    "\n",
    "from collections import defaultdict\n",
    "from io import StringIO\n",
    "from matplotlib import pyplot as plt\n",
    "from PIL import Image\n",
    "\n",
    "# This is needed since the notebook is stored in the object_detection folder.\n",
    "# Adding path to the utility functions\n",
    "sys.path.append(\"/Users/manishrai/Desktop/UMN/Research/Zooniverse/Code/tensorflow/models/research\")\n",
    "from object_detection.utils import ops as utils_ops\n",
    "\n",
    "# Importing the object detection utils\n",
    "# from utils import label_map_util\n",
    "# from utils import visualization_utils as vis_util"
   ]
  },
  {
   "cell_type": "code",
   "execution_count": 47,
   "metadata": {
    "scrolled": true
   },
   "outputs": [],
   "source": [
    "import urllib, urllib.request\n",
    "import os, ssl\n",
    "from object_detection.utils import label_map_util\n",
    "from object_detection.utils import visualization_utils as vis_util\n",
    "# from run_inference_graph import load_image_into_numpy_array, run_inference_for_single_image"
   ]
  },
  {
   "cell_type": "code",
   "execution_count": 48,
   "metadata": {},
   "outputs": [],
   "source": [
    "%matplotlib inline"
   ]
  },
  {
   "cell_type": "code",
   "execution_count": 13,
   "metadata": {},
   "outputs": [],
   "source": [
    "\"\"\"The set of functions here will help in creating the subject set. \n",
    "Subject set creation for bounding box requires the following functions:\n",
    "    get_images_from_url - Download the images from the url's given into a local path\n",
    "    run_inference_graph_images on the downloaded images\"\"\"\n",
    "\n",
    "def get_images_from_url(dataset, image_name_index, url_col_index, outpath):\n",
    "    \"\"\"This function takes in a dataframe and downloads the images from the url's in the column.\n",
    "    arguments:\n",
    "        dataset - dataframe\n",
    "        image_name_index - index of the column containing the image id (capture event id)\n",
    "        url_col_index - index of the columns containing the url for the image id\n",
    "        outpath - path on the local directory where the image has to be saved\n",
    "    return: \n",
    "        Downloaded images in the path - outpath\n",
    "    Usage:\n",
    "        get_images_from_url(df3, image_name_index=0, url_col_index=6, outpath = '/Users/manishrai/Desktop/test_dir/')\"\"\"\n",
    "    if (not os.environ.get('PYTHONHTTPSVERIFY', '') and\n",
    "        getattr(ssl, '_create_unverified_context', None)): \n",
    "        ssl._create_default_https_context = ssl._create_unverified_context\n",
    "        \n",
    "        check = []\n",
    "        \n",
    "        for i in range(dataset.shape[0]):\n",
    "            if dataset.iloc[i][image_name_index] not in check:\n",
    "                j = 0\n",
    "            if dataset.iloc[i][image_name_index] in check:\n",
    "                j += 1 \n",
    "            \n",
    "            print('Processing image: %d' % i)\n",
    "            \n",
    "            urllib.request.urlretrieve(dataset.iloc[i][url_col_index], outpath+'{0}.jpg'.format(dataset.iloc[i][image_name_index] ))\n",
    "            \n",
    "def run_inference_graph_images(PATH_TO_FROZEN_GRAPH, PATH_TO_LABELS, \\\n",
    "                               NUM_CLASSES, TEST_IMAGE_PATHS, min_threshold, \\\n",
    "                               bb_outpath, PATH_TO_BB_HASHMAP):\n",
    "    \"\"\"This function takes in a list of image local-paths and runs it through the trained graph.\n",
    "    Further, using the visualization function it draws bounding boxes on each of the images and \n",
    "    saves it in a local path.\n",
    "    Arguments:\n",
    "        PATH_TO_FROZEN_GRAPH - local path of the trained frozen graph, '/frozen_inference_graph.pb'\n",
    "        PATH_TO_LABELS - local path of the labels (a mapping from class number to class name), 'label_map_focus.pbtxt'\n",
    "        NUM_CLASSES - number of detection classes\n",
    "        TEST_IMAGE_PATHS - list of test image local paths\n",
    "        min_threshold - minimum score threshold for the bounding box to be considered\n",
    "        bb_outpath - local path where to save the images with ounding poxes, /home/ubuntu/data/tensorflow/my_workspace/camera-trap-detection/snapshot-safari/snapshot-serengeti/subject_set_upload/\n",
    "        PATH_TO_BB_HASHMAP - path where bounding box information for the subjects is saved\n",
    "        \n",
    "        \"\"\"\n",
    "    # Loading the frozen graph\n",
    "    detection_graph = tf.Graph()\n",
    "    with detection_graph.as_default():\n",
    "        od_graph_def = tf.GraphDef()\n",
    "        with tf.gfile.GFile(PATH_TO_FROZEN_GRAPH, 'rb') as fid:\n",
    "            serialized_graph = fid.read()\n",
    "            od_graph_def.ParseFromString(serialized_graph)\n",
    "            tf.import_graph_def(od_graph_def, name='')\n",
    "            \n",
    "    label_map = label_map_util.load_labelmap(PATH_TO_LABELS)\n",
    "    categories = label_map_util.convert_label_map_to_categories(label_map, max_num_classes=NUM_CLASSES, use_display_name=True)\n",
    "    category_index = label_map_util.create_category_index(categories)\n",
    "    \n",
    "    bb_hashmap = {}\n",
    "    for image_path in TEST_IMAGE_PATHS:\n",
    "        image = Image.open(image_path)\n",
    "        if (len(np.array(image).shape) == 3):\n",
    "            # the array based representation of the image will be used later in order to prepare the\n",
    "            # result image with boxes and labels on it.\n",
    "            image_np = load_image_into_numpy_array(image)\n",
    "            # Considering the default dpi of matplotlib, calculating the figure size to save\n",
    "            y0, x0, c = image_np.shape\n",
    "            h = y0/72 # the default for dpi for matplotlib is 72\n",
    "            w = x0/72 # the default for dpi for matplotlib is 72\n",
    "            IMAGE_SIZE = (w, h)\n",
    "            # Expand dimensions since the model expects images to have shape: [1, None, None, 3]\n",
    "            image_np_expanded = np.expand_dims(image_np, axis=0)\n",
    "            # Actual detection.\n",
    "            output_dict = run_inference_for_single_image(image_np, detection_graph)\n",
    "            # Visualization of the results of a detection.\n",
    "#             vis_util.visualize_boxes_and_labels_on_image_array(\n",
    "#               image_np,\n",
    "#               output_dict['detection_boxes'],\n",
    "#               output_dict['detection_classes'],\n",
    "#               output_dict['detection_scores'],\n",
    "#               category_index,\n",
    "#               instance_masks=output_dict.get('detection_masks'),\n",
    "#               use_normalized_coordinates=True,\n",
    "#               line_thickness=8,\n",
    "#               min_score_thresh=min_threshold,\n",
    "#               skip_labels=True,\n",
    "#               skip_scores=True,\n",
    "#               agnostic_mode=True\n",
    "#             )\n",
    "#             # make a figure without the frame\n",
    "#             fig = plt.figure(frameon=False, figsize=IMAGE_SIZE)\n",
    "#             # make the content fill the whole figure\n",
    "#             ax = plt.Axes(fig, [0., 0., 1., 1.])\n",
    "#             ax.set_axis_off()\n",
    "#             fig.add_axes(ax)\n",
    "#             # draw your image\n",
    "#             ax.imshow(image_np)\n",
    "#             # saving image with boxes on the disk\n",
    "#             plt.savefig(os.path.join(bb_outpath, '{0}'.format(image_path.split('/')[-1]))) # be careful with the image name \n",
    "#             plt.gcf().clear()\n",
    "            bb_hashmap[image_path.split('/')[-1]] = {\n",
    "              'detection_boxes' : output_dict['detection_boxes'][0:sum(output_dict['detection_scores']>=min_threshold)],\n",
    "              'detection_scores' : output_dict['detection_scores'][0:sum(output_dict['detection_scores']>=min_threshold)],\n",
    "              'detection_classes' : output_dict['detection_classes'][0:sum(output_dict['detection_scores']>=min_threshold)]\n",
    "#               'num_detections' : output_dict['num_detections']\n",
    "          }\n",
    "            \n",
    "    with open(PATH_TO_BB_HASHMAP, 'w') as f:\n",
    "        for key in bb_hashmap.keys():\n",
    "            f.write(\"%s,%s\\n\"%(key,bb_hashmap[key]))  \n",
    "\n",
    "    return bb_hashmap"
   ]
  },
  {
   "cell_type": "code",
   "execution_count": 14,
   "metadata": {},
   "outputs": [],
   "source": [
    "def load_image_into_numpy_array(image):\n",
    "    \"\"\"This function returns the image into a numpy array of appropriate dimension\"\"\"\n",
    "    (im_width, im_height) = image.size\n",
    "    return np.array(image.getdata()).reshape((im_height, im_width, 3)).astype(np.uint8) if \\\n",
    "        len(np.array(image).shape) == 3 else \\\n",
    "        np.array(image.getdata()).reshape((im_height, im_width, 1)).astype(np.uint8)\n",
    "        \n",
    "def run_inference_for_single_image(image, graph):\n",
    "    \"\"\"This function takes an image and a trained graph and returns an output dictionary with \n",
    "    number of detections made, detection calsses, detection boxes and detection scores. \n",
    "    The user is supposed to filter out the boxes below a minimum threshold\"\"\"\n",
    "    with graph.as_default():\n",
    "      with tf.Session() as sess:\n",
    "        # Get handles to input and output tensors\n",
    "        ops = tf.get_default_graph().get_operations()\n",
    "        all_tensor_names = {output.name for op in ops for output in op.outputs}\n",
    "        tensor_dict = {}\n",
    "        for key in [\n",
    "            'num_detections', 'detection_boxes', 'detection_scores',\n",
    "            'detection_classes', 'detection_masks'\n",
    "        ]:\n",
    "          tensor_name = key + ':0'\n",
    "          if tensor_name in all_tensor_names:\n",
    "            tensor_dict[key] = tf.get_default_graph().get_tensor_by_name(\n",
    "                tensor_name)\n",
    "        if 'detection_masks' in tensor_dict:\n",
    "          # The following processing is only for single image\n",
    "          detection_boxes = tf.squeeze(tensor_dict['detection_boxes'], [0])\n",
    "          detection_masks = tf.squeeze(tensor_dict['detection_masks'], [0])\n",
    "          # Reframe is required to translate mask from box coordinates to image coordinates and fit the image size.\n",
    "          real_num_detection = tf.cast(tensor_dict['num_detections'][0], tf.int32)\n",
    "          detection_boxes = tf.slice(detection_boxes, [0, 0], [real_num_detection, -1])\n",
    "          detection_masks = tf.slice(detection_masks, [0, 0, 0], [real_num_detection, -1, -1])\n",
    "          detection_masks_reframed = utils_ops.reframe_box_masks_to_image_masks(\n",
    "              detection_masks, detection_boxes, image.shape[0], image.shape[1])\n",
    "          detection_masks_reframed = tf.cast(\n",
    "              tf.greater(detection_masks_reframed, 0.1), tf.uint8)\n",
    "          # Follow the convention by adding back the batch dimension\n",
    "          tensor_dict['detection_masks'] = tf.expand_dims(\n",
    "              detection_masks_reframed, 0)\n",
    "        image_tensor = tf.get_default_graph().get_tensor_by_name('image_tensor:0')\n",
    "\n",
    "        # Run inference\n",
    "        output_dict = sess.run(tensor_dict,\n",
    "                               feed_dict={image_tensor: np.expand_dims(image, 0)})\n",
    "\n",
    "        # all outputs are float32 numpy arrays, so convert types as appropriate\n",
    "        output_dict['num_detections'] = int(output_dict['num_detections'][0])\n",
    "        output_dict['detection_classes'] = output_dict[\n",
    "            'detection_classes'][0].astype(np.uint8)\n",
    "        output_dict['detection_boxes'] = output_dict['detection_boxes'][0]\n",
    "        output_dict['detection_scores'] = output_dict['detection_scores'][0]\n",
    "        if 'detection_masks' in output_dict:\n",
    "          output_dict['detection_masks'] = output_dict['detection_masks'][0]\n",
    "    return output_dict"
   ]
  },
  {
   "cell_type": "markdown",
   "metadata": {},
   "source": [
    "**Varaible assignment:** For running the inference graph we need to define the variables below\n",
    "\n",
    "History of runs: <br>\n",
    "    **1. APNR**<br>\n",
    "PATH_TO_LABELS = os.path.join('/home/ubuntu/data/tensorflow/my_workspace/training_demo/annotations/', 'label_map_focus.pbtxt')<br>\n",
    "TEST_IMAGE_PATHS = glob.glob('/home/ubuntu/data/tensorflow/my_workspace/camera-trap-detection/snapshot-safari/APNR/subject_set/*.JPG')<br>\n",
    "min_threshold = 0.9 <br>\n",
    "NUM_CLASSES = 1 <br>\n",
    "bb_outpath = '/home/ubuntu/data/tensorflow/my_workspace/camera-trap-detection/snapshot-safari/APNR/subject_set_upload/' <br>\n",
    "PATH_TO_BB_HASHMAP = '/home/ubuntu/data/tensorflow/my_workspace/camera-trap-detection/snapshot-safari/APNR/bb_hashmap_APNR.csv'\n",
    "\n",
    "**2. Schneider's data**<br>\n",
    "PATH_TO_FROZEN_GRAPH = '/home/ubuntu/data/tensorflow/my_workspace/training_demo/trained-inference-graphs/output_inference_graph/frozen_inference_graph.pb' <br>\n",
    "PATH_TO_LABELS = os.path.join('/home/ubuntu/data/tensorflow/my_workspace/training_demo/annotations/', 'label_map_lila.pbtxt') <br>\n",
    "TEST_IMAGE_PATHS = glob.glob('/home/ubuntu/data/tensorflow/my_workspace/camera-trap-detection/data/LILA/schneider_images/*.jpg') <br>\n",
    "min_threshold = 0.9 <br>\n",
    "NUM_CLASSES = 49 <br>\n",
    "bb_outpath = '/home/ubuntu/data/tensorflow/my_workspace/camera-trap-detection/data/LILA/schneider_bb_prediction/' <br>\n",
    "PATH_TO_BB_HASHMAP = '/home/ubuntu/data/tensorflow/my_workspace/camera-trap-detection/data/LILA/schneider_bb_prediction/bb_hashmap_schneider.csv' <br>"
   ]
  },
  {
   "cell_type": "code",
   "execution_count": 62,
   "metadata": {},
   "outputs": [],
   "source": [
    "# Model run for APNR\n",
    "PATH_TO_FROZEN_GRAPH = '/home/ubuntu/data/tensorflow/my_workspace/training_demo/trained-inference-graphs/output_inference_graph/frozen_inference_graph.pb'\n",
    "PATH_TO_LABELS = os.path.join('/home/ubuntu/data/tensorflow/my_workspace/training_demo/annotations/', 'label_map_lila.pbtxt')\n",
    "TEST_IMAGE_PATHS = glob.glob('/home/ubuntu/data/tensorflow/my_workspace/camera-trap-detection/data/LILA/schneider_images/*.jpg')\n",
    "min_threshold = 0.9\n",
    "NUM_CLASSES = 49\n",
    "bb_outpath = '/home/ubuntu/data/tensorflow/my_workspace/camera-trap-detection/data/LILA/schneider_bb_prediction/'\n",
    "PATH_TO_BB_HASHMAP = '/home/ubuntu/data/tensorflow/my_workspace/camera-trap-detection/data/LILA/schneider_bb_prediction/bb_hashmap_schneider.csv'"
   ]
  },
  {
   "cell_type": "code",
   "execution_count": 16,
   "metadata": {},
   "outputs": [
    {
     "data": {
      "text/plain": [
       "'ASG000e8t5.jpg'"
      ]
     },
     "execution_count": 16,
     "metadata": {},
     "output_type": "execute_result"
    }
   ],
   "source": [
    "TEST_IMAGE_PATHS[8].split('/')[-1]"
   ]
  },
  {
   "cell_type": "markdown",
   "metadata": {},
   "source": [
    "**Run the inference graph** \n",
    "- Run inference graph on test dataset\n",
    "- Save images with bounding boxes in the output directory\n",
    "- Save the dictionaty with bounding box and score to a location on disk"
   ]
  },
  {
   "cell_type": "code",
   "execution_count": null,
   "metadata": {},
   "outputs": [],
   "source": [
    "start_time = time.time()\n",
    "run_inference_graph_images(PATH_TO_FROZEN_GRAPH, PATH_TO_LABELS, \\\n",
    "                               NUM_CLASSES, TEST_IMAGE_PATHS, min_threshold, \\\n",
    "                               bb_outpath, PATH_TO_BB_HASHMAP)\n",
    "\n",
    "print(\"--- %s seconds ---\" % (time.time() - start_time))"
   ]
  },
  {
   "cell_type": "markdown",
   "metadata": {},
   "source": [
    "#### Test of the pipeline"
   ]
  },
  {
   "cell_type": "code",
   "execution_count": 42,
   "metadata": {},
   "outputs": [
    {
     "name": "stdout",
     "output_type": "stream",
     "text": [
      "Processing image: 0\n",
      "Processing image: 1\n"
     ]
    }
   ],
   "source": [
    "# sys.path.append(\"/Library/Frameworks/Python.framework/Versions/3.6/lib/python3.6/site-packages\")\n",
    "import pandas as pd\n",
    "import glob\n",
    "dict1 = {'CaptureEventID':['ASG0002tcc', 'ASG0017xvs'],\n",
    "      'Species': ['giraffe', 'elephant'],\n",
    "      'DateTime': ['2010-09-20', '9/12/2013 18:26'],\n",
    "      'SiteID': ['S0', 'M1'],\n",
    "      'NumSpecies': [1, 1],\n",
    "      'Count': [1, 1],\n",
    "      'urls': ['http://www.snapshotserengeti.org/subjects/standard/50c212718a607540b902010c_0.jpg',\n",
    "               'http://www.snapshotserengeti.org/subjects/standard/5331e2111bccd304b6089b2d_0.JPG'\n",
    "              ]\n",
    "               }\n",
    "df1 = pd.DataFrame(dict1)\n",
    "\n",
    "dataset = df1\n",
    "image_name_index=0\n",
    "url_col_index=6\n",
    "outpath = '/Users/manishrai/Desktop/outdir_test/'\n",
    "\n",
    "get_images_from_url(dataset, image_name_index, url_col_index, outpath)\n",
    "\n",
    "# Model info\n",
    "PATH_TO_FROZEN_GRAPH = '/Users/manishrai/Desktop/UMN/Research/Zooniverse/camera-trap-detection/my_workspace/training_demo/trained-inference-graphs/output_inference_graph/frozen_inference_graph.pb'\n",
    "PATH_TO_LABELS = os.path.join('/Users/manishrai/Desktop/UMN/Research/Zooniverse/camera-trap-detection/my_workspace/training_demo/annotations/', 'label_map_focus.pbtxt')\n",
    "NUM_CLASSES = 1\n",
    "TEST_IMAGE_PATHS = glob.glob('/Users/manishrai/Desktop/outdir_test/*.jpg')\n",
    "min_threshold = 0.9\n",
    "bb_outpath = '/Users/manishrai/Desktop/test_dir/'\n",
    "PATH_TO_BB_HASHMAP = '/Users/manishrai/Desktop/test_dir/bb_hashmap_test.csv'"
   ]
  },
  {
   "cell_type": "code",
   "execution_count": 78,
   "metadata": {
    "scrolled": true
   },
   "outputs": [
    {
     "data": {
      "text/plain": [
       "['/home/ubuntu/data/tensorflow/my_workspace/camera-trap-detection/data/LILA/schneider_images/ASG000blvv.jpg']"
      ]
     },
     "execution_count": 78,
     "metadata": {},
     "output_type": "execute_result"
    }
   ],
   "source": [
    "TEST_IMAGE_PATHS = TEST_IMAGE_PATHS[0:1]\n",
    "TEST_IMAGE_PATHS"
   ]
  },
  {
   "cell_type": "code",
   "execution_count": 18,
   "metadata": {},
   "outputs": [
    {
     "name": "stdout",
     "output_type": "stream",
     "text": [
      "--- 30.630385637283325 seconds ---\n"
     ]
    }
   ],
   "source": [
    "# Comparing runtime with and without disk write for boundin box images\n",
    "import time\n",
    "start_time = time.time()\n",
    "run_inference_graph_images(PATH_TO_FROZEN_GRAPH, PATH_TO_LABELS, \\\n",
    "                               NUM_CLASSES, TEST_IMAGE_PATHS, min_threshold, \\\n",
    "                               bb_outpath, PATH_TO_BB_HASHMAP)\n",
    "\n",
    "print(\"--- %s seconds ---\" % (time.time() - start_time))"
   ]
  },
  {
   "cell_type": "raw",
   "metadata": {},
   "source": [
    "with disk write - 31.211701154708862 seconds\n",
    "without disk write of images - 28.77697730064392 seconds"
   ]
  },
  {
   "cell_type": "markdown",
   "metadata": {},
   "source": [
    "**Testing for speedup of the running the inference graphs**"
   ]
  },
  {
   "cell_type": "code",
   "execution_count": 59,
   "metadata": {},
   "outputs": [],
   "source": [
    "def load_image_into_numpy_array(image):\n",
    "    \"\"\"This function returns the image into a numpy array of appropriate dimension\"\"\"\n",
    "    (im_width, im_height) = image.size\n",
    "    return np.array(image.getdata()).reshape((im_height, im_width, 3)).astype(np.uint8) if \\\n",
    "        len(np.array(image).shape) == 3 else \\\n",
    "        np.array(image.getdata()).reshape((im_height, im_width, 1)).astype(np.uint8)\n",
    "        \n",
    "def run_inference_for_images(image_dir, PATH_TO_FROZEN_GRAPH):\n",
    "    \"\"\"This function takes an image and a trained graph and returns an output dictionary with \n",
    "    number of detections made, detection calsses, detection boxes and detection scores. \n",
    "    The user is supposed to filter out the boxes below a minimum threshold\"\"\"\n",
    "    \n",
    "    detection_graph = tf.Graph()\n",
    "    with detection_graph.as_default():\n",
    "      od_graph_def = tf.GraphDef()\n",
    "      with tf.gfile.GFile(PATH_TO_FROZEN_GRAPH, 'rb') as fid:\n",
    "        serialized_graph = fid.read()\n",
    "        od_graph_def.ParseFromString(serialized_graph)\n",
    "        tf.import_graph_def(od_graph_def, name='')\n",
    "    \n",
    "    with detection_graph.as_default():\n",
    "      with tf.Session() as sess:\n",
    "        output_dict_array = []\n",
    "        bb_hashmap = {}\n",
    "        for image_path in image_dir:\n",
    "        # Get handles to input and output tensors\n",
    "            image = Image.open(image_path)\n",
    "            image_np = load_image_into_numpy_array(image)\n",
    "            \n",
    "            ops = tf.get_default_graph().get_operations()\n",
    "            all_tensor_names = {output.name for op in ops for output in op.outputs}\n",
    "            tensor_dict = {}\n",
    "            for key in [\n",
    "                'num_detections', 'detection_boxes', 'detection_scores',\n",
    "                'detection_classes', 'detection_masks'\n",
    "            ]:\n",
    "              tensor_name = key + ':0'\n",
    "              if tensor_name in all_tensor_names:\n",
    "                tensor_dict[key] = tf.get_default_graph().get_tensor_by_name(\n",
    "                    tensor_name)\n",
    "            if 'detection_masks' in tensor_dict:\n",
    "              # The following processing is only for single image\n",
    "              detection_boxes = tf.squeeze(tensor_dict['detection_boxes'], [0])\n",
    "              detection_masks = tf.squeeze(tensor_dict['detection_masks'], [0])\n",
    "              # Reframe is required to translate mask from box coordinates to image coordinates and fit the image size.\n",
    "              real_num_detection = tf.cast(tensor_dict['num_detections'][0], tf.int32)\n",
    "              detection_boxes = tf.slice(detection_boxes, [0, 0], [real_num_detection, -1])\n",
    "              detection_masks = tf.slice(detection_masks, [0, 0, 0], [real_num_detection, -1, -1])\n",
    "              detection_masks_reframed = utils_ops.reframe_box_masks_to_image_masks(\n",
    "                  detection_masks, detection_boxes, image.shape[0], image.shape[1])\n",
    "              detection_masks_reframed = tf.cast(\n",
    "                  tf.greater(detection_masks_reframed, 0.1), tf.uint8)\n",
    "              # Follow the convention by adding back the batch dimension\n",
    "              tensor_dict['detection_masks'] = tf.expand_dims(\n",
    "                  detection_masks_reframed, 0)\n",
    "            image_tensor = tf.get_default_graph().get_tensor_by_name('image_tensor:0')\n",
    "\n",
    "            # Run inference\n",
    "            output_dict = sess.run(tensor_dict,\n",
    "                                   feed_dict={image_tensor: np.expand_dims(image_np, 0)})\n",
    "\n",
    "            # all outputs are float32 numpy arrays, so convert types as appropriate\n",
    "            output_dict['num_detections'] = int(output_dict['num_detections'][0])\n",
    "            output_dict['detection_classes'] = output_dict[\n",
    "                'detection_classes'][0].astype(np.uint8)\n",
    "            output_dict['detection_boxes'] = output_dict['detection_boxes'][0]\n",
    "            output_dict['detection_scores'] = output_dict['detection_scores'][0]\n",
    "#             if 'detection_masks' in output_dict:\n",
    "#               output_dict['detection_masks'] = output_dict['detection_masks'][0]\n",
    "            \n",
    "            bb_hashmap[image_path.split('/')[-1]] = {\n",
    "            'detection_boxes' : output_dict['detection_boxes'][0:sum(output_dict['detection_scores']>=min_threshold)],\n",
    "            'detection_scores' : output_dict['detection_scores'][0:sum(output_dict['detection_scores']>=min_threshold)],\n",
    "            'detection_classes' : output_dict['detection_classes'][0:sum(output_dict['detection_scores']>=min_threshold)]\n",
    "            }\n",
    "            output_dict_array.append(output_dict)\n",
    "            \n",
    "    return output_dict_array, bb_hashmap"
   ]
  },
  {
   "cell_type": "code",
   "execution_count": 79,
   "metadata": {},
   "outputs": [
    {
     "name": "stdout",
     "output_type": "stream",
     "text": [
      "--- 8.049812316894531 seconds ---\n"
     ]
    }
   ],
   "source": [
    "start_time = time.time()\n",
    "output_dict_array, bb_hashmap = run_inference_for_images(TEST_IMAGE_PATHS, PATH_TO_FROZEN_GRAPH)\n",
    "print(\"--- %s seconds ---\" % (time.time() - start_time))"
   ]
  },
  {
   "cell_type": "code",
   "execution_count": 36,
   "metadata": {},
   "outputs": [
    {
     "data": {
      "text/plain": [
       "2.88"
      ]
     },
     "execution_count": 36,
     "metadata": {},
     "output_type": "execute_result"
    }
   ],
   "source": [
    "round((28.77697730064392 - 17.27455163002014)/4,2)"
   ]
  },
  {
   "cell_type": "code",
   "execution_count": 53,
   "metadata": {},
   "outputs": [
    {
     "data": {
      "text/plain": [
       "{'ASG000bcnc.jpg': {'detection_boxes': array([[0.5546642 , 0.78439456, 0.79757255, 0.9995391 ]], dtype=float32),\n",
       "  'detection_classes': array([5], dtype=uint8),\n",
       "  'detection_scores': array([0.9459807], dtype=float32)},\n",
       " 'ASG000blvv.jpg': {'detection_boxes': array([[0.36486182, 0.24578457, 0.6627488 , 0.63912284],\n",
       "         [0.43956482, 0.6381016 , 0.5821619 , 0.87734836],\n",
       "         [0.5026478 , 0.8996175 , 0.54911417, 0.93767565],\n",
       "         [0.4248089 , 0.9507573 , 0.5720013 , 0.99983895]], dtype=float32),\n",
       "  'detection_classes': array([17, 17, 11, 17], dtype=uint8),\n",
       "  'detection_scores': array([0.9947514 , 0.98929214, 0.92486733, 0.92416286], dtype=float32)},\n",
       " 'ASG000cewa.jpg': {'detection_boxes': array([[0.00149002, 0.08484562, 1.        , 0.97310466]], dtype=float32),\n",
       "  'detection_classes': array([5], dtype=uint8),\n",
       "  'detection_scores': array([0.99928856], dtype=float32)},\n",
       " 'ASG000cq2q.jpg': {'detection_boxes': array([[0.        , 0.        , 0.94640434, 0.9904304 ]], dtype=float32),\n",
       "  'detection_classes': array([15], dtype=uint8),\n",
       "  'detection_scores': array([0.9930496], dtype=float32)}}"
      ]
     },
     "execution_count": 53,
     "metadata": {},
     "output_type": "execute_result"
    }
   ],
   "source": [
    "bb_hashmap"
   ]
  },
  {
   "cell_type": "code",
   "execution_count": 55,
   "metadata": {},
   "outputs": [
    {
     "data": {
      "text/plain": [
       "4.318637907505035"
      ]
     },
     "execution_count": 55,
     "metadata": {},
     "output_type": "execute_result"
    }
   ],
   "source": [
    "17.27455163002014/4"
   ]
  },
  {
   "cell_type": "code",
   "execution_count": 75,
   "metadata": {},
   "outputs": [
    {
     "data": {
      "text/plain": [
       "3.3753127574920656"
      ]
     },
     "execution_count": 75,
     "metadata": {},
     "output_type": "execute_result"
    }
   ],
   "source": [
    "67.50625514984131/20"
   ]
  },
  {
   "cell_type": "code",
   "execution_count": 45,
   "metadata": {},
   "outputs": [
    {
     "data": {
      "text/plain": [
       "3.2212302148342133"
      ]
     },
     "execution_count": 45,
     "metadata": {},
     "output_type": "execute_result"
    }
   ],
   "source": [
    "128.84920859336853/40"
   ]
  },
  {
   "cell_type": "code",
   "execution_count": 61,
   "metadata": {},
   "outputs": [
    {
     "data": {
      "text/plain": [
       "3.1367027908563614"
      ]
     },
     "execution_count": 61,
     "metadata": {},
     "output_type": "execute_result"
    }
   ],
   "source": [
    "250.9362232685089/80"
   ]
  },
  {
   "cell_type": "code",
   "execution_count": 68,
   "metadata": {},
   "outputs": [
    {
     "data": {
      "text/plain": [
       "3.1181362926959992"
      ]
     },
     "execution_count": 68,
     "metadata": {},
     "output_type": "execute_result"
    }
   ],
   "source": [
    "374.1763551235199/120"
   ]
  },
  {
   "cell_type": "code",
   "execution_count": 65,
   "metadata": {},
   "outputs": [
    {
     "data": {
      "text/plain": [
       "3.090312175452709"
      ]
     },
     "execution_count": 65,
     "metadata": {},
     "output_type": "execute_result"
    }
   ],
   "source": [
    "494.4499480724335/160"
   ]
  },
  {
   "cell_type": "code",
   "execution_count": 81,
   "metadata": {},
   "outputs": [
    {
     "data": {
      "text/plain": [
       "Text(0,0.5,'Time per image (seconds)')"
      ]
     },
     "execution_count": 81,
     "metadata": {},
     "output_type": "execute_result"
    },
    {
     "data": {
      "image/png": "[encoded data removed]",
      "text/plain": [
       "<Figure size 432x288 with 1 Axes>"
      ]
     },
     "metadata": {},
     "output_type": "display_data"
    }
   ],
   "source": [
    "plt.plot([1, 4, 20, 40, 80, 120, 160], \\\n",
    "         [8.049812316894531, \\\n",
    "          4.318637907505035, \\\n",
    "          3.3753127574920656, \\\n",
    "          3.2212302148342133, \\\n",
    "          3.1367027908563614, \\\n",
    "          3.1181362926959992, \\\n",
    "          3.090312175452709], '-')\n",
    "plt.grid()\n",
    "plt.title('Time per batch-size')\n",
    "plt.xlabel('batch size')\n",
    "plt.ylabel('Time per image (seconds)')"
   ]
  },
  {
   "cell_type": "code",
   "execution_count": 70,
   "metadata": {},
   "outputs": [],
   "source": [
    "?plt.plot"
   ]
  },
  {
   "cell_type": "code",
   "execution_count": null,
   "metadata": {},
   "outputs": [],
   "source": []
  }
 ],
 "metadata": {
  "kernelspec": {
   "display_name": "Python 3",
   "language": "python",
   "name": "python3"
  },
  "language_info": {
   "codemirror_mode": {
    "name": "ipython",
    "version": 3
   },
   "file_extension": ".py",
   "mimetype": "text/x-python",
   "name": "python",
   "nbconvert_exporter": "python",
   "pygments_lexer": "ipython3",
   "version": "3.5.2"
  }
 },
 "nbformat": 4,
 "nbformat_minor": 2
}
