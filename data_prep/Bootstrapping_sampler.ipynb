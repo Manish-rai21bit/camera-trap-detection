{
 "cells": [
  {
   "cell_type": "markdown",
   "metadata": {},
   "source": [
    "### Bootstrapping data prep pipeline\n",
    "\n",
    "This is a weakly supervised technique and should be augmented with human annotaions at a higher level. \n"
   ]
  },
  {
   "cell_type": "markdown",
   "metadata": {},
   "source": [
    "### Sampler function for data prep for training\n",
    "\n",
    "\n",
    "- The implentation for the blocks in blue ink.\n",
    "- A set of functions that takes as input :\n",
    "    - CSV's at multiple levels - Image, Species count level or Image, bounding box level, etc.  \n",
    "    - Sampling technique\n",
    "    - number of samples required\n",
    "    - this list will evolve as I write this code\n",
    "    \n",
    "\n",
    "<img src=\"IMG_0026.jpg\" width=\"600\" height=\"200\">\n",
    "\n"
   ]
  },
  {
   "cell_type": "markdown",
   "metadata": {},
   "source": [
    "1. Read all the shards created - ```/home/ubuntu/data/tensorflow/my_workspace/training_demo/Predictions/round1/bootstrap_data_<>```\n",
    "2. Consolidate the list of filenames and animals\n",
    "3. Sample them on the proportions that I build\n",
    "4. Choose all the multi-species images"
   ]
  },
  {
   "cell_type": "code",
   "execution_count": 2,
   "metadata": {},
   "outputs": [],
   "source": [
    "import pandas as pd\n",
    "import csv, glob, random, os\n",
    "from timeit import default_timer as timer\n",
    "import numpy as np\n",
    "import matplotlib.pyplot as plt"
   ]
  },
  {
   "cell_type": "code",
   "execution_count": 1,
   "metadata": {},
   "outputs": [],
   "source": [
    "# add in parameters\n",
    "round_number = 'round1_ckpt69k' # This is the round for which model has to be run with this sample\n",
    "round_number_next = 'round2' # This is the round for which data is being prepared\n",
    "Lower_Bound_experiment_path = 'bootstrap_LowerBound50p'\n",
    "pred_files_path = '/home/ubuntu/data/tensorflow/my_workspace/training_demo/Predictions/S1_S6_lb50p/'"
   ]
  },
  {
   "cell_type": "code",
   "execution_count": 4,
   "metadata": {},
   "outputs": [
    {
     "name": "stdout",
     "output_type": "stream",
     "text": [
      "File Name: ../data/bootstrapping/bootstrap_LowerBound50p/round1_csv/singleSpecies_bbox.csv, Data Added: 100000\n",
      "Total data added so far:  100000\n"
     ]
    }
   ],
   "source": [
    "data_already_used_for_training_set = set()\n",
    "list_used_images = glob.glob('../data/bootstrapping/{0}/*_csv/*.csv'.format(Lower_Bound_experiment_path))\n",
    "for lst in list_used_images:\n",
    "    data_already_used_inter = set(pd.read_csv(lst)['filename'])\n",
    "    data_already_used_for_training_set = data_already_used_for_training_set.union(data_already_used_inter)\n",
    "    print(\"File Name: {0}, Data Added: {1}\".format(lst, len(data_already_used_inter)))\n",
    "\n",
    "data_already_used_for_training_list = list(data_already_used_for_training_set)\n",
    "\n",
    "print(\"Total data added so far: \", len(data_already_used_for_training_list))"
   ]
  },
  {
   "cell_type": "markdown",
   "metadata": {},
   "source": [
    "### Dataframe with all shards appended\n",
    "Generate a master dataset with all the appended bounding boxes"
   ]
  },
  {
   "cell_type": "code",
   "execution_count": 5,
   "metadata": {},
   "outputs": [
    {
     "name": "stdout",
     "output_type": "stream",
     "text": [
      "7.4\n",
      "(717868, 6)\n"
     ]
    }
   ],
   "source": [
    "df_base_bbox = pd.DataFrame()\n",
    "start = timer()\n",
    "for i, path in enumerate(glob.glob(os.path.join(pred_files_path, \\\n",
    "                                                  '{0}/Post_procession_of_infer_detection/bootstrap_data_snapshot_serengeti_s01_s06_*'.format(round_number)))):\n",
    "    df = pd.read_csv(path)\n",
    "    df_base_bbox = df_base_bbox.append(df)\n",
    "end = timer()\n",
    "print(round((end - start), 1))\n",
    "print(df_base_bbox.shape)"
   ]
  },
  {
   "cell_type": "code",
   "execution_count": 6,
   "metadata": {},
   "outputs": [
    {
     "data": {
      "text/html": [
       "<div>\n",
       "<style scoped>\n",
       "    .dataframe tbody tr th:only-of-type {\n",
       "        vertical-align: middle;\n",
       "    }\n",
       "\n",
       "    .dataframe tbody tr th {\n",
       "        vertical-align: top;\n",
       "    }\n",
       "\n",
       "    .dataframe thead th {\n",
       "        text-align: right;\n",
       "    }\n",
       "</style>\n",
       "<table border=\"1\" class=\"dataframe\">\n",
       "  <thead>\n",
       "    <tr style=\"text-align: right;\">\n",
       "      <th></th>\n",
       "      <th>filename</th>\n",
       "      <th>class</th>\n",
       "      <th>xmin</th>\n",
       "      <th>ymin</th>\n",
       "      <th>xmax</th>\n",
       "      <th>ymax</th>\n",
       "    </tr>\n",
       "  </thead>\n",
       "  <tbody>\n",
       "    <tr>\n",
       "      <th>0</th>\n",
       "      <td>S3/B07/B07_R11/S3_B07_R11_IMAG0246</td>\n",
       "      <td>gazelleThomsons</td>\n",
       "      <td>0.890966</td>\n",
       "      <td>0.585981</td>\n",
       "      <td>0.997992</td>\n",
       "      <td>0.919471</td>\n",
       "    </tr>\n",
       "    <tr>\n",
       "      <th>1</th>\n",
       "      <td>S2/K09/K09_R1/S2_K09_R1_PICT0812</td>\n",
       "      <td>gazelleThomsons</td>\n",
       "      <td>0.693507</td>\n",
       "      <td>0.279107</td>\n",
       "      <td>0.982956</td>\n",
       "      <td>0.777959</td>\n",
       "    </tr>\n",
       "    <tr>\n",
       "      <th>2</th>\n",
       "      <td>S3/P09/P09_R12/S3_P09_R12_IMAG0382</td>\n",
       "      <td>wildebeest</td>\n",
       "      <td>0.135006</td>\n",
       "      <td>0.371933</td>\n",
       "      <td>0.573553</td>\n",
       "      <td>0.816625</td>\n",
       "    </tr>\n",
       "    <tr>\n",
       "      <th>3</th>\n",
       "      <td>S2/E13/E13_R1/S2_E13_R1_IMAG0147</td>\n",
       "      <td>warthog</td>\n",
       "      <td>0.376121</td>\n",
       "      <td>0.484358</td>\n",
       "      <td>0.485064</td>\n",
       "      <td>0.557452</td>\n",
       "    </tr>\n",
       "    <tr>\n",
       "      <th>4</th>\n",
       "      <td>S3/S09/S09_R12/S3_S09_R12_IMAG1322</td>\n",
       "      <td>zebra</td>\n",
       "      <td>0.386718</td>\n",
       "      <td>0.428981</td>\n",
       "      <td>0.494476</td>\n",
       "      <td>0.555750</td>\n",
       "    </tr>\n",
       "  </tbody>\n",
       "</table>\n",
       "</div>"
      ],
      "text/plain": [
       "                             filename            class      xmin      ymin  \\\n",
       "0  S3/B07/B07_R11/S3_B07_R11_IMAG0246  gazelleThomsons  0.890966  0.585981   \n",
       "1    S2/K09/K09_R1/S2_K09_R1_PICT0812  gazelleThomsons  0.693507  0.279107   \n",
       "2  S3/P09/P09_R12/S3_P09_R12_IMAG0382       wildebeest  0.135006  0.371933   \n",
       "3    S2/E13/E13_R1/S2_E13_R1_IMAG0147          warthog  0.376121  0.484358   \n",
       "4  S3/S09/S09_R12/S3_S09_R12_IMAG1322            zebra  0.386718  0.428981   \n",
       "\n",
       "       xmax      ymax  \n",
       "0  0.997992  0.919471  \n",
       "1  0.982956  0.777959  \n",
       "2  0.573553  0.816625  \n",
       "3  0.485064  0.557452  \n",
       "4  0.494476  0.555750  "
      ]
     },
     "execution_count": 6,
     "metadata": {},
     "output_type": "execute_result"
    }
   ],
   "source": [
    "df_base_bbox.head()"
   ]
  },
  {
   "cell_type": "code",
   "execution_count": 7,
   "metadata": {},
   "outputs": [
    {
     "name": "stdout",
     "output_type": "stream",
     "text": [
      "(582465, 6)\n"
     ]
    },
    {
     "data": {
      "text/html": [
       "<div>\n",
       "<style scoped>\n",
       "    .dataframe tbody tr th:only-of-type {\n",
       "        vertical-align: middle;\n",
       "    }\n",
       "\n",
       "    .dataframe tbody tr th {\n",
       "        vertical-align: top;\n",
       "    }\n",
       "\n",
       "    .dataframe thead th {\n",
       "        text-align: right;\n",
       "    }\n",
       "</style>\n",
       "<table border=\"1\" class=\"dataframe\">\n",
       "  <thead>\n",
       "    <tr style=\"text-align: right;\">\n",
       "      <th></th>\n",
       "      <th>filename</th>\n",
       "      <th>class</th>\n",
       "      <th>xmin</th>\n",
       "      <th>ymin</th>\n",
       "      <th>xmax</th>\n",
       "      <th>ymax</th>\n",
       "    </tr>\n",
       "  </thead>\n",
       "  <tbody>\n",
       "    <tr>\n",
       "      <th>0</th>\n",
       "      <td>S3/B07/B07_R11/S3_B07_R11_IMAG0246</td>\n",
       "      <td>gazelleThomsons</td>\n",
       "      <td>0.890966</td>\n",
       "      <td>0.585981</td>\n",
       "      <td>0.997992</td>\n",
       "      <td>0.919471</td>\n",
       "    </tr>\n",
       "    <tr>\n",
       "      <th>1</th>\n",
       "      <td>S2/K09/K09_R1/S2_K09_R1_PICT0812</td>\n",
       "      <td>gazelleThomsons</td>\n",
       "      <td>0.693507</td>\n",
       "      <td>0.279107</td>\n",
       "      <td>0.982956</td>\n",
       "      <td>0.777959</td>\n",
       "    </tr>\n",
       "    <tr>\n",
       "      <th>2</th>\n",
       "      <td>S3/P09/P09_R12/S3_P09_R12_IMAG0382</td>\n",
       "      <td>wildebeest</td>\n",
       "      <td>0.135006</td>\n",
       "      <td>0.371933</td>\n",
       "      <td>0.573553</td>\n",
       "      <td>0.816625</td>\n",
       "    </tr>\n",
       "    <tr>\n",
       "      <th>3</th>\n",
       "      <td>S2/E13/E13_R1/S2_E13_R1_IMAG0147</td>\n",
       "      <td>warthog</td>\n",
       "      <td>0.376121</td>\n",
       "      <td>0.484358</td>\n",
       "      <td>0.485064</td>\n",
       "      <td>0.557452</td>\n",
       "    </tr>\n",
       "    <tr>\n",
       "      <th>4</th>\n",
       "      <td>S3/S09/S09_R12/S3_S09_R12_IMAG1322</td>\n",
       "      <td>zebra</td>\n",
       "      <td>0.386718</td>\n",
       "      <td>0.428981</td>\n",
       "      <td>0.494476</td>\n",
       "      <td>0.555750</td>\n",
       "    </tr>\n",
       "  </tbody>\n",
       "</table>\n",
       "</div>"
      ],
      "text/plain": [
       "                             filename            class      xmin      ymin  \\\n",
       "0  S3/B07/B07_R11/S3_B07_R11_IMAG0246  gazelleThomsons  0.890966  0.585981   \n",
       "1    S2/K09/K09_R1/S2_K09_R1_PICT0812  gazelleThomsons  0.693507  0.279107   \n",
       "2  S3/P09/P09_R12/S3_P09_R12_IMAG0382       wildebeest  0.135006  0.371933   \n",
       "3    S2/E13/E13_R1/S2_E13_R1_IMAG0147          warthog  0.376121  0.484358   \n",
       "4  S3/S09/S09_R12/S3_S09_R12_IMAG1322            zebra  0.386718  0.428981   \n",
       "\n",
       "       xmax      ymax  \n",
       "0  0.997992  0.919471  \n",
       "1  0.982956  0.777959  \n",
       "2  0.573553  0.816625  \n",
       "3  0.485064  0.557452  \n",
       "4  0.494476  0.555750  "
      ]
     },
     "execution_count": 7,
     "metadata": {},
     "output_type": "execute_result"
    }
   ],
   "source": [
    "# Exclude data that have already been used in training\n",
    "# index_not_used_for_training = [filename in data_already_used_for_training_list for filename in df_base_bbox['filename']]\n",
    "# index_not_used_for_training\n",
    "\n",
    "df_base_bbox = df_base_bbox[~df_base_bbox['filename'].isin(data_already_used_for_training_list)]\n",
    "print(df_base_bbox.shape)\n",
    "df_base_bbox.head()"
   ]
  },
  {
   "cell_type": "markdown",
   "metadata": {},
   "source": [
    "### 1. HERD\n",
    "We first focus on and sample the herd images. Since, the images are herd images are less than 5000 (2747 images to be precise), we take all of them for our model training."
   ]
  },
  {
   "cell_type": "code",
   "execution_count": 8,
   "metadata": {},
   "outputs": [
    {
     "data": {
      "text/html": [
       "<div>\n",
       "<style scoped>\n",
       "    .dataframe tbody tr th:only-of-type {\n",
       "        vertical-align: middle;\n",
       "    }\n",
       "\n",
       "    .dataframe tbody tr th {\n",
       "        vertical-align: top;\n",
       "    }\n",
       "\n",
       "    .dataframe thead th {\n",
       "        text-align: right;\n",
       "    }\n",
       "</style>\n",
       "<table border=\"1\" class=\"dataframe\">\n",
       "  <thead>\n",
       "    <tr style=\"text-align: right;\">\n",
       "      <th></th>\n",
       "      <th>count_box</th>\n",
       "      <th>num_images</th>\n",
       "    </tr>\n",
       "  </thead>\n",
       "  <tbody>\n",
       "    <tr>\n",
       "      <th>16</th>\n",
       "      <td>17</td>\n",
       "      <td>44</td>\n",
       "    </tr>\n",
       "    <tr>\n",
       "      <th>17</th>\n",
       "      <td>18</td>\n",
       "      <td>28</td>\n",
       "    </tr>\n",
       "    <tr>\n",
       "      <th>18</th>\n",
       "      <td>19</td>\n",
       "      <td>6</td>\n",
       "    </tr>\n",
       "    <tr>\n",
       "      <th>19</th>\n",
       "      <td>20</td>\n",
       "      <td>5</td>\n",
       "    </tr>\n",
       "    <tr>\n",
       "      <th>20</th>\n",
       "      <td>21</td>\n",
       "      <td>1</td>\n",
       "    </tr>\n",
       "  </tbody>\n",
       "</table>\n",
       "</div>"
      ],
      "text/plain": [
       "    count_box  num_images\n",
       "16         17          44\n",
       "17         18          28\n",
       "18         19           6\n",
       "19         20           5\n",
       "20         21           1"
      ]
     },
     "execution_count": 8,
     "metadata": {},
     "output_type": "execute_result"
    }
   ],
   "source": [
    "df_image_popultion_dist = df_base_bbox.groupby(by=['filename'], as_index=False)['xmin'].count()\n",
    "df_image_popultion_dist.columns = ['filename', 'count_box']\n",
    "df_image_herd_lst = list(df_image_popultion_dist[df_image_popultion_dist['count_box'] >= 11]['filename'])\n",
    "df_image_popultion_dist = df_image_popultion_dist.groupby(by=['count_box'], as_index=False)['filename'].count()\n",
    "df_image_popultion_dist.columns = ['count_box', 'num_images']\n",
    "\n",
    "# plt.bar(df_image_popultion_dist.count_box, df_image_popultion_dist.num_images)\n",
    "df_image_popultion_dist.tail()"
   ]
  },
  {
   "cell_type": "code",
   "execution_count": 9,
   "metadata": {},
   "outputs": [
    {
     "data": {
      "text/plain": [
       "4346"
      ]
     },
     "execution_count": 9,
     "metadata": {},
     "output_type": "execute_result"
    }
   ],
   "source": [
    "len(df_image_herd_lst)"
   ]
  },
  {
   "cell_type": "markdown",
   "metadata": {},
   "source": [
    "## 2. Multi-Species images\n",
    "1. Here I will sample 5000(or all) multi-species images. The training dataset does not contain multi-species images so I want to include multi-species images in further model trainig loop.\n",
    "2. Exclude the images that were part of the **part 1 - HERD**"
   ]
  },
  {
   "cell_type": "code",
   "execution_count": 10,
   "metadata": {},
   "outputs": [
    {
     "name": "stdout",
     "output_type": "stream",
     "text": [
      "execution time: 0.2 Seconds\n",
      "(328373, 2)\n"
     ]
    }
   ],
   "source": [
    "# 1. get unique filename and class. i.e, for each of the images gets the species in the data\n",
    "# 2. Exclude the images that were part of HERD list\n",
    "# 3. Get a dataframe that has image name and the animals in the image. \n",
    "start = timer() # time the process\n",
    "df_base = df_base_bbox[['filename', 'class']]\n",
    "df_base = df_base.drop_duplicates()\n",
    "df_base = df_base[~df_base['filename'].isin(df_image_herd_lst)] # 2. Excluding images in HERD list\n",
    "end = timer()\n",
    "print(\"execution time: {0} Seconds\".format(round(end - start, 1)))\n",
    "print(df_base.shape)"
   ]
  },
  {
   "cell_type": "code",
   "execution_count": 11,
   "metadata": {},
   "outputs": [
    {
     "name": "stdout",
     "output_type": "stream",
     "text": [
      "# of images: 5089\n",
      "5089\n"
     ]
    },
    {
     "data": {
      "text/html": [
       "<div>\n",
       "<style scoped>\n",
       "    .dataframe tbody tr th:only-of-type {\n",
       "        vertical-align: middle;\n",
       "    }\n",
       "\n",
       "    .dataframe tbody tr th {\n",
       "        vertical-align: top;\n",
       "    }\n",
       "\n",
       "    .dataframe thead th {\n",
       "        text-align: right;\n",
       "    }\n",
       "</style>\n",
       "<table border=\"1\" class=\"dataframe\">\n",
       "  <thead>\n",
       "    <tr style=\"text-align: right;\">\n",
       "      <th></th>\n",
       "      <th>filename</th>\n",
       "      <th>count_species</th>\n",
       "    </tr>\n",
       "  </thead>\n",
       "  <tbody>\n",
       "    <tr>\n",
       "      <th>249</th>\n",
       "      <td>S1/B05/B05_R3/S1_B05_R3_PICT0500</td>\n",
       "      <td>2</td>\n",
       "    </tr>\n",
       "    <tr>\n",
       "      <th>250</th>\n",
       "      <td>S1/B05/B05_R3/S1_B05_R3_PICT0501</td>\n",
       "      <td>2</td>\n",
       "    </tr>\n",
       "    <tr>\n",
       "      <th>529</th>\n",
       "      <td>S1/B07/B07_R1/S1_B07_R1_PICT0459</td>\n",
       "      <td>2</td>\n",
       "    </tr>\n",
       "    <tr>\n",
       "      <th>530</th>\n",
       "      <td>S1/B07/B07_R1/S1_B07_R1_PICT0460</td>\n",
       "      <td>2</td>\n",
       "    </tr>\n",
       "    <tr>\n",
       "      <th>2363</th>\n",
       "      <td>S1/C05/C05_R3/S1_C05_R3_PICT2414</td>\n",
       "      <td>2</td>\n",
       "    </tr>\n",
       "  </tbody>\n",
       "</table>\n",
       "</div>"
      ],
      "text/plain": [
       "                              filename  count_species\n",
       "249   S1/B05/B05_R3/S1_B05_R3_PICT0500              2\n",
       "250   S1/B05/B05_R3/S1_B05_R3_PICT0501              2\n",
       "529   S1/B07/B07_R1/S1_B07_R1_PICT0459              2\n",
       "530   S1/B07/B07_R1/S1_B07_R1_PICT0460              2\n",
       "2363  S1/C05/C05_R3/S1_C05_R3_PICT2414              2"
      ]
     },
     "execution_count": 11,
     "metadata": {},
     "output_type": "execute_result"
    }
   ],
   "source": [
    "# 1. From the above dataframe, get the list of images that have multiple animals.\n",
    "# 2. Get the dataframe with image names and the species in it for the multi-species images\n",
    "\n",
    "df_base_temp = df_base.groupby(by=['filename'], as_index=False)['class'].count() # groupby the get the distinct animals per image\n",
    "df_base_temp.columns = ['filename', 'count_species'] # rename the columns\n",
    "\n",
    "# Filtering the multispecies images\n",
    "df_base_multi_species = df_base_temp[df_base_temp['count_species']>=2] # 1.\n",
    "# Capturing the multi-species images in a list object \n",
    "df_base_multi_species_lst = list(set(df_base_multi_species.filename)) # 1.\n",
    "print(\"# of images: {0}\".format(len(set(df_base_multi_species['filename']))))\n",
    "print(len(df_base_multi_species_lst))\n",
    "df_base_multi_species.head()"
   ]
  },
  {
   "cell_type": "code",
   "execution_count": 12,
   "metadata": {},
   "outputs": [
    {
     "data": {
      "text/html": [
       "<div>\n",
       "<style scoped>\n",
       "    .dataframe tbody tr th:only-of-type {\n",
       "        vertical-align: middle;\n",
       "    }\n",
       "\n",
       "    .dataframe tbody tr th {\n",
       "        vertical-align: top;\n",
       "    }\n",
       "\n",
       "    .dataframe thead th {\n",
       "        text-align: right;\n",
       "    }\n",
       "</style>\n",
       "<table border=\"1\" class=\"dataframe\">\n",
       "  <thead>\n",
       "    <tr style=\"text-align: right;\">\n",
       "      <th></th>\n",
       "      <th>count_species</th>\n",
       "      <th>filename</th>\n",
       "    </tr>\n",
       "  </thead>\n",
       "  <tbody>\n",
       "    <tr>\n",
       "      <th>0</th>\n",
       "      <td>1</td>\n",
       "      <td>318181</td>\n",
       "    </tr>\n",
       "    <tr>\n",
       "      <th>1</th>\n",
       "      <td>2</td>\n",
       "      <td>5075</td>\n",
       "    </tr>\n",
       "    <tr>\n",
       "      <th>2</th>\n",
       "      <td>3</td>\n",
       "      <td>14</td>\n",
       "    </tr>\n",
       "  </tbody>\n",
       "</table>\n",
       "</div>"
      ],
      "text/plain": [
       "   count_species  filename\n",
       "0              1    318181\n",
       "1              2      5075\n",
       "2              3        14"
      ]
     },
     "execution_count": 12,
     "metadata": {},
     "output_type": "execute_result"
    }
   ],
   "source": [
    "# Distribution of the image count for n-distinct species\n",
    "species_dist = df_base_temp.groupby(by=['count_species'], as_index=False)['filename'].count()\n",
    "species_dist"
   ]
  },
  {
   "cell_type": "markdown",
   "metadata": {},
   "source": [
    "## 3. Single species images"
   ]
  },
  {
   "cell_type": "code",
   "execution_count": 16,
   "metadata": {},
   "outputs": [
    {
     "name": "stdout",
     "output_type": "stream",
     "text": [
      "(318181, 2)\n"
     ]
    },
    {
     "data": {
      "text/html": [
       "<div>\n",
       "<style scoped>\n",
       "    .dataframe tbody tr th:only-of-type {\n",
       "        vertical-align: middle;\n",
       "    }\n",
       "\n",
       "    .dataframe tbody tr th {\n",
       "        vertical-align: top;\n",
       "    }\n",
       "\n",
       "    .dataframe thead th {\n",
       "        text-align: right;\n",
       "    }\n",
       "</style>\n",
       "<table border=\"1\" class=\"dataframe\">\n",
       "  <thead>\n",
       "    <tr style=\"text-align: right;\">\n",
       "      <th></th>\n",
       "      <th>filename</th>\n",
       "      <th>class</th>\n",
       "    </tr>\n",
       "  </thead>\n",
       "  <tbody>\n",
       "    <tr>\n",
       "      <th>0</th>\n",
       "      <td>S3/B07/B07_R11/S3_B07_R11_IMAG0246</td>\n",
       "      <td>gazelleThomsons</td>\n",
       "    </tr>\n",
       "    <tr>\n",
       "      <th>1</th>\n",
       "      <td>S2/K09/K09_R1/S2_K09_R1_PICT0812</td>\n",
       "      <td>gazelleThomsons</td>\n",
       "    </tr>\n",
       "    <tr>\n",
       "      <th>2</th>\n",
       "      <td>S3/P09/P09_R12/S3_P09_R12_IMAG0382</td>\n",
       "      <td>wildebeest</td>\n",
       "    </tr>\n",
       "    <tr>\n",
       "      <th>3</th>\n",
       "      <td>S2/E13/E13_R1/S2_E13_R1_IMAG0147</td>\n",
       "      <td>warthog</td>\n",
       "    </tr>\n",
       "    <tr>\n",
       "      <th>4</th>\n",
       "      <td>S3/S09/S09_R12/S3_S09_R12_IMAG1322</td>\n",
       "      <td>zebra</td>\n",
       "    </tr>\n",
       "  </tbody>\n",
       "</table>\n",
       "</div>"
      ],
      "text/plain": [
       "                             filename            class\n",
       "0  S3/B07/B07_R11/S3_B07_R11_IMAG0246  gazelleThomsons\n",
       "1    S2/K09/K09_R1/S2_K09_R1_PICT0812  gazelleThomsons\n",
       "2  S3/P09/P09_R12/S3_P09_R12_IMAG0382       wildebeest\n",
       "3    S2/E13/E13_R1/S2_E13_R1_IMAG0147          warthog\n",
       "4  S3/S09/S09_R12/S3_S09_R12_IMAG1322            zebra"
      ]
     },
     "execution_count": 16,
     "metadata": {},
     "output_type": "execute_result"
    }
   ],
   "source": [
    "# 1. Filter out the image, class that are single species\n",
    "## a. df_base already excludes HERD images **(Part 1, HERD)**\n",
    "\n",
    "df_single_species = df_base[~df_base['filename'].isin(df_base_multi_species_lst)]\n",
    "print(df_single_species.shape)\n",
    "df_single_species.head()"
   ]
  },
  {
   "cell_type": "markdown",
   "metadata": {},
   "source": [
    "#### Function to sample out the images given parameters like:\n",
    "1. Species to sample\n",
    "2. Number of images to sample\n",
    "    - Sampling size is proportional to in the inverse frequency of the training data size of the species.\n",
    "    - Considered species with less than 1000 images in the initial dataset."
   ]
  },
  {
   "cell_type": "code",
   "execution_count": 17,
   "metadata": {},
   "outputs": [],
   "source": [
    "def get_image_samples_for_species(dataframe, species, count, seed = None):\n",
    "    '''This function takes a dataframe and samples out n(count)-records\n",
    "    for the given species'''\n",
    "    random.seed(seed)\n",
    "    dataframe_species = dataframe[dataframe['class']==species]\n",
    "    row, col = dataframe_species.shape\n",
    "    if row < count:\n",
    "        df_sampled_species = dataframe_species\n",
    "    else:\n",
    "        filename_sampled = random.sample(list(set(dataframe_species['filename'])), count)\n",
    "        df_sampled_species = dataframe_species[[val in filename_sampled for val in list(dataframe_species['filename'])]]\n",
    "    return df_sampled_species\n",
    "\n",
    "def get_imget_image_samples_for_species_with_uniform_dist(dataframe, num_sample, seed=None):\n",
    "    \"\"\"Sample images with uniform and equal probability assumption for all species. \"\"\"\n",
    "    random.seed(seed)\n",
    "    row, col = dataframe.shape\n",
    "    filename_sampled = random.sample(list(set(dataframe['filename'])), num_sample)\n",
    "    df_sampled = dataframe.loc[dataframe['filename'].isin(filename_sampled)]\n",
    "    return df_sampled"
   ]
  },
  {
   "cell_type": "code",
   "execution_count": 18,
   "metadata": {},
   "outputs": [
    {
     "data": {
      "text/html": [
       "<div>\n",
       "<style scoped>\n",
       "    .dataframe tbody tr th:only-of-type {\n",
       "        vertical-align: middle;\n",
       "    }\n",
       "\n",
       "    .dataframe tbody tr th {\n",
       "        vertical-align: top;\n",
       "    }\n",
       "\n",
       "    .dataframe thead th {\n",
       "        text-align: right;\n",
       "    }\n",
       "</style>\n",
       "<table border=\"1\" class=\"dataframe\">\n",
       "  <thead>\n",
       "    <tr style=\"text-align: right;\">\n",
       "      <th></th>\n",
       "      <th>filename</th>\n",
       "      <th>class</th>\n",
       "    </tr>\n",
       "  </thead>\n",
       "  <tbody>\n",
       "    <tr>\n",
       "      <th>126</th>\n",
       "      <td>S3/H04/H04_R11/S3_H04_R11_IMAG0117</td>\n",
       "      <td>wildebeest</td>\n",
       "    </tr>\n",
       "  </tbody>\n",
       "</table>\n",
       "</div>"
      ],
      "text/plain": [
       "                               filename       class\n",
       "126  S3/H04/H04_R11/S3_H04_R11_IMAG0117  wildebeest"
      ]
     },
     "execution_count": 18,
     "metadata": {},
     "output_type": "execute_result"
    }
   ],
   "source": [
    "# Test the function \n",
    "get_image_samples_for_species(df_single_species, 'wildebeest', 1)"
   ]
  },
  {
   "cell_type": "code",
   "execution_count": 19,
   "metadata": {},
   "outputs": [
    {
     "data": {
      "text/plain": [
       "'/home/ubuntu/data/tensorflow/my_workspace/camera-trap-detection/data_prep'"
      ]
     },
     "execution_count": 19,
     "metadata": {},
     "output_type": "execute_result"
    }
   ],
   "source": [
    "pwd"
   ]
  },
  {
   "cell_type": "code",
   "execution_count": 12,
   "metadata": {},
   "outputs": [
    {
     "data": {
      "text/html": [
       "<div>\n",
       "<style scoped>\n",
       "    .dataframe tbody tr th:only-of-type {\n",
       "        vertical-align: middle;\n",
       "    }\n",
       "\n",
       "    .dataframe tbody tr th {\n",
       "        vertical-align: top;\n",
       "    }\n",
       "\n",
       "    .dataframe thead th {\n",
       "        text-align: right;\n",
       "    }\n",
       "</style>\n",
       "<table border=\"1\" class=\"dataframe\">\n",
       "  <thead>\n",
       "    <tr style=\"text-align: right;\">\n",
       "      <th></th>\n",
       "      <th>Species</th>\n",
       "      <th>Training_boxes_Count</th>\n",
       "      <th>image_count</th>\n",
       "      <th>inv_image_count</th>\n",
       "      <th>p_samples</th>\n",
       "      <th>num_sampled_images</th>\n",
       "    </tr>\n",
       "  </thead>\n",
       "  <tbody>\n",
       "    <tr>\n",
       "      <th>0</th>\n",
       "      <td>ostrich</td>\n",
       "      <td>1,007</td>\n",
       "      <td>676</td>\n",
       "      <td>0.00148</td>\n",
       "      <td>1.30%</td>\n",
       "      <td>65</td>\n",
       "    </tr>\n",
       "    <tr>\n",
       "      <th>1</th>\n",
       "      <td>topi</td>\n",
       "      <td>1,690</td>\n",
       "      <td>674</td>\n",
       "      <td>0.00148</td>\n",
       "      <td>1.30%</td>\n",
       "      <td>66</td>\n",
       "    </tr>\n",
       "    <tr>\n",
       "      <th>2</th>\n",
       "      <td>eland</td>\n",
       "      <td>1,812</td>\n",
       "      <td>665</td>\n",
       "      <td>0.00150</td>\n",
       "      <td>1.32%</td>\n",
       "      <td>66</td>\n",
       "    </tr>\n",
       "    <tr>\n",
       "      <th>3</th>\n",
       "      <td>human</td>\n",
       "      <td>871</td>\n",
       "      <td>629</td>\n",
       "      <td>0.00159</td>\n",
       "      <td>1.39%</td>\n",
       "      <td>70</td>\n",
       "    </tr>\n",
       "    <tr>\n",
       "      <th>4</th>\n",
       "      <td>impala</td>\n",
       "      <td>2,317</td>\n",
       "      <td>622</td>\n",
       "      <td>0.00161</td>\n",
       "      <td>1.41%</td>\n",
       "      <td>71</td>\n",
       "    </tr>\n",
       "  </tbody>\n",
       "</table>\n",
       "</div>"
      ],
      "text/plain": [
       "   Species Training_boxes_Count  image_count  inv_image_count p_samples  \\\n",
       "0  ostrich                1,007          676          0.00148     1.30%   \n",
       "1     topi                1,690          674          0.00148     1.30%   \n",
       "2    eland                1,812          665          0.00150     1.32%   \n",
       "3    human                  871          629          0.00159     1.39%   \n",
       "4   impala                2,317          622          0.00161     1.41%   \n",
       "\n",
       "   num_sampled_images  \n",
       "0                  65  \n",
       "1                  66  \n",
       "2                  66  \n",
       "3                  70  \n",
       "4                  71  "
      ]
     },
     "execution_count": 12,
     "metadata": {},
     "output_type": "execute_result"
    }
   ],
   "source": [
    "# 2(a) Import the dataset with sampling counts for Species\n",
    "df_sample_size = pd.read_csv('../data/bootstrapping/{1}/sample_proportion_{0}.csv'\\\n",
    "                             .format(round_number_next, Lower_Bound_experiment_path), sep='\\t')\n",
    "df_sample_size.head()"
   ]
  },
  {
   "cell_type": "code",
   "execution_count": 16,
   "metadata": {},
   "outputs": [],
   "source": [
    "# Initiate an empty dataset that will eventually contain the samples species and the corresponfing filename\n",
    "df_all = pd.DataFrame()\n",
    "for i in range(df_sample_size.shape[0]):\n",
    "    species = df_sample_size.iloc[i]['Species'] # get the respective species to sample\n",
    "    count = df_sample_size.iloc[i]['num_sampled_images'] # get count to sample\n",
    "    df_sampled_species = get_image_samples_for_species(df_single_species, species, count)\n",
    "    df_all = df_all.append(df_sampled_species)\n",
    "df_sampled_species_lst = list(set(df_all['filename']))"
   ]
  },
  {
   "cell_type": "code",
   "execution_count": 17,
   "metadata": {},
   "outputs": [
    {
     "name": "stdout",
     "output_type": "stream",
     "text": [
      "819\n",
      "819\n"
     ]
    },
    {
     "data": {
      "text/html": [
       "<div>\n",
       "<style scoped>\n",
       "    .dataframe tbody tr th:only-of-type {\n",
       "        vertical-align: middle;\n",
       "    }\n",
       "\n",
       "    .dataframe tbody tr th {\n",
       "        vertical-align: top;\n",
       "    }\n",
       "\n",
       "    .dataframe thead th {\n",
       "        text-align: right;\n",
       "    }\n",
       "</style>\n",
       "<table border=\"1\" class=\"dataframe\">\n",
       "  <thead>\n",
       "    <tr style=\"text-align: right;\">\n",
       "      <th></th>\n",
       "      <th>filename</th>\n",
       "      <th>class</th>\n",
       "    </tr>\n",
       "  </thead>\n",
       "  <tbody>\n",
       "    <tr>\n",
       "      <th>3144</th>\n",
       "      <td>S5/D04/D04_R3/S5_D04_R3_IMAG0026</td>\n",
       "      <td>hippopotamus</td>\n",
       "    </tr>\n",
       "    <tr>\n",
       "      <th>2700</th>\n",
       "      <td>S5/D04/D04_R1/S5_D04_R1_IMAG1673</td>\n",
       "      <td>hippopotamus</td>\n",
       "    </tr>\n",
       "    <tr>\n",
       "      <th>3585</th>\n",
       "      <td>S5/D04/D04_R3/S5_D04_R3_IMAG0169</td>\n",
       "      <td>hippopotamus</td>\n",
       "    </tr>\n",
       "    <tr>\n",
       "      <th>576</th>\n",
       "      <td>S1/E03/E03_R2/S1_E03_R2_PICT0059</td>\n",
       "      <td>hippopotamus</td>\n",
       "    </tr>\n",
       "    <tr>\n",
       "      <th>4460</th>\n",
       "      <td>S6/F06/F06_R2/S6_F06_R2_IMAG0334</td>\n",
       "      <td>hippopotamus</td>\n",
       "    </tr>\n",
       "  </tbody>\n",
       "</table>\n",
       "</div>"
      ],
      "text/plain": [
       "                              filename         class\n",
       "3144  S5/D04/D04_R3/S5_D04_R3_IMAG0026  hippopotamus\n",
       "2700  S5/D04/D04_R1/S5_D04_R1_IMAG1673  hippopotamus\n",
       "3585  S5/D04/D04_R3/S5_D04_R3_IMAG0169  hippopotamus\n",
       "576   S1/E03/E03_R2/S1_E03_R2_PICT0059  hippopotamus\n",
       "4460  S6/F06/F06_R2/S6_F06_R2_IMAG0334  hippopotamus"
      ]
     },
     "execution_count": 17,
     "metadata": {},
     "output_type": "execute_result"
    }
   ],
   "source": [
    "print(sum(df_all.groupby(['class'], as_index=False)['filename'].count()['filename']))\n",
    "print(len(df_sampled_species_lst))\n",
    "df_all.tail()"
   ]
  },
  {
   "cell_type": "markdown",
   "metadata": {},
   "source": [
    "## Export the datasets to CSV:\n",
    "1. herd dataset\n",
    "2. Multi-Species\n",
    "3. Single Species"
   ]
  },
  {
   "cell_type": "markdown",
   "metadata": {},
   "source": [
    "**1. HERD images**"
   ]
  },
  {
   "cell_type": "code",
   "execution_count": 19,
   "metadata": {},
   "outputs": [
    {
     "name": "stdout",
     "output_type": "stream",
     "text": [
      "(21122, 6)\n"
     ]
    }
   ],
   "source": [
    "df_herd = df_base_bbox[df_base_bbox['filename'].isin(df_image_herd_lst)]\n",
    "df_herd.to_csv('../data/bootstrapping/{1}/{0}_csv/herd_bbox.csv'\\\n",
    "               .format(round_number_next, Lower_Bound_experiment_path), index=False)\n",
    "print(df_herd.shape)"
   ]
  },
  {
   "cell_type": "markdown",
   "metadata": {},
   "source": [
    "**2. Multi-Species**"
   ]
  },
  {
   "cell_type": "code",
   "execution_count": 20,
   "metadata": {},
   "outputs": [
    {
     "name": "stdout",
     "output_type": "stream",
     "text": [
      "(10236, 6)\n"
     ]
    }
   ],
   "source": [
    "df_multiSpecies = df_base_bbox[df_base_bbox['filename'].isin(df_base_multi_species_lst)]\n",
    "df_multiSpecies.to_csv('../data/bootstrapping/{1}/{0}_csv/multiSpecies_bbox.csv'\\\n",
    "                       .format(round_number_next, Lower_Bound_experiment_path), index=False)\n",
    "print(df_multiSpecies.shape)"
   ]
  },
  {
   "cell_type": "markdown",
   "metadata": {},
   "source": [
    "**3. Single Species**"
   ]
  },
  {
   "cell_type": "code",
   "execution_count": 21,
   "metadata": {},
   "outputs": [
    {
     "name": "stdout",
     "output_type": "stream",
     "text": [
      "(1088, 6)\n"
     ]
    }
   ],
   "source": [
    "df_singleSpecies = df_base_bbox[df_base_bbox['filename'].isin(df_sampled_species_lst)]\n",
    "df_singleSpecies.to_csv('../data/bootstrapping/{1}/{0}_csv/singleSpecies_bbox.csv'\\\n",
    "                        .format(round_number_next, Lower_Bound_experiment_path), index=False)\n",
    "print(df_singleSpecies.shape)"
   ]
  },
  {
   "cell_type": "markdown",
   "metadata": {},
   "source": [
    "### 4. Single Species with Uniform distribution sampling"
   ]
  },
  {
   "cell_type": "code",
   "execution_count": 20,
   "metadata": {},
   "outputs": [
    {
     "name": "stdout",
     "output_type": "stream",
     "text": [
      "100000\n"
     ]
    },
    {
     "data": {
      "text/html": [
       "<div>\n",
       "<style scoped>\n",
       "    .dataframe tbody tr th:only-of-type {\n",
       "        vertical-align: middle;\n",
       "    }\n",
       "\n",
       "    .dataframe tbody tr th {\n",
       "        vertical-align: top;\n",
       "    }\n",
       "\n",
       "    .dataframe thead th {\n",
       "        text-align: right;\n",
       "    }\n",
       "</style>\n",
       "<table border=\"1\" class=\"dataframe\">\n",
       "  <thead>\n",
       "    <tr style=\"text-align: right;\">\n",
       "      <th></th>\n",
       "      <th>filename</th>\n",
       "      <th>class</th>\n",
       "      <th>xmin</th>\n",
       "      <th>ymin</th>\n",
       "      <th>xmax</th>\n",
       "      <th>ymax</th>\n",
       "    </tr>\n",
       "  </thead>\n",
       "  <tbody>\n",
       "    <tr>\n",
       "      <th>7</th>\n",
       "      <td>S5/H07/H07_R1/S5_H07_R1_IMAG2673</td>\n",
       "      <td>guineaFowl</td>\n",
       "      <td>0.614661</td>\n",
       "      <td>0.670146</td>\n",
       "      <td>0.845363</td>\n",
       "      <td>0.974787</td>\n",
       "    </tr>\n",
       "    <tr>\n",
       "      <th>10</th>\n",
       "      <td>S2/B07/B07_R2/S2_B07_R2_PICT2496</td>\n",
       "      <td>wildebeest</td>\n",
       "      <td>0.019187</td>\n",
       "      <td>0.000000</td>\n",
       "      <td>0.936146</td>\n",
       "      <td>0.945290</td>\n",
       "    </tr>\n",
       "    <tr>\n",
       "      <th>11</th>\n",
       "      <td>S2/T09/T09_R2/S2_T09_R2_PICT0407</td>\n",
       "      <td>zebra</td>\n",
       "      <td>0.331471</td>\n",
       "      <td>0.458952</td>\n",
       "      <td>0.558414</td>\n",
       "      <td>0.696997</td>\n",
       "    </tr>\n",
       "    <tr>\n",
       "      <th>12</th>\n",
       "      <td>S3/S10/S10_R12/S3_S10_R12_IMAG1007</td>\n",
       "      <td>wildebeest</td>\n",
       "      <td>0.928326</td>\n",
       "      <td>0.533921</td>\n",
       "      <td>0.999058</td>\n",
       "      <td>0.785036</td>\n",
       "    </tr>\n",
       "    <tr>\n",
       "      <th>13</th>\n",
       "      <td>S3/S10/S10_R12/S3_S10_R12_IMAG1007</td>\n",
       "      <td>wildebeest</td>\n",
       "      <td>0.064094</td>\n",
       "      <td>0.570880</td>\n",
       "      <td>0.096490</td>\n",
       "      <td>0.608668</td>\n",
       "    </tr>\n",
       "  </tbody>\n",
       "</table>\n",
       "</div>"
      ],
      "text/plain": [
       "                              filename       class      xmin      ymin  \\\n",
       "7     S5/H07/H07_R1/S5_H07_R1_IMAG2673  guineaFowl  0.614661  0.670146   \n",
       "10    S2/B07/B07_R2/S2_B07_R2_PICT2496  wildebeest  0.019187  0.000000   \n",
       "11    S2/T09/T09_R2/S2_T09_R2_PICT0407       zebra  0.331471  0.458952   \n",
       "12  S3/S10/S10_R12/S3_S10_R12_IMAG1007  wildebeest  0.928326  0.533921   \n",
       "13  S3/S10/S10_R12/S3_S10_R12_IMAG1007  wildebeest  0.064094  0.570880   \n",
       "\n",
       "        xmax      ymax  \n",
       "7   0.845363  0.974787  \n",
       "10  0.936146  0.945290  \n",
       "11  0.558414  0.696997  \n",
       "12  0.999058  0.785036  \n",
       "13  0.096490  0.608668  "
      ]
     },
     "execution_count": 20,
     "metadata": {},
     "output_type": "execute_result"
    }
   ],
   "source": [
    "df_single_species_uniform_dist_lst = list(get_imget_image_samples_for_species_with_uniform_dist(df_single_species, \\\n",
    "                                                                                       num_sample=100000)['filename'])\n",
    "df_single_species_uniform_dist = df_base_bbox[df_base_bbox['filename'].isin(df_single_species_uniform_dist_lst)]\n",
    "print(len(df_single_species_uniform_dist_lst))\n",
    "\n",
    "df_single_species_uniform_dist.to_csv('../data/bootstrapping/{1}/{0}_csv/singleSpecies_bbox.csv'\\\n",
    "                                      .format(round_number_next, Lower_Bound_experiment_path), index=False)\n",
    "df_single_species_uniform_dist.head()"
   ]
  },
  {
   "cell_type": "markdown",
   "metadata": {},
   "source": [
    "# Species Distribution in the samples:"
   ]
  },
  {
   "cell_type": "code",
   "execution_count": 3,
   "metadata": {},
   "outputs": [],
   "source": [
    "round_number = round_number_next\n",
    "filepath_list = glob.glob('../data/bootstrapping/{1}/{0}_csv/*'\\\n",
    "                          .format(round_number, Lower_Bound_experiment_path))"
   ]
  },
  {
   "cell_type": "code",
   "execution_count": 4,
   "metadata": {},
   "outputs": [
    {
     "data": {
      "text/plain": [
       "['../data/bootstrapping/bootstrap_LowerBound50p/round2_csv/singleSpecies_bbox.csv']"
      ]
     },
     "execution_count": 4,
     "metadata": {},
     "output_type": "execute_result"
    }
   ],
   "source": [
    "filepath_list"
   ]
  },
  {
   "cell_type": "code",
   "execution_count": 5,
   "metadata": {},
   "outputs": [],
   "source": [
    "df_pred_gt_consolidated = pd.DataFrame()\n",
    "for filepath in filepath_list:\n",
    "    # import csv to pandas\n",
    "    df_pred_gt_temp = pd.read_csv(filepath)\n",
    "    # subset the 2 columns\n",
    "    df_pred_gt_temp = df_pred_gt_temp[['filename', 'class']]\n",
    "    # Drop duplicates. We need to get the frequency of images for each animal\n",
    "    df_pred_gt_temp = df_pred_gt_temp.drop_duplicates()\n",
    "    df_pred_gt_consolidated = df_pred_gt_consolidated.append(df_pred_gt_temp)\n",
    "\n",
    "# Get the frequency of images for each animal\n",
    "df_bootstrap = df_pred_gt_consolidated.groupby(by=['class'], as_index=False)['filename'].count()\n",
    "df_bootstrap.columns = ['species', 'Additional_Data_Size']"
   ]
  },
  {
   "cell_type": "code",
   "execution_count": 6,
   "metadata": {},
   "outputs": [],
   "source": [
    "df_bootstrap.to_csv('/home/ubuntu/data/tensorflow/my_workspace/camera-trap-detection/EDA_and_ModelEvaluation/{1}/BootStrap_{0}_addition.csv'\\\n",
    "                    .format(round_number, Lower_Bound_experiment_path), index=False)"
   ]
  },
  {
   "cell_type": "code",
   "execution_count": null,
   "metadata": {},
   "outputs": [],
   "source": []
  }
 ],
 "metadata": {
  "kernelspec": {
   "display_name": "Python 3",
   "language": "python",
   "name": "python3"
  },
  "language_info": {
   "codemirror_mode": {
    "name": "ipython",
    "version": 3
   },
   "file_extension": ".py",
   "mimetype": "text/x-python",
   "name": "python",
   "nbconvert_exporter": "python",
   "pygments_lexer": "ipython3",
   "version": "3.5.2"
  }
 },
 "nbformat": 4,
 "nbformat_minor": 2
}
