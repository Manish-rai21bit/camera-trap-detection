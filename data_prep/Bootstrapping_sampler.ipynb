{
 "cells": [
  {
   "cell_type": "markdown",
   "metadata": {},
   "source": [
    "### Bootstrapping data prep pipeline\n",
    "\n",
    "This is a weakly supervised technique and should be augmented with human annotaions at a higher level. \n"
   ]
  },
  {
   "cell_type": "markdown",
   "metadata": {},
   "source": [
    "### Sampler function for data prep for training\n",
    "\n",
    "\n",
    "- The implentation for the blocks in blue ink.\n",
    "- A set of functions that takes as input :\n",
    "    - CSV's at multiple levels - Image, Species count level or Image, bounding box level, etc.  \n",
    "    - Sampling technique\n",
    "    - number of samples required\n",
    "    - this list will evolve as I write this code\n",
    "    \n",
    "\n",
    "<img src=\"IMG_0026.jpg\" width=\"600\" height=\"200\">\n",
    "\n"
   ]
  },
  {
   "cell_type": "code",
   "execution_count": null,
   "metadata": {},
   "outputs": [],
   "source": []
  }
 ],
 "metadata": {
  "kernelspec": {
   "display_name": "Python 3",
   "language": "python",
   "name": "python3"
  },
  "language_info": {
   "codemirror_mode": {
    "name": "ipython",
    "version": 3
   },
   "file_extension": ".py",
   "mimetype": "text/x-python",
   "name": "python",
   "nbconvert_exporter": "python",
   "pygments_lexer": "ipython3",
   "version": "3.5.2"
  }
 },
 "nbformat": 4,
 "nbformat_minor": 2
}
