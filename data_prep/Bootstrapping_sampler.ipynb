{
 "cells": [
  {
   "cell_type": "markdown",
   "metadata": {},
   "source": [
    "### Bootstrapping data prep pipeline\n",
    "\n",
    "This is a weakly supervised technique and should be augmented with human annotaions at a higher level. \n"
   ]
  },
  {
   "cell_type": "markdown",
   "metadata": {},
   "source": [
    "### Sampler function for data prep for training\n",
    "\n",
    "\n",
    "- The implentation for the blocks in blue ink.\n",
    "- A set of functions that takes as input :\n",
    "    - CSV's at multiple levels - Image, Species count level or Image, bounding box level, etc.  \n",
    "    - Sampling technique\n",
    "    - number of samples required\n",
    "    - this list will evolve as I write this code\n",
    "    \n",
    "\n",
    "<img src=\"IMG_0026.jpg\" width=\"600\" height=\"200\">\n",
    "\n"
   ]
  },
  {
   "cell_type": "markdown",
   "metadata": {},
   "source": [
    "1. Read all the shards created - ```/home/ubuntu/data/tensorflow/my_workspace/training_demo/Predictions/round1/bootstrap_data_<>```\n",
    "2. Consolidate the list of filenames and animals\n",
    "3. Sample them on the proportions that I build\n",
    "4. Choose all the multi-species images"
   ]
  },
  {
   "cell_type": "code",
   "execution_count": 55,
   "metadata": {},
   "outputs": [],
   "source": [
    "import pandas as pd\n",
    "import csv, glob, random\n",
    "from timeit import default_timer as timer\n",
    "import numpy as np\n",
    "import matplotlib.pyplot as plt"
   ]
  },
  {
   "cell_type": "code",
   "execution_count": 56,
   "metadata": {},
   "outputs": [
    {
     "name": "stdout",
     "output_type": "stream",
     "text": [
      "12255\n",
      "2747\n",
      "6505\n",
      "3003\n"
     ]
    }
   ],
   "source": [
    "# add in parameters\n",
    "round_number = 'round1'\n",
    "round_number_next = 'round2'\n",
    "data_already_used_for_training_herd = set(pd.read_csv('../data/bootstrapping/{0}_csv/herd_bbox.csv'.format(round_number))['filename'])\n",
    "data_already_used_for_training_ms = set(pd.read_csv('../data/bootstrapping/{0}_csv/multiSpecies_bbox.csv'.format(round_number))['filename'])\n",
    "data_already_used_for_training_ss = set(pd.read_csv('../data/bootstrapping/{0}_csv/singleSpecies_bbox.csv'.format(round_number))['filename'])\n",
    "data_already_used_for_training_list = list(data_already_used_for_training_herd.union(data_already_used_for_training_ms).union(data_already_used_for_training_ss))\n",
    "\n",
    "# data_already_used_for_training_list.shape\n",
    "print(len(data_already_used_for_training_list))\n",
    "print(len(data_already_used_for_training_herd))\n",
    "print(len(data_already_used_for_training_ms))\n",
    "print(len(data_already_used_for_training_ss))"
   ]
  },
  {
   "cell_type": "markdown",
   "metadata": {},
   "source": [
    "### Dataframe with all shards appended\n",
    "Generate a master dataset with all the appended bounding boxes"
   ]
  },
  {
   "cell_type": "code",
   "execution_count": 57,
   "metadata": {},
   "outputs": [
    {
     "name": "stdout",
     "output_type": "stream",
     "text": [
      "15.4\n",
      "(1828488, 6)\n"
     ]
    }
   ],
   "source": [
    "df_base_bbox = pd.DataFrame()\n",
    "start = timer()\n",
    "for i, path in enumerate(glob.glob('/home/ubuntu/data/tensorflow/my_workspace/training_demo/Predictions/S1_S6/{0}/Post_procession_of_infer_detection/bootstrap_data_snapshot_serengeti_s01_s06_*'.format(round_number))):\n",
    "    df = pd.read_csv(path)\n",
    "    df_base_bbox = df_base_bbox.append(df)\n",
    "end = timer()\n",
    "print(round((end - start), 1))\n",
    "print(df_base_bbox.shape)"
   ]
  },
  {
   "cell_type": "code",
   "execution_count": 58,
   "metadata": {},
   "outputs": [
    {
     "data": {
      "text/html": [
       "<div>\n",
       "<style scoped>\n",
       "    .dataframe tbody tr th:only-of-type {\n",
       "        vertical-align: middle;\n",
       "    }\n",
       "\n",
       "    .dataframe tbody tr th {\n",
       "        vertical-align: top;\n",
       "    }\n",
       "\n",
       "    .dataframe thead th {\n",
       "        text-align: right;\n",
       "    }\n",
       "</style>\n",
       "<table border=\"1\" class=\"dataframe\">\n",
       "  <thead>\n",
       "    <tr style=\"text-align: right;\">\n",
       "      <th></th>\n",
       "      <th>filename</th>\n",
       "      <th>class</th>\n",
       "      <th>xmin</th>\n",
       "      <th>ymin</th>\n",
       "      <th>xmax</th>\n",
       "      <th>ymax</th>\n",
       "    </tr>\n",
       "  </thead>\n",
       "  <tbody>\n",
       "    <tr>\n",
       "      <th>0</th>\n",
       "      <td>S5/B04/B04_R3/S5_B04_R3_IMAG0200</td>\n",
       "      <td>wildebeest</td>\n",
       "      <td>0.645418</td>\n",
       "      <td>0.555125</td>\n",
       "      <td>0.722567</td>\n",
       "      <td>0.679608</td>\n",
       "    </tr>\n",
       "    <tr>\n",
       "      <th>1</th>\n",
       "      <td>S5/B04/B04_R3/S5_B04_R3_IMAG0200</td>\n",
       "      <td>wildebeest</td>\n",
       "      <td>0.348833</td>\n",
       "      <td>0.577583</td>\n",
       "      <td>0.391110</td>\n",
       "      <td>0.609568</td>\n",
       "    </tr>\n",
       "    <tr>\n",
       "      <th>2</th>\n",
       "      <td>S5/B04/B04_R3/S5_B04_R3_IMAG0200</td>\n",
       "      <td>wildebeest</td>\n",
       "      <td>0.213356</td>\n",
       "      <td>0.490319</td>\n",
       "      <td>0.334306</td>\n",
       "      <td>0.692091</td>\n",
       "    </tr>\n",
       "    <tr>\n",
       "      <th>3</th>\n",
       "      <td>S5/B04/B04_R3/S5_B04_R3_IMAG0200</td>\n",
       "      <td>wildebeest</td>\n",
       "      <td>0.676879</td>\n",
       "      <td>0.391617</td>\n",
       "      <td>1.000000</td>\n",
       "      <td>0.914740</td>\n",
       "    </tr>\n",
       "    <tr>\n",
       "      <th>4</th>\n",
       "      <td>S5/B04/B04_R3/S5_B04_R3_IMAG0200</td>\n",
       "      <td>wildebeest</td>\n",
       "      <td>0.675606</td>\n",
       "      <td>0.395122</td>\n",
       "      <td>0.996273</td>\n",
       "      <td>0.925809</td>\n",
       "    </tr>\n",
       "  </tbody>\n",
       "</table>\n",
       "</div>"
      ],
      "text/plain": [
       "                           filename       class      xmin      ymin      xmax  \\\n",
       "0  S5/B04/B04_R3/S5_B04_R3_IMAG0200  wildebeest  0.645418  0.555125  0.722567   \n",
       "1  S5/B04/B04_R3/S5_B04_R3_IMAG0200  wildebeest  0.348833  0.577583  0.391110   \n",
       "2  S5/B04/B04_R3/S5_B04_R3_IMAG0200  wildebeest  0.213356  0.490319  0.334306   \n",
       "3  S5/B04/B04_R3/S5_B04_R3_IMAG0200  wildebeest  0.676879  0.391617  1.000000   \n",
       "4  S5/B04/B04_R3/S5_B04_R3_IMAG0200  wildebeest  0.675606  0.395122  0.996273   \n",
       "\n",
       "       ymax  \n",
       "0  0.679608  \n",
       "1  0.609568  \n",
       "2  0.692091  \n",
       "3  0.914740  \n",
       "4  0.925809  "
      ]
     },
     "execution_count": 58,
     "metadata": {},
     "output_type": "execute_result"
    }
   ],
   "source": [
    "df_base_bbox.head()"
   ]
  },
  {
   "cell_type": "code",
   "execution_count": 59,
   "metadata": {},
   "outputs": [
    {
     "name": "stdout",
     "output_type": "stream",
     "text": [
      "(1783256, 6)\n"
     ]
    },
    {
     "data": {
      "text/html": [
       "<div>\n",
       "<style scoped>\n",
       "    .dataframe tbody tr th:only-of-type {\n",
       "        vertical-align: middle;\n",
       "    }\n",
       "\n",
       "    .dataframe tbody tr th {\n",
       "        vertical-align: top;\n",
       "    }\n",
       "\n",
       "    .dataframe thead th {\n",
       "        text-align: right;\n",
       "    }\n",
       "</style>\n",
       "<table border=\"1\" class=\"dataframe\">\n",
       "  <thead>\n",
       "    <tr style=\"text-align: right;\">\n",
       "      <th></th>\n",
       "      <th>filename</th>\n",
       "      <th>class</th>\n",
       "      <th>xmin</th>\n",
       "      <th>ymin</th>\n",
       "      <th>xmax</th>\n",
       "      <th>ymax</th>\n",
       "    </tr>\n",
       "  </thead>\n",
       "  <tbody>\n",
       "    <tr>\n",
       "      <th>0</th>\n",
       "      <td>S5/B04/B04_R3/S5_B04_R3_IMAG0200</td>\n",
       "      <td>wildebeest</td>\n",
       "      <td>0.645418</td>\n",
       "      <td>0.555125</td>\n",
       "      <td>0.722567</td>\n",
       "      <td>0.679608</td>\n",
       "    </tr>\n",
       "    <tr>\n",
       "      <th>1</th>\n",
       "      <td>S5/B04/B04_R3/S5_B04_R3_IMAG0200</td>\n",
       "      <td>wildebeest</td>\n",
       "      <td>0.348833</td>\n",
       "      <td>0.577583</td>\n",
       "      <td>0.391110</td>\n",
       "      <td>0.609568</td>\n",
       "    </tr>\n",
       "    <tr>\n",
       "      <th>2</th>\n",
       "      <td>S5/B04/B04_R3/S5_B04_R3_IMAG0200</td>\n",
       "      <td>wildebeest</td>\n",
       "      <td>0.213356</td>\n",
       "      <td>0.490319</td>\n",
       "      <td>0.334306</td>\n",
       "      <td>0.692091</td>\n",
       "    </tr>\n",
       "    <tr>\n",
       "      <th>3</th>\n",
       "      <td>S5/B04/B04_R3/S5_B04_R3_IMAG0200</td>\n",
       "      <td>wildebeest</td>\n",
       "      <td>0.676879</td>\n",
       "      <td>0.391617</td>\n",
       "      <td>1.000000</td>\n",
       "      <td>0.914740</td>\n",
       "    </tr>\n",
       "    <tr>\n",
       "      <th>4</th>\n",
       "      <td>S5/B04/B04_R3/S5_B04_R3_IMAG0200</td>\n",
       "      <td>wildebeest</td>\n",
       "      <td>0.675606</td>\n",
       "      <td>0.395122</td>\n",
       "      <td>0.996273</td>\n",
       "      <td>0.925809</td>\n",
       "    </tr>\n",
       "  </tbody>\n",
       "</table>\n",
       "</div>"
      ],
      "text/plain": [
       "                           filename       class      xmin      ymin      xmax  \\\n",
       "0  S5/B04/B04_R3/S5_B04_R3_IMAG0200  wildebeest  0.645418  0.555125  0.722567   \n",
       "1  S5/B04/B04_R3/S5_B04_R3_IMAG0200  wildebeest  0.348833  0.577583  0.391110   \n",
       "2  S5/B04/B04_R3/S5_B04_R3_IMAG0200  wildebeest  0.213356  0.490319  0.334306   \n",
       "3  S5/B04/B04_R3/S5_B04_R3_IMAG0200  wildebeest  0.676879  0.391617  1.000000   \n",
       "4  S5/B04/B04_R3/S5_B04_R3_IMAG0200  wildebeest  0.675606  0.395122  0.996273   \n",
       "\n",
       "       ymax  \n",
       "0  0.679608  \n",
       "1  0.609568  \n",
       "2  0.692091  \n",
       "3  0.914740  \n",
       "4  0.925809  "
      ]
     },
     "execution_count": 59,
     "metadata": {},
     "output_type": "execute_result"
    }
   ],
   "source": [
    "# Exclude data that have already been used in training\n",
    "# index_not_used_for_training = [filename in data_already_used_for_training_list for filename in df_base_bbox['filename']]\n",
    "# index_not_used_for_training\n",
    "\n",
    "df_base_bbox = df_base_bbox[~df_base_bbox['filename'].isin(data_already_used_for_training_list)]\n",
    "print(df_base_bbox.shape)\n",
    "df_base_bbox.head()"
   ]
  },
  {
   "cell_type": "markdown",
   "metadata": {},
   "source": [
    "### 1. HERD\n",
    "We first focus on and sample the herd images. Since, the images are herd images are less than 5000 (2747 images to be precise), we take all of them for our model training."
   ]
  },
  {
   "cell_type": "code",
   "execution_count": 60,
   "metadata": {},
   "outputs": [
    {
     "data": {
      "text/html": [
       "<div>\n",
       "<style scoped>\n",
       "    .dataframe tbody tr th:only-of-type {\n",
       "        vertical-align: middle;\n",
       "    }\n",
       "\n",
       "    .dataframe tbody tr th {\n",
       "        vertical-align: top;\n",
       "    }\n",
       "\n",
       "    .dataframe thead th {\n",
       "        text-align: right;\n",
       "    }\n",
       "</style>\n",
       "<table border=\"1\" class=\"dataframe\">\n",
       "  <thead>\n",
       "    <tr style=\"text-align: right;\">\n",
       "      <th></th>\n",
       "      <th>count_box</th>\n",
       "      <th>num_images</th>\n",
       "    </tr>\n",
       "  </thead>\n",
       "  <tbody>\n",
       "    <tr>\n",
       "      <th>15</th>\n",
       "      <td>16</td>\n",
       "      <td>43</td>\n",
       "    </tr>\n",
       "    <tr>\n",
       "      <th>16</th>\n",
       "      <td>17</td>\n",
       "      <td>23</td>\n",
       "    </tr>\n",
       "    <tr>\n",
       "      <th>17</th>\n",
       "      <td>18</td>\n",
       "      <td>11</td>\n",
       "    </tr>\n",
       "    <tr>\n",
       "      <th>18</th>\n",
       "      <td>19</td>\n",
       "      <td>4</td>\n",
       "    </tr>\n",
       "    <tr>\n",
       "      <th>19</th>\n",
       "      <td>20</td>\n",
       "      <td>2</td>\n",
       "    </tr>\n",
       "  </tbody>\n",
       "</table>\n",
       "</div>"
      ],
      "text/plain": [
       "    count_box  num_images\n",
       "15         16          43\n",
       "16         17          23\n",
       "17         18          11\n",
       "18         19           4\n",
       "19         20           2"
      ]
     },
     "execution_count": 60,
     "metadata": {},
     "output_type": "execute_result"
    }
   ],
   "source": [
    "df_image_popultion_dist = df_base_bbox.groupby(by=['filename'], as_index=False)['xmin'].count()\n",
    "df_image_popultion_dist.columns = ['filename', 'count_box']\n",
    "df_image_herd_lst = list(df_image_popultion_dist[df_image_popultion_dist['count_box'] >= 11]['filename'])\n",
    "df_image_popultion_dist = df_image_popultion_dist.groupby(by=['count_box'], as_index=False)['filename'].count()\n",
    "df_image_popultion_dist.columns = ['count_box', 'num_images']\n",
    "\n",
    "# plt.bar(df_image_popultion_dist.count_box, df_image_popultion_dist.num_images)\n",
    "df_image_popultion_dist.tail()"
   ]
  },
  {
   "cell_type": "code",
   "execution_count": 61,
   "metadata": {},
   "outputs": [
    {
     "data": {
      "text/plain": [
       "2965"
      ]
     },
     "execution_count": 61,
     "metadata": {},
     "output_type": "execute_result"
    }
   ],
   "source": [
    "len(df_image_herd_lst)"
   ]
  },
  {
   "cell_type": "markdown",
   "metadata": {},
   "source": [
    "## 2. Multi-Species images\n",
    "1. Here I will sample 5000(or all) multi-species images. The training dataset does not contain multi-species images so I want to include multi-species images in further model trainig loop.\n",
    "2. Exclude the images that were part of the **part 1 - HERD**"
   ]
  },
  {
   "cell_type": "code",
   "execution_count": 62,
   "metadata": {},
   "outputs": [
    {
     "name": "stdout",
     "output_type": "stream",
     "text": [
      "execution time: 0.6 Seconds\n"
     ]
    }
   ],
   "source": [
    "# 1. get unique filename and class. i.e, for each of the images gets the species in the data\n",
    "# 2. Exclude the images that were part of HERD list\n",
    "# 3. Get a dataframe that has image name and the animals in the image. \n",
    "start = timer() # time the process\n",
    "df_base = df_base_bbox[['filename', 'class']]\n",
    "df_base = df_base.drop_duplicates()\n",
    "df_base = df_base[~df_base['filename'].isin(df_image_herd_lst)] # 2. Excluding images in HERD list\n",
    "end = timer()\n",
    "print(\"execution time: {0} Seconds\".format(round(end - start, 1)))"
   ]
  },
  {
   "cell_type": "code",
   "execution_count": 63,
   "metadata": {},
   "outputs": [
    {
     "name": "stdout",
     "output_type": "stream",
     "text": [
      "# of images: 4142\n",
      "4142\n"
     ]
    },
    {
     "data": {
      "text/html": [
       "<div>\n",
       "<style scoped>\n",
       "    .dataframe tbody tr th:only-of-type {\n",
       "        vertical-align: middle;\n",
       "    }\n",
       "\n",
       "    .dataframe tbody tr th {\n",
       "        vertical-align: top;\n",
       "    }\n",
       "\n",
       "    .dataframe thead th {\n",
       "        text-align: right;\n",
       "    }\n",
       "</style>\n",
       "<table border=\"1\" class=\"dataframe\">\n",
       "  <thead>\n",
       "    <tr style=\"text-align: right;\">\n",
       "      <th></th>\n",
       "      <th>filename</th>\n",
       "      <th>count_species</th>\n",
       "    </tr>\n",
       "  </thead>\n",
       "  <tbody>\n",
       "    <tr>\n",
       "      <th>943</th>\n",
       "      <td>S1/B07/B07_R1/S1_B07_R1_PICT0461</td>\n",
       "      <td>2</td>\n",
       "    </tr>\n",
       "    <tr>\n",
       "      <th>1561</th>\n",
       "      <td>S1/B07/B07_R1/S1_B07_R1_PICT1218</td>\n",
       "      <td>2</td>\n",
       "    </tr>\n",
       "    <tr>\n",
       "      <th>1562</th>\n",
       "      <td>S1/B07/B07_R1/S1_B07_R1_PICT1220</td>\n",
       "      <td>2</td>\n",
       "    </tr>\n",
       "    <tr>\n",
       "      <th>3969</th>\n",
       "      <td>S1/C05/C05_R3/S1_C05_R3_PICT2416</td>\n",
       "      <td>2</td>\n",
       "    </tr>\n",
       "    <tr>\n",
       "      <th>6415</th>\n",
       "      <td>S1/D05/D05_R5/S1_D05_R5_PICT0491</td>\n",
       "      <td>2</td>\n",
       "    </tr>\n",
       "  </tbody>\n",
       "</table>\n",
       "</div>"
      ],
      "text/plain": [
       "                              filename  count_species\n",
       "943   S1/B07/B07_R1/S1_B07_R1_PICT0461              2\n",
       "1561  S1/B07/B07_R1/S1_B07_R1_PICT1218              2\n",
       "1562  S1/B07/B07_R1/S1_B07_R1_PICT1220              2\n",
       "3969  S1/C05/C05_R3/S1_C05_R3_PICT2416              2\n",
       "6415  S1/D05/D05_R5/S1_D05_R5_PICT0491              2"
      ]
     },
     "execution_count": 63,
     "metadata": {},
     "output_type": "execute_result"
    }
   ],
   "source": [
    "# 1. From the above dataframe, get the list of images that have multiple animals.\n",
    "# 2. Get the dataframe with image names and the species in it for the multi-species images\n",
    "\n",
    "df_base_temp = df_base.groupby(by=['filename'], as_index=False)['class'].count() # groupby the get the distinct animals per image\n",
    "df_base_temp.columns = ['filename', 'count_species'] # rename the columns\n",
    "\n",
    "# Filtering the multispecies images\n",
    "df_base_multi_species = df_base_temp[df_base_temp['count_species']>=2] # 1.\n",
    "# Capturing the multi-species images in a list object \n",
    "df_base_multi_species_lst = list(set(df_base_multi_species.filename)) # 1.\n",
    "print(\"# of images: {0}\".format(len(set(df_base_multi_species['filename']))))\n",
    "print(len(df_base_multi_species_lst))\n",
    "df_base_multi_species.head()"
   ]
  },
  {
   "cell_type": "code",
   "execution_count": 64,
   "metadata": {},
   "outputs": [
    {
     "data": {
      "text/html": [
       "<div>\n",
       "<style scoped>\n",
       "    .dataframe tbody tr th:only-of-type {\n",
       "        vertical-align: middle;\n",
       "    }\n",
       "\n",
       "    .dataframe tbody tr th {\n",
       "        vertical-align: top;\n",
       "    }\n",
       "\n",
       "    .dataframe thead th {\n",
       "        text-align: right;\n",
       "    }\n",
       "</style>\n",
       "<table border=\"1\" class=\"dataframe\">\n",
       "  <thead>\n",
       "    <tr style=\"text-align: right;\">\n",
       "      <th></th>\n",
       "      <th>count_species</th>\n",
       "      <th>filename</th>\n",
       "    </tr>\n",
       "  </thead>\n",
       "  <tbody>\n",
       "    <tr>\n",
       "      <th>0</th>\n",
       "      <td>1</td>\n",
       "      <td>652754</td>\n",
       "    </tr>\n",
       "    <tr>\n",
       "      <th>1</th>\n",
       "      <td>2</td>\n",
       "      <td>4130</td>\n",
       "    </tr>\n",
       "    <tr>\n",
       "      <th>2</th>\n",
       "      <td>3</td>\n",
       "      <td>12</td>\n",
       "    </tr>\n",
       "  </tbody>\n",
       "</table>\n",
       "</div>"
      ],
      "text/plain": [
       "   count_species  filename\n",
       "0              1    652754\n",
       "1              2      4130\n",
       "2              3        12"
      ]
     },
     "execution_count": 64,
     "metadata": {},
     "output_type": "execute_result"
    }
   ],
   "source": [
    "# Distribution of the image count for n-distinct species\n",
    "species_dist = df_base_temp.groupby(by=['count_species'], as_index=False)['filename'].count()\n",
    "species_dist"
   ]
  },
  {
   "cell_type": "markdown",
   "metadata": {},
   "source": [
    "## 3. Single species images"
   ]
  },
  {
   "cell_type": "code",
   "execution_count": 65,
   "metadata": {},
   "outputs": [
    {
     "data": {
      "text/html": [
       "<div>\n",
       "<style scoped>\n",
       "    .dataframe tbody tr th:only-of-type {\n",
       "        vertical-align: middle;\n",
       "    }\n",
       "\n",
       "    .dataframe tbody tr th {\n",
       "        vertical-align: top;\n",
       "    }\n",
       "\n",
       "    .dataframe thead th {\n",
       "        text-align: right;\n",
       "    }\n",
       "</style>\n",
       "<table border=\"1\" class=\"dataframe\">\n",
       "  <thead>\n",
       "    <tr style=\"text-align: right;\">\n",
       "      <th></th>\n",
       "      <th>filename</th>\n",
       "      <th>class</th>\n",
       "    </tr>\n",
       "  </thead>\n",
       "  <tbody>\n",
       "    <tr>\n",
       "      <th>0</th>\n",
       "      <td>S5/B04/B04_R3/S5_B04_R3_IMAG0200</td>\n",
       "      <td>wildebeest</td>\n",
       "    </tr>\n",
       "    <tr>\n",
       "      <th>6</th>\n",
       "      <td>S5/J02/J02_R1/S5_J02_R1_IMAG0752</td>\n",
       "      <td>wildebeest</td>\n",
       "    </tr>\n",
       "    <tr>\n",
       "      <th>12</th>\n",
       "      <td>S5/U10/U10_R4/S5_U10_R4_IMAG3509</td>\n",
       "      <td>wildebeest</td>\n",
       "    </tr>\n",
       "    <tr>\n",
       "      <th>30</th>\n",
       "      <td>S3/B07/B07_R11/S3_B07_R11_IMAG0246</td>\n",
       "      <td>gazelleThomsons</td>\n",
       "    </tr>\n",
       "    <tr>\n",
       "      <th>31</th>\n",
       "      <td>S2/K09/K09_R1/S2_K09_R1_PICT0812</td>\n",
       "      <td>gazelleThomsons</td>\n",
       "    </tr>\n",
       "  </tbody>\n",
       "</table>\n",
       "</div>"
      ],
      "text/plain": [
       "                              filename            class\n",
       "0     S5/B04/B04_R3/S5_B04_R3_IMAG0200       wildebeest\n",
       "6     S5/J02/J02_R1/S5_J02_R1_IMAG0752       wildebeest\n",
       "12    S5/U10/U10_R4/S5_U10_R4_IMAG3509       wildebeest\n",
       "30  S3/B07/B07_R11/S3_B07_R11_IMAG0246  gazelleThomsons\n",
       "31    S2/K09/K09_R1/S2_K09_R1_PICT0812  gazelleThomsons"
      ]
     },
     "execution_count": 65,
     "metadata": {},
     "output_type": "execute_result"
    }
   ],
   "source": [
    "# 1. Filter out the image, class that are single species\n",
    "## a. df_base already excludes HERD images **(Part 1, HERD)**\n",
    "\n",
    "df_single_species = df_base[~df_base['filename'].isin(df_base_multi_species_lst)]\n",
    "df_single_species.head()"
   ]
  },
  {
   "cell_type": "markdown",
   "metadata": {},
   "source": [
    "#### Function to sample out the images given parameters like:\n",
    "1. Species to sample\n",
    "2. Number of images to sample\n",
    "    - Sampling size is proportional to in the inverse frequency of the training data size of the species.\n",
    "    - Considered species with less than 1000 images in the initial dataset."
   ]
  },
  {
   "cell_type": "code",
   "execution_count": 66,
   "metadata": {},
   "outputs": [],
   "source": [
    "def get_image_samples_for_species(dataframe, species, count, seed = None):\n",
    "    '''This function takes a dataframe and samples out n(count)-records\n",
    "    for the given species'''\n",
    "    random.seed(seed)\n",
    "    dataframe_species = dataframe[dataframe['class']==species]\n",
    "    row, col = dataframe_species.shape\n",
    "    if row < count:\n",
    "        df_sampled_species = dataframe_species\n",
    "    else:\n",
    "        filename_sampled = random.sample(list(set(dataframe_species['filename'])), count)\n",
    "        df_sampled_species = dataframe_species[[val in filename_sampled for val in list(dataframe_species['filename'])]]\n",
    "    return df_sampled_species"
   ]
  },
  {
   "cell_type": "code",
   "execution_count": 67,
   "metadata": {},
   "outputs": [
    {
     "data": {
      "text/html": [
       "<div>\n",
       "<style scoped>\n",
       "    .dataframe tbody tr th:only-of-type {\n",
       "        vertical-align: middle;\n",
       "    }\n",
       "\n",
       "    .dataframe tbody tr th {\n",
       "        vertical-align: top;\n",
       "    }\n",
       "\n",
       "    .dataframe thead th {\n",
       "        text-align: right;\n",
       "    }\n",
       "</style>\n",
       "<table border=\"1\" class=\"dataframe\">\n",
       "  <thead>\n",
       "    <tr style=\"text-align: right;\">\n",
       "      <th></th>\n",
       "      <th>filename</th>\n",
       "      <th>class</th>\n",
       "    </tr>\n",
       "  </thead>\n",
       "  <tbody>\n",
       "    <tr>\n",
       "      <th>4690</th>\n",
       "      <td>S6/S09/S09_R1/S6_S09_R1_IMAG1104</td>\n",
       "      <td>wildebeest</td>\n",
       "    </tr>\n",
       "  </tbody>\n",
       "</table>\n",
       "</div>"
      ],
      "text/plain": [
       "                              filename       class\n",
       "4690  S6/S09/S09_R1/S6_S09_R1_IMAG1104  wildebeest"
      ]
     },
     "execution_count": 67,
     "metadata": {},
     "output_type": "execute_result"
    }
   ],
   "source": [
    "# Test the function \n",
    "get_image_samples_for_species(df_single_species, 'wildebeest', 1)"
   ]
  },
  {
   "cell_type": "code",
   "execution_count": 68,
   "metadata": {},
   "outputs": [
    {
     "data": {
      "text/html": [
       "<div>\n",
       "<style scoped>\n",
       "    .dataframe tbody tr th:only-of-type {\n",
       "        vertical-align: middle;\n",
       "    }\n",
       "\n",
       "    .dataframe tbody tr th {\n",
       "        vertical-align: top;\n",
       "    }\n",
       "\n",
       "    .dataframe thead th {\n",
       "        text-align: right;\n",
       "    }\n",
       "</style>\n",
       "<table border=\"1\" class=\"dataframe\">\n",
       "  <thead>\n",
       "    <tr style=\"text-align: right;\">\n",
       "      <th></th>\n",
       "      <th>Species</th>\n",
       "      <th>image_count</th>\n",
       "      <th>inv_image_count</th>\n",
       "      <th>p_samples</th>\n",
       "      <th>num_sampled_images</th>\n",
       "    </tr>\n",
       "  </thead>\n",
       "  <tbody>\n",
       "    <tr>\n",
       "      <th>0</th>\n",
       "      <td>ostrich</td>\n",
       "      <td>750</td>\n",
       "      <td>0.00133</td>\n",
       "      <td>0.62%</td>\n",
       "      <td>32</td>\n",
       "    </tr>\n",
       "    <tr>\n",
       "      <th>1</th>\n",
       "      <td>topi</td>\n",
       "      <td>812</td>\n",
       "      <td>0.00123</td>\n",
       "      <td>0.57%</td>\n",
       "      <td>29</td>\n",
       "    </tr>\n",
       "    <tr>\n",
       "      <th>2</th>\n",
       "      <td>eland</td>\n",
       "      <td>861</td>\n",
       "      <td>0.00116</td>\n",
       "      <td>0.54%</td>\n",
       "      <td>28</td>\n",
       "    </tr>\n",
       "    <tr>\n",
       "      <th>3</th>\n",
       "      <td>human</td>\n",
       "      <td>638</td>\n",
       "      <td>0.00157</td>\n",
       "      <td>0.73%</td>\n",
       "      <td>37</td>\n",
       "    </tr>\n",
       "    <tr>\n",
       "      <th>4</th>\n",
       "      <td>impala</td>\n",
       "      <td>780</td>\n",
       "      <td>0.00128</td>\n",
       "      <td>0.60%</td>\n",
       "      <td>30</td>\n",
       "    </tr>\n",
       "  </tbody>\n",
       "</table>\n",
       "</div>"
      ],
      "text/plain": [
       "   Species  image_count  inv_image_count p_samples  num_sampled_images\n",
       "0  ostrich          750          0.00133     0.62%                  32\n",
       "1     topi          812          0.00123     0.57%                  29\n",
       "2    eland          861          0.00116     0.54%                  28\n",
       "3    human          638          0.00157     0.73%                  37\n",
       "4   impala          780          0.00128     0.60%                  30"
      ]
     },
     "execution_count": 68,
     "metadata": {},
     "output_type": "execute_result"
    }
   ],
   "source": [
    "# 2(a) Import the dataset with sampling counts for Species\n",
    "df_sample_size = pd.read_csv('~/data/tensorflow/my_workspace/camera-trap-detection/data/bootstrapping/sample_proportion_{0}.csv'.format(round_number_next), sep=',')\n",
    "df_sample_size.head()"
   ]
  },
  {
   "cell_type": "code",
   "execution_count": 69,
   "metadata": {},
   "outputs": [],
   "source": [
    "# Initiate an empty dataset that will eventually contain the samples species and the corresponfing filename\n",
    "df_all = pd.DataFrame()\n",
    "for i in range(df_sample_size.shape[0]):\n",
    "    species = df_sample_size.iloc[i]['Species'] # get the respective species to sample\n",
    "    count = df_sample_size.iloc[i]['num_sampled_images'] # get count to sample\n",
    "    df_sampled_species = get_image_samples_for_species(df_single_species, species, count)\n",
    "    df_all = df_all.append(df_sampled_species)\n",
    "df_sampled_species_lst = list(set(df_all['filename']))"
   ]
  },
  {
   "cell_type": "code",
   "execution_count": 70,
   "metadata": {},
   "outputs": [
    {
     "name": "stdout",
     "output_type": "stream",
     "text": [
      "1383\n",
      "1383\n"
     ]
    },
    {
     "data": {
      "text/html": [
       "<div>\n",
       "<style scoped>\n",
       "    .dataframe tbody tr th:only-of-type {\n",
       "        vertical-align: middle;\n",
       "    }\n",
       "\n",
       "    .dataframe tbody tr th {\n",
       "        vertical-align: top;\n",
       "    }\n",
       "\n",
       "    .dataframe thead th {\n",
       "        text-align: right;\n",
       "    }\n",
       "</style>\n",
       "<table border=\"1\" class=\"dataframe\">\n",
       "  <thead>\n",
       "    <tr style=\"text-align: right;\">\n",
       "      <th></th>\n",
       "      <th>filename</th>\n",
       "      <th>class</th>\n",
       "    </tr>\n",
       "  </thead>\n",
       "  <tbody>\n",
       "    <tr>\n",
       "      <th>3299</th>\n",
       "      <td>S1/O10/O10_R2/S1_O10_R2_PICT3226</td>\n",
       "      <td>reptiles</td>\n",
       "    </tr>\n",
       "    <tr>\n",
       "      <th>3526</th>\n",
       "      <td>S1/T13/T13_R1/S1_T13_R1_PICT3975</td>\n",
       "      <td>reptiles</td>\n",
       "    </tr>\n",
       "    <tr>\n",
       "      <th>1118</th>\n",
       "      <td>S2/K13/K13_R1/S2_K13_R1_PICT0662</td>\n",
       "      <td>zorilla</td>\n",
       "    </tr>\n",
       "    <tr>\n",
       "      <th>3303</th>\n",
       "      <td>S2/K13/K13_R1/S2_K13_R1_PICT0663</td>\n",
       "      <td>zorilla</td>\n",
       "    </tr>\n",
       "    <tr>\n",
       "      <th>1635</th>\n",
       "      <td>S2/K13/K13_R1/S2_K13_R1_PICT0664</td>\n",
       "      <td>zorilla</td>\n",
       "    </tr>\n",
       "  </tbody>\n",
       "</table>\n",
       "</div>"
      ],
      "text/plain": [
       "                              filename     class\n",
       "3299  S1/O10/O10_R2/S1_O10_R2_PICT3226  reptiles\n",
       "3526  S1/T13/T13_R1/S1_T13_R1_PICT3975  reptiles\n",
       "1118  S2/K13/K13_R1/S2_K13_R1_PICT0662   zorilla\n",
       "3303  S2/K13/K13_R1/S2_K13_R1_PICT0663   zorilla\n",
       "1635  S2/K13/K13_R1/S2_K13_R1_PICT0664   zorilla"
      ]
     },
     "execution_count": 70,
     "metadata": {},
     "output_type": "execute_result"
    }
   ],
   "source": [
    "print(sum(df_all.groupby(['class'], as_index=False)['filename'].count()['filename']))\n",
    "print(len(df_sampled_species_lst))\n",
    "df_all.tail()"
   ]
  },
  {
   "cell_type": "markdown",
   "metadata": {},
   "source": [
    "## Export the datasets to CSV:\n",
    "1. herd dataset\n",
    "2. Multi-Species\n",
    "3. Single Species"
   ]
  },
  {
   "cell_type": "markdown",
   "metadata": {},
   "source": [
    "**1. HERD images**"
   ]
  },
  {
   "cell_type": "code",
   "execution_count": 74,
   "metadata": {},
   "outputs": [
    {
     "name": "stdout",
     "output_type": "stream",
     "text": [
      "(35597, 6)\n"
     ]
    }
   ],
   "source": [
    "df_herd = df_base_bbox[df_base_bbox['filename'].isin(df_image_herd_lst)]\n",
    "df_herd.to_csv('../data/bootstrapping/{0}_csv/herd_bbox.csv'.format(round_number_next), index=False)\n",
    "print(df_herd.shape)"
   ]
  },
  {
   "cell_type": "markdown",
   "metadata": {},
   "source": [
    "**2. Multi-Species**"
   ]
  },
  {
   "cell_type": "code",
   "execution_count": 75,
   "metadata": {},
   "outputs": [
    {
     "name": "stdout",
     "output_type": "stream",
     "text": [
      "(20701, 6)\n"
     ]
    }
   ],
   "source": [
    "df_multiSpecies = df_base_bbox[df_base_bbox['filename'].isin(df_base_multi_species_lst)]\n",
    "df_multiSpecies.to_csv('../data/bootstrapping/{0}_csv/multiSpecies_bbox.csv'.format(round_number_next), index=False)\n",
    "print(df_multiSpecies.shape)"
   ]
  },
  {
   "cell_type": "markdown",
   "metadata": {},
   "source": [
    "**3. Single Species**"
   ]
  },
  {
   "cell_type": "code",
   "execution_count": 76,
   "metadata": {},
   "outputs": [
    {
     "name": "stdout",
     "output_type": "stream",
     "text": [
      "(1678, 6)\n"
     ]
    }
   ],
   "source": [
    "df_singleSpecies = df_base_bbox[df_base_bbox['filename'].isin(df_sampled_species_lst)]\n",
    "df_singleSpecies.to_csv('../data/bootstrapping/{0}_csv/singleSpecies_bbox.csv'.format(round_number_next), index=False)\n",
    "print(df_singleSpecies.shape)"
   ]
  },
  {
   "cell_type": "markdown",
   "metadata": {},
   "source": [
    "# Species Distribution in the samples:"
   ]
  },
  {
   "cell_type": "code",
   "execution_count": 12,
   "metadata": {},
   "outputs": [],
   "source": [
    "round_number = 'round1'\n",
    "filepath_list = glob.glob('../data/bootstrapping/{0}_csv/*'.format(round_number))"
   ]
  },
  {
   "cell_type": "code",
   "execution_count": 13,
   "metadata": {},
   "outputs": [
    {
     "data": {
      "text/plain": [
       "['../data/bootstrapping/round1_csv/singleSpecies_bbox.csv',\n",
       " '../data/bootstrapping/round1_csv/herd_bbox.csv',\n",
       " '../data/bootstrapping/round1_csv/multiSpecies_bbox.csv']"
      ]
     },
     "execution_count": 13,
     "metadata": {},
     "output_type": "execute_result"
    }
   ],
   "source": [
    "filepath_list"
   ]
  },
  {
   "cell_type": "code",
   "execution_count": 14,
   "metadata": {},
   "outputs": [],
   "source": [
    "df_pred_gt_consolidated = pd.DataFrame()\n",
    "for filepath in filepath_list:\n",
    "    # import csv to pandas\n",
    "    df_pred_gt_temp = pd.read_csv(filepath)\n",
    "    # subset the 2 columns\n",
    "    df_pred_gt_temp = df_pred_gt_temp[['filename', 'class']]\n",
    "    # Drop duplicates. We need to get the frequency of images for each animal\n",
    "    df_pred_gt_temp = df_pred_gt_temp.drop_duplicates()\n",
    "    df_pred_gt_consolidated = df_pred_gt_consolidated.append(df_pred_gt_temp)\n",
    "\n",
    "# Get the frequency of images for each animal\n",
    "df_bootstrap = df_pred_gt_consolidated.groupby(by=['class'], as_index=False)['filename'].count()\n",
    "df_bootstrap.columns = ['species', 'Additional_Data_Size']"
   ]
  },
  {
   "cell_type": "code",
   "execution_count": 16,
   "metadata": {},
   "outputs": [],
   "source": [
    "df_bootstrap.to_csv('/home/ubuntu/data/tensorflow/my_workspace/camera-trap-detection/EDA_and_ModelEvaluation/BootStrap_{0}_addition.csv'.format(round_number), index=False)"
   ]
  },
  {
   "cell_type": "code",
   "execution_count": null,
   "metadata": {},
   "outputs": [],
   "source": []
  }
 ],
 "metadata": {
  "kernelspec": {
   "display_name": "Python 3",
   "language": "python",
   "name": "python3"
  },
  "language_info": {
   "codemirror_mode": {
    "name": "ipython",
    "version": 3
   },
   "file_extension": ".py",
   "mimetype": "text/x-python",
   "name": "python",
   "nbconvert_exporter": "python",
   "pygments_lexer": "ipython3",
   "version": "3.5.2"
  }
 },
 "nbformat": 4,
 "nbformat_minor": 2
}
