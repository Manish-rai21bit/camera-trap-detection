{
 "cells": [
  {
   "cell_type": "markdown",
   "metadata": {},
   "source": [
    "### Bootstrapping data prep pipeline\n",
    "\n",
    "This is a weakly supervised technique and should be augmented with human annotaions at a higher level. \n"
   ]
  },
  {
   "cell_type": "markdown",
   "metadata": {},
   "source": [
    "### Sampler function for data prep for training\n",
    "\n",
    "\n",
    "- The implentation for the blocks in blue ink.\n",
    "- A set of functions that takes as input :\n",
    "    - CSV's at multiple levels - Image, Species count level or Image, bounding box level, etc.  \n",
    "    - Sampling technique\n",
    "    - number of samples required\n",
    "    - this list will evolve as I write this code\n",
    "    \n",
    "\n",
    "<img src=\"IMG_0026.jpg\" width=\"600\" height=\"200\">\n",
    "\n"
   ]
  },
  {
   "cell_type": "markdown",
   "metadata": {},
   "source": [
    "1. Read all the shards created - ```/home/ubuntu/data/tensorflow/my_workspace/training_demo/Predictions/round1/bootstrap_data_<>```\n",
    "2. Consolidate the list of filenames and animals\n",
    "3. Sample them on the proportions that I build\n",
    "4. Choose all the multi-species images"
   ]
  },
  {
   "cell_type": "code",
   "execution_count": 49,
   "metadata": {},
   "outputs": [],
   "source": [
    "import pandas as pd\n",
    "import csv, glob\n",
    "from timeit import default_timer as timer\n",
    "import numpy as np"
   ]
  },
  {
   "cell_type": "code",
   "execution_count": 53,
   "metadata": {},
   "outputs": [
    {
     "name": "stdout",
     "output_type": "stream",
     "text": [
      "399\n",
      "9.4\n"
     ]
    }
   ],
   "source": [
    "start = timer()\n",
    "df_base = pd.DataFrame()\n",
    "for i, path in enumerate(glob.glob('/home/ubuntu/data/tensorflow/my_workspace/training_demo/Predictions/round1/bootstrap_data_snapshot_serengeti_s01_s06_*')):\n",
    "    df = pd.read_csv(path)\n",
    "    df = df[['filename', 'class']]\n",
    "    df = df.drop_duplicates()\n",
    "    df_base = df_base.append(df)\n",
    "df_base = df_base.drop_duplicates()\n",
    "end = timer()\n",
    "print(i)\n",
    "print(round(end - start, 1))"
   ]
  },
  {
   "cell_type": "code",
   "execution_count": 76,
   "metadata": {},
   "outputs": [
    {
     "data": {
      "text/html": [
       "<div>\n",
       "<style scoped>\n",
       "    .dataframe tbody tr th:only-of-type {\n",
       "        vertical-align: middle;\n",
       "    }\n",
       "\n",
       "    .dataframe tbody tr th {\n",
       "        vertical-align: top;\n",
       "    }\n",
       "\n",
       "    .dataframe thead th {\n",
       "        text-align: right;\n",
       "    }\n",
       "</style>\n",
       "<table border=\"1\" class=\"dataframe\">\n",
       "  <thead>\n",
       "    <tr style=\"text-align: right;\">\n",
       "      <th></th>\n",
       "      <th>filename</th>\n",
       "      <th>count_species</th>\n",
       "    </tr>\n",
       "  </thead>\n",
       "  <tbody>\n",
       "    <tr>\n",
       "      <th>434</th>\n",
       "      <td>S1/B05/B05_R3/S1_B05_R3_PICT0500</td>\n",
       "      <td>2</td>\n",
       "    </tr>\n",
       "    <tr>\n",
       "      <th>435</th>\n",
       "      <td>S1/B05/B05_R3/S1_B05_R3_PICT0501</td>\n",
       "      <td>2</td>\n",
       "    </tr>\n",
       "    <tr>\n",
       "      <th>951</th>\n",
       "      <td>S1/B07/B07_R1/S1_B07_R1_PICT0459</td>\n",
       "      <td>2</td>\n",
       "    </tr>\n",
       "    <tr>\n",
       "      <th>952</th>\n",
       "      <td>S1/B07/B07_R1/S1_B07_R1_PICT0460</td>\n",
       "      <td>2</td>\n",
       "    </tr>\n",
       "    <tr>\n",
       "      <th>1571</th>\n",
       "      <td>S1/B07/B07_R1/S1_B07_R1_PICT1219</td>\n",
       "      <td>2</td>\n",
       "    </tr>\n",
       "  </tbody>\n",
       "</table>\n",
       "</div>"
      ],
      "text/plain": [
       "                              filename  count_species\n",
       "434   S1/B05/B05_R3/S1_B05_R3_PICT0500              2\n",
       "435   S1/B05/B05_R3/S1_B05_R3_PICT0501              2\n",
       "951   S1/B07/B07_R1/S1_B07_R1_PICT0459              2\n",
       "952   S1/B07/B07_R1/S1_B07_R1_PICT0460              2\n",
       "1571  S1/B07/B07_R1/S1_B07_R1_PICT1219              2"
      ]
     },
     "execution_count": 76,
     "metadata": {},
     "output_type": "execute_result"
    }
   ],
   "source": [
    "# get the list of multi species predictions. \n",
    "# Want to have these images in this training set. \n",
    "df_base_multi_species = df_base.groupby(by=['filename'], as_index=False)['class'].count()\n",
    "df_base_multi_species.columns = ['filename', 'count_species']\n",
    "df_base_multi_species = df_base_multi_species[df_base_multi_species['count_species']==2]\n",
    "df_base_multi_species_lst = list(set(df_base_multi_species.filename))\n",
    "df_base_multi_species.head()"
   ]
  },
  {
   "cell_type": "code",
   "execution_count": 90,
   "metadata": {},
   "outputs": [
    {
     "data": {
      "text/html": [
       "<div>\n",
       "<style scoped>\n",
       "    .dataframe tbody tr th:only-of-type {\n",
       "        vertical-align: middle;\n",
       "    }\n",
       "\n",
       "    .dataframe tbody tr th {\n",
       "        vertical-align: top;\n",
       "    }\n",
       "\n",
       "    .dataframe thead th {\n",
       "        text-align: right;\n",
       "    }\n",
       "</style>\n",
       "<table border=\"1\" class=\"dataframe\">\n",
       "  <thead>\n",
       "    <tr style=\"text-align: right;\">\n",
       "      <th></th>\n",
       "      <th>filename</th>\n",
       "      <th>class</th>\n",
       "    </tr>\n",
       "  </thead>\n",
       "  <tbody>\n",
       "    <tr>\n",
       "      <th>0</th>\n",
       "      <td>S5/B04/B04_R3/S5_B04_R3_IMAG0200</td>\n",
       "      <td>wildebeest</td>\n",
       "    </tr>\n",
       "    <tr>\n",
       "      <th>6</th>\n",
       "      <td>S5/J02/J02_R1/S5_J02_R1_IMAG0752</td>\n",
       "      <td>wildebeest</td>\n",
       "    </tr>\n",
       "    <tr>\n",
       "      <th>12</th>\n",
       "      <td>S5/U10/U10_R4/S5_U10_R4_IMAG3509</td>\n",
       "      <td>wildebeest</td>\n",
       "    </tr>\n",
       "    <tr>\n",
       "      <th>17</th>\n",
       "      <td>S3/B07/B07_R11/S3_B07_R11_IMAG0246</td>\n",
       "      <td>gazelleThomsons</td>\n",
       "    </tr>\n",
       "    <tr>\n",
       "      <th>18</th>\n",
       "      <td>S2/K09/K09_R1/S2_K09_R1_PICT0812</td>\n",
       "      <td>gazelleThomsons</td>\n",
       "    </tr>\n",
       "  </tbody>\n",
       "</table>\n",
       "</div>"
      ],
      "text/plain": [
       "                              filename            class\n",
       "0     S5/B04/B04_R3/S5_B04_R3_IMAG0200       wildebeest\n",
       "6     S5/J02/J02_R1/S5_J02_R1_IMAG0752       wildebeest\n",
       "12    S5/U10/U10_R4/S5_U10_R4_IMAG3509       wildebeest\n",
       "17  S3/B07/B07_R11/S3_B07_R11_IMAG0246  gazelleThomsons\n",
       "18    S2/K09/K09_R1/S2_K09_R1_PICT0812  gazelleThomsons"
      ]
     },
     "execution_count": 90,
     "metadata": {},
     "output_type": "execute_result"
    }
   ],
   "source": [
    "# Sample out the image, class that are single species\n",
    "# filter out the records that are not in the df_base_multi_species list\n",
    "df_single_species = df_base.iloc[[val not in df_base_multi_species_lst for val in list(df_base['filename'])]]\n",
    "df_single_species.head()"
   ]
  },
  {
   "cell_type": "code",
   "execution_count": null,
   "metadata": {},
   "outputs": [],
   "source": []
  }
 ],
 "metadata": {
  "kernelspec": {
   "display_name": "Python 3",
   "language": "python",
   "name": "python3"
  },
  "language_info": {
   "codemirror_mode": {
    "name": "ipython",
    "version": 3
   },
   "file_extension": ".py",
   "mimetype": "text/x-python",
   "name": "python",
   "nbconvert_exporter": "python",
   "pygments_lexer": "ipython3",
   "version": "3.5.2"
  }
 },
 "nbformat": 4,
 "nbformat_minor": 2
}
