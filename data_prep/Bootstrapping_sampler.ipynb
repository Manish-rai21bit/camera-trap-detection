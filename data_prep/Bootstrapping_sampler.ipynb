{
 "cells": [
  {
   "cell_type": "markdown",
   "metadata": {},
   "source": [
    "### Bootstrapping data prep pipeline\n",
    "\n",
    "This is a weakly supervised technique and should be augmented with human annotaions at a higher level. \n"
   ]
  },
  {
   "cell_type": "markdown",
   "metadata": {},
   "source": [
    "### Sampler function for data prep for training\n",
    "\n",
    "\n",
    "- The implentation for the blocks in blue ink.\n",
    "- A set of functions that takes as input :\n",
    "    - CSV's at multiple levels - Image, Species count level or Image, bounding box level, etc.  \n",
    "    - Sampling technique\n",
    "    - number of samples required\n",
    "    - this list will evolve as I write this code\n",
    "    \n",
    "\n",
    "<img src=\"IMG_0026.jpg\" width=\"600\" height=\"200\">\n",
    "\n"
   ]
  },
  {
   "cell_type": "markdown",
   "metadata": {},
   "source": [
    "1. Read all the shards created - ```/home/ubuntu/data/tensorflow/my_workspace/training_demo/Predictions/round1/bootstrap_data_<>```\n",
    "2. Consolidate the list of filenames and animals\n",
    "3. Sample them on the proportions that I build\n",
    "4. Choose all the multi-species images"
   ]
  },
  {
   "cell_type": "code",
   "execution_count": 1,
   "metadata": {},
   "outputs": [],
   "source": [
    "import pandas as pd\n",
    "import csv, glob, random\n",
    "from timeit import default_timer as timer\n",
    "import numpy as np\n",
    "import matplotlib.pyplot as plt"
   ]
  },
  {
   "cell_type": "markdown",
   "metadata": {},
   "source": [
    "### Dataframe with all shards appended\n",
    "Generate a master dataset with all the appended bounding boxes"
   ]
  },
  {
   "cell_type": "code",
   "execution_count": 2,
   "metadata": {},
   "outputs": [
    {
     "name": "stdout",
     "output_type": "stream",
     "text": [
      "17.1\n",
      "(1789370, 6)\n"
     ]
    }
   ],
   "source": [
    "df_base_bbox = pd.DataFrame()\n",
    "start = timer()\n",
    "for i, path in enumerate(glob.glob('/home/ubuntu/data/tensorflow/my_workspace/training_demo/Predictions/round1/bootstrap_data_snapshot_serengeti_s01_s06_*')):\n",
    "    df = pd.read_csv(path)\n",
    "    df_base_bbox = df_base_bbox.append(df)\n",
    "end = timer()\n",
    "print(round((end - start), 1))\n",
    "print(df_base_bbox.shape)"
   ]
  },
  {
   "cell_type": "code",
   "execution_count": 3,
   "metadata": {},
   "outputs": [
    {
     "data": {
      "text/html": [
       "<div>\n",
       "<style scoped>\n",
       "    .dataframe tbody tr th:only-of-type {\n",
       "        vertical-align: middle;\n",
       "    }\n",
       "\n",
       "    .dataframe tbody tr th {\n",
       "        vertical-align: top;\n",
       "    }\n",
       "\n",
       "    .dataframe thead th {\n",
       "        text-align: right;\n",
       "    }\n",
       "</style>\n",
       "<table border=\"1\" class=\"dataframe\">\n",
       "  <thead>\n",
       "    <tr style=\"text-align: right;\">\n",
       "      <th></th>\n",
       "      <th>filename</th>\n",
       "      <th>class</th>\n",
       "      <th>xmin</th>\n",
       "      <th>ymin</th>\n",
       "      <th>xmax</th>\n",
       "      <th>ymax</th>\n",
       "    </tr>\n",
       "  </thead>\n",
       "  <tbody>\n",
       "    <tr>\n",
       "      <th>0</th>\n",
       "      <td>S5/B04/B04_R3/S5_B04_R3_IMAG0200</td>\n",
       "      <td>wildebeest</td>\n",
       "      <td>0.686840</td>\n",
       "      <td>0.403407</td>\n",
       "      <td>1.000000</td>\n",
       "      <td>0.876225</td>\n",
       "    </tr>\n",
       "    <tr>\n",
       "      <th>1</th>\n",
       "      <td>S5/B04/B04_R3/S5_B04_R3_IMAG0200</td>\n",
       "      <td>wildebeest</td>\n",
       "      <td>0.646960</td>\n",
       "      <td>0.554431</td>\n",
       "      <td>0.722113</td>\n",
       "      <td>0.685629</td>\n",
       "    </tr>\n",
       "    <tr>\n",
       "      <th>2</th>\n",
       "      <td>S5/B04/B04_R3/S5_B04_R3_IMAG0200</td>\n",
       "      <td>wildebeest</td>\n",
       "      <td>0.206744</td>\n",
       "      <td>0.492460</td>\n",
       "      <td>0.337849</td>\n",
       "      <td>0.691060</td>\n",
       "    </tr>\n",
       "    <tr>\n",
       "      <th>3</th>\n",
       "      <td>S5/B04/B04_R3/S5_B04_R3_IMAG0200</td>\n",
       "      <td>wildebeest</td>\n",
       "      <td>0.351468</td>\n",
       "      <td>0.577559</td>\n",
       "      <td>0.393431</td>\n",
       "      <td>0.608868</td>\n",
       "    </tr>\n",
       "    <tr>\n",
       "      <th>4</th>\n",
       "      <td>S5/B04/B04_R3/S5_B04_R3_IMAG0200</td>\n",
       "      <td>wildebeest</td>\n",
       "      <td>0.350235</td>\n",
       "      <td>0.578253</td>\n",
       "      <td>0.391804</td>\n",
       "      <td>0.608087</td>\n",
       "    </tr>\n",
       "  </tbody>\n",
       "</table>\n",
       "</div>"
      ],
      "text/plain": [
       "                           filename       class      xmin      ymin      xmax  \\\n",
       "0  S5/B04/B04_R3/S5_B04_R3_IMAG0200  wildebeest  0.686840  0.403407  1.000000   \n",
       "1  S5/B04/B04_R3/S5_B04_R3_IMAG0200  wildebeest  0.646960  0.554431  0.722113   \n",
       "2  S5/B04/B04_R3/S5_B04_R3_IMAG0200  wildebeest  0.206744  0.492460  0.337849   \n",
       "3  S5/B04/B04_R3/S5_B04_R3_IMAG0200  wildebeest  0.351468  0.577559  0.393431   \n",
       "4  S5/B04/B04_R3/S5_B04_R3_IMAG0200  wildebeest  0.350235  0.578253  0.391804   \n",
       "\n",
       "       ymax  \n",
       "0  0.876225  \n",
       "1  0.685629  \n",
       "2  0.691060  \n",
       "3  0.608868  \n",
       "4  0.608087  "
      ]
     },
     "execution_count": 3,
     "metadata": {},
     "output_type": "execute_result"
    }
   ],
   "source": [
    "df_base_bbox.head()"
   ]
  },
  {
   "cell_type": "markdown",
   "metadata": {},
   "source": [
    "### 1. HERD\n",
    "We first focus on and sample the herd images. Since, the images are herd images are less than 5000 (2747 images to be precise), we take all of them for our model training."
   ]
  },
  {
   "cell_type": "code",
   "execution_count": 3,
   "metadata": {},
   "outputs": [
    {
     "data": {
      "text/html": [
       "<div>\n",
       "<style scoped>\n",
       "    .dataframe tbody tr th:only-of-type {\n",
       "        vertical-align: middle;\n",
       "    }\n",
       "\n",
       "    .dataframe tbody tr th {\n",
       "        vertical-align: top;\n",
       "    }\n",
       "\n",
       "    .dataframe thead th {\n",
       "        text-align: right;\n",
       "    }\n",
       "</style>\n",
       "<table border=\"1\" class=\"dataframe\">\n",
       "  <thead>\n",
       "    <tr style=\"text-align: right;\">\n",
       "      <th></th>\n",
       "      <th>count_box</th>\n",
       "      <th>num_images</th>\n",
       "    </tr>\n",
       "  </thead>\n",
       "  <tbody>\n",
       "    <tr>\n",
       "      <th>16</th>\n",
       "      <td>17</td>\n",
       "      <td>31</td>\n",
       "    </tr>\n",
       "    <tr>\n",
       "      <th>17</th>\n",
       "      <td>18</td>\n",
       "      <td>10</td>\n",
       "    </tr>\n",
       "    <tr>\n",
       "      <th>18</th>\n",
       "      <td>19</td>\n",
       "      <td>9</td>\n",
       "    </tr>\n",
       "    <tr>\n",
       "      <th>19</th>\n",
       "      <td>20</td>\n",
       "      <td>1</td>\n",
       "    </tr>\n",
       "    <tr>\n",
       "      <th>20</th>\n",
       "      <td>21</td>\n",
       "      <td>1</td>\n",
       "    </tr>\n",
       "  </tbody>\n",
       "</table>\n",
       "</div>"
      ],
      "text/plain": [
       "    count_box  num_images\n",
       "16         17          31\n",
       "17         18          10\n",
       "18         19           9\n",
       "19         20           1\n",
       "20         21           1"
      ]
     },
     "execution_count": 3,
     "metadata": {},
     "output_type": "execute_result"
    }
   ],
   "source": [
    "df_image_popultion_dist = df_base_bbox.groupby(by=['filename'], as_index=False)['xmin'].count()\n",
    "df_image_popultion_dist.columns = ['filename', 'count_box']\n",
    "df_image_herd_lst = list(df_image_popultion_dist[df_image_popultion_dist['count_box'] >= 11]['filename'])\n",
    "df_image_popultion_dist = df_image_popultion_dist.groupby(by=['count_box'], as_index=False)['filename'].count()\n",
    "df_image_popultion_dist.columns = ['count_box', 'num_images']\n",
    "\n",
    "# plt.bar(df_image_popultion_dist.count_box, df_image_popultion_dist.num_images)\n",
    "df_image_popultion_dist.tail()"
   ]
  },
  {
   "cell_type": "code",
   "execution_count": 4,
   "metadata": {},
   "outputs": [
    {
     "data": {
      "text/plain": [
       "2747"
      ]
     },
     "execution_count": 4,
     "metadata": {},
     "output_type": "execute_result"
    }
   ],
   "source": [
    "len(df_image_herd_lst)"
   ]
  },
  {
   "cell_type": "markdown",
   "metadata": {},
   "source": [
    "## 2. Multi-Species images\n",
    "1. Here I will sample 5000(or all) multi-species images. The training dataset does not contain multi-species images so I want to include multi-species images in further model trainig loop.\n",
    "2. Exclude the images that were part of the **part 1 - HERD**"
   ]
  },
  {
   "cell_type": "code",
   "execution_count": 8,
   "metadata": {},
   "outputs": [
    {
     "name": "stdout",
     "output_type": "stream",
     "text": [
      "execution time: 49.2 Seconds\n"
     ]
    }
   ],
   "source": [
    "# 1. get unique filename and class. i.e, for each of the images gets the species in the data\n",
    "# 2. Exclude the images that were part of HERD list\n",
    "# 3. Get a dataframe that has image name and the animals in the image. \n",
    "start = timer() # time the process\n",
    "df_base = pd.DataFrame()\n",
    "for i, path in enumerate(glob.glob('/home/ubuntu/data/tensorflow/my_workspace/training_demo/Predictions/round1/bootstrap_data_snapshot_serengeti_s01_s06_*')):\n",
    "    df = pd.read_csv(path)\n",
    "    df = df[['filename', 'class']]\n",
    "    df = df.drop_duplicates()\n",
    "    df_base = df_base.append(df)\n",
    "df_base = df_base.drop_duplicates()\n",
    "df_base = df_base[[filename not in df_image_herd_lst for filename in df_base['filename']]]# 2. Excluding images in HERD list\n",
    "end = timer()\n",
    "print(\"execution time: {0} Seconds\".format(round(end - start, 1)))"
   ]
  },
  {
   "cell_type": "code",
   "execution_count": 9,
   "metadata": {},
   "outputs": [
    {
     "name": "stdout",
     "output_type": "stream",
     "text": [
      "# of images: 6505\n",
      "6505\n"
     ]
    },
    {
     "data": {
      "text/html": [
       "<div>\n",
       "<style scoped>\n",
       "    .dataframe tbody tr th:only-of-type {\n",
       "        vertical-align: middle;\n",
       "    }\n",
       "\n",
       "    .dataframe tbody tr th {\n",
       "        vertical-align: top;\n",
       "    }\n",
       "\n",
       "    .dataframe thead th {\n",
       "        text-align: right;\n",
       "    }\n",
       "</style>\n",
       "<table border=\"1\" class=\"dataframe\">\n",
       "  <thead>\n",
       "    <tr style=\"text-align: right;\">\n",
       "      <th></th>\n",
       "      <th>filename</th>\n",
       "      <th>count_species</th>\n",
       "    </tr>\n",
       "  </thead>\n",
       "  <tbody>\n",
       "    <tr>\n",
       "      <th>434</th>\n",
       "      <td>S1/B05/B05_R3/S1_B05_R3_PICT0500</td>\n",
       "      <td>2</td>\n",
       "    </tr>\n",
       "    <tr>\n",
       "      <th>435</th>\n",
       "      <td>S1/B05/B05_R3/S1_B05_R3_PICT0501</td>\n",
       "      <td>2</td>\n",
       "    </tr>\n",
       "    <tr>\n",
       "      <th>951</th>\n",
       "      <td>S1/B07/B07_R1/S1_B07_R1_PICT0459</td>\n",
       "      <td>2</td>\n",
       "    </tr>\n",
       "    <tr>\n",
       "      <th>952</th>\n",
       "      <td>S1/B07/B07_R1/S1_B07_R1_PICT0460</td>\n",
       "      <td>2</td>\n",
       "    </tr>\n",
       "    <tr>\n",
       "      <th>1571</th>\n",
       "      <td>S1/B07/B07_R1/S1_B07_R1_PICT1219</td>\n",
       "      <td>2</td>\n",
       "    </tr>\n",
       "  </tbody>\n",
       "</table>\n",
       "</div>"
      ],
      "text/plain": [
       "                              filename  count_species\n",
       "434   S1/B05/B05_R3/S1_B05_R3_PICT0500              2\n",
       "435   S1/B05/B05_R3/S1_B05_R3_PICT0501              2\n",
       "951   S1/B07/B07_R1/S1_B07_R1_PICT0459              2\n",
       "952   S1/B07/B07_R1/S1_B07_R1_PICT0460              2\n",
       "1571  S1/B07/B07_R1/S1_B07_R1_PICT1219              2"
      ]
     },
     "execution_count": 9,
     "metadata": {},
     "output_type": "execute_result"
    }
   ],
   "source": [
    "# 1. From the above dataframe, get the list of images that have multiple animals.\n",
    "# 2. Get the dataframe with image names and the species in it for the multi-species images\n",
    "\n",
    "df_base_temp = df_base.groupby(by=['filename'], as_index=False)['class'].count() # groupby the get the distinct animals per image\n",
    "df_base_temp.columns = ['filename', 'count_species'] # rename the columns\n",
    "\n",
    "# Filtering the multispecies images\n",
    "df_base_multi_species = df_base_temp[df_base_temp['count_species']>=2] # 1.\n",
    "# Capturing the multi-species images in a list object \n",
    "df_base_multi_species_lst = list(set(df_base_multi_species.filename)) # 1.\n",
    "print(\"# of images: {0}\".format(len(set(df_base_multi_species['filename']))))\n",
    "print(len(df_base_multi_species_lst))\n",
    "df_base_multi_species.head()"
   ]
  },
  {
   "cell_type": "code",
   "execution_count": 10,
   "metadata": {},
   "outputs": [
    {
     "data": {
      "text/html": [
       "<div>\n",
       "<style scoped>\n",
       "    .dataframe tbody tr th:only-of-type {\n",
       "        vertical-align: middle;\n",
       "    }\n",
       "\n",
       "    .dataframe tbody tr th {\n",
       "        vertical-align: top;\n",
       "    }\n",
       "\n",
       "    .dataframe thead th {\n",
       "        text-align: right;\n",
       "    }\n",
       "</style>\n",
       "<table border=\"1\" class=\"dataframe\">\n",
       "  <thead>\n",
       "    <tr style=\"text-align: right;\">\n",
       "      <th></th>\n",
       "      <th>count_species</th>\n",
       "      <th>filename</th>\n",
       "    </tr>\n",
       "  </thead>\n",
       "  <tbody>\n",
       "    <tr>\n",
       "      <th>0</th>\n",
       "      <td>1</td>\n",
       "      <td>655759</td>\n",
       "    </tr>\n",
       "    <tr>\n",
       "      <th>1</th>\n",
       "      <td>2</td>\n",
       "      <td>6488</td>\n",
       "    </tr>\n",
       "    <tr>\n",
       "      <th>2</th>\n",
       "      <td>3</td>\n",
       "      <td>17</td>\n",
       "    </tr>\n",
       "  </tbody>\n",
       "</table>\n",
       "</div>"
      ],
      "text/plain": [
       "   count_species  filename\n",
       "0              1    655759\n",
       "1              2      6488\n",
       "2              3        17"
      ]
     },
     "execution_count": 10,
     "metadata": {},
     "output_type": "execute_result"
    }
   ],
   "source": [
    "# Distribution of the image count for n-distinct species\n",
    "species_dist = df_base_temp.groupby(by=['count_species'], as_index=False)['filename'].count()\n",
    "species_dist"
   ]
  },
  {
   "cell_type": "markdown",
   "metadata": {},
   "source": [
    "## 3. Single species images"
   ]
  },
  {
   "cell_type": "code",
   "execution_count": 11,
   "metadata": {},
   "outputs": [
    {
     "data": {
      "text/html": [
       "<div>\n",
       "<style scoped>\n",
       "    .dataframe tbody tr th:only-of-type {\n",
       "        vertical-align: middle;\n",
       "    }\n",
       "\n",
       "    .dataframe tbody tr th {\n",
       "        vertical-align: top;\n",
       "    }\n",
       "\n",
       "    .dataframe thead th {\n",
       "        text-align: right;\n",
       "    }\n",
       "</style>\n",
       "<table border=\"1\" class=\"dataframe\">\n",
       "  <thead>\n",
       "    <tr style=\"text-align: right;\">\n",
       "      <th></th>\n",
       "      <th>filename</th>\n",
       "      <th>class</th>\n",
       "    </tr>\n",
       "  </thead>\n",
       "  <tbody>\n",
       "    <tr>\n",
       "      <th>0</th>\n",
       "      <td>S5/B04/B04_R3/S5_B04_R3_IMAG0200</td>\n",
       "      <td>wildebeest</td>\n",
       "    </tr>\n",
       "    <tr>\n",
       "      <th>6</th>\n",
       "      <td>S5/J02/J02_R1/S5_J02_R1_IMAG0752</td>\n",
       "      <td>wildebeest</td>\n",
       "    </tr>\n",
       "    <tr>\n",
       "      <th>12</th>\n",
       "      <td>S5/U10/U10_R4/S5_U10_R4_IMAG3509</td>\n",
       "      <td>wildebeest</td>\n",
       "    </tr>\n",
       "    <tr>\n",
       "      <th>17</th>\n",
       "      <td>S3/B07/B07_R11/S3_B07_R11_IMAG0246</td>\n",
       "      <td>gazelleThomsons</td>\n",
       "    </tr>\n",
       "    <tr>\n",
       "      <th>18</th>\n",
       "      <td>S2/K09/K09_R1/S2_K09_R1_PICT0812</td>\n",
       "      <td>gazelleThomsons</td>\n",
       "    </tr>\n",
       "  </tbody>\n",
       "</table>\n",
       "</div>"
      ],
      "text/plain": [
       "                              filename            class\n",
       "0     S5/B04/B04_R3/S5_B04_R3_IMAG0200       wildebeest\n",
       "6     S5/J02/J02_R1/S5_J02_R1_IMAG0752       wildebeest\n",
       "12    S5/U10/U10_R4/S5_U10_R4_IMAG3509       wildebeest\n",
       "17  S3/B07/B07_R11/S3_B07_R11_IMAG0246  gazelleThomsons\n",
       "18    S2/K09/K09_R1/S2_K09_R1_PICT0812  gazelleThomsons"
      ]
     },
     "execution_count": 11,
     "metadata": {},
     "output_type": "execute_result"
    }
   ],
   "source": [
    "# 1. Filter out the image, class that are single species\n",
    "## a. df_base already excludes HERD images **(Part 1, HERD)**\n",
    "\n",
    "df_single_species = df_base.iloc[[val not in df_base_multi_species_lst for val in list(df_base['filename'])]]\n",
    "df_single_species.head()"
   ]
  },
  {
   "cell_type": "markdown",
   "metadata": {},
   "source": [
    "#### Function to sample out the images given parameters like:\n",
    "1. Species to sample\n",
    "2. Number of images to sample\n",
    "    - Sampling size is proportional to in the inverse frequency of the training data size of the species.\n",
    "    - Considered species with less than 1000 images in the initial dataset."
   ]
  },
  {
   "cell_type": "code",
   "execution_count": 12,
   "metadata": {},
   "outputs": [],
   "source": [
    "def get_image_samples_for_species(dataframe, species, count, seed = None):\n",
    "    '''This function takes a dataframe and samples out n(count)-records\n",
    "    for the given species'''\n",
    "    random.seed(seed)\n",
    "    dataframe_species = dataframe[dataframe['class']==species]\n",
    "    row, col = dataframe_species.shape\n",
    "    if row < count:\n",
    "        df_sampled_species = dataframe_species\n",
    "    else:\n",
    "        filename_sampled = random.sample(list(set(dataframe_species['filename'])), count)\n",
    "        df_sampled_species = dataframe_species[[val in filename_sampled for val in list(dataframe_species['filename'])]]\n",
    "    return df_sampled_species"
   ]
  },
  {
   "cell_type": "code",
   "execution_count": 13,
   "metadata": {},
   "outputs": [
    {
     "data": {
      "text/html": [
       "<div>\n",
       "<style scoped>\n",
       "    .dataframe tbody tr th:only-of-type {\n",
       "        vertical-align: middle;\n",
       "    }\n",
       "\n",
       "    .dataframe tbody tr th {\n",
       "        vertical-align: top;\n",
       "    }\n",
       "\n",
       "    .dataframe thead th {\n",
       "        text-align: right;\n",
       "    }\n",
       "</style>\n",
       "<table border=\"1\" class=\"dataframe\">\n",
       "  <thead>\n",
       "    <tr style=\"text-align: right;\">\n",
       "      <th></th>\n",
       "      <th>filename</th>\n",
       "      <th>class</th>\n",
       "    </tr>\n",
       "  </thead>\n",
       "  <tbody>\n",
       "    <tr>\n",
       "      <th>4084</th>\n",
       "      <td>S4/B13/B13_R1/S4_B13_R1_IMAG0606</td>\n",
       "      <td>wildebeest</td>\n",
       "    </tr>\n",
       "  </tbody>\n",
       "</table>\n",
       "</div>"
      ],
      "text/plain": [
       "                              filename       class\n",
       "4084  S4/B13/B13_R1/S4_B13_R1_IMAG0606  wildebeest"
      ]
     },
     "execution_count": 13,
     "metadata": {},
     "output_type": "execute_result"
    }
   ],
   "source": [
    "# Test the function \n",
    "get_image_samples_for_species(df_single_species, 'wildebeest', 1)"
   ]
  },
  {
   "cell_type": "code",
   "execution_count": 14,
   "metadata": {},
   "outputs": [
    {
     "data": {
      "text/html": [
       "<div>\n",
       "<style scoped>\n",
       "    .dataframe tbody tr th:only-of-type {\n",
       "        vertical-align: middle;\n",
       "    }\n",
       "\n",
       "    .dataframe tbody tr th {\n",
       "        vertical-align: top;\n",
       "    }\n",
       "\n",
       "    .dataframe thead th {\n",
       "        text-align: right;\n",
       "    }\n",
       "</style>\n",
       "<table border=\"1\" class=\"dataframe\">\n",
       "  <thead>\n",
       "    <tr style=\"text-align: right;\">\n",
       "      <th></th>\n",
       "      <th>Species</th>\n",
       "      <th>Training_boxes_Count</th>\n",
       "      <th>image_count</th>\n",
       "      <th>inv_image_count</th>\n",
       "      <th>p_samples</th>\n",
       "      <th>num_sampled_images</th>\n",
       "    </tr>\n",
       "  </thead>\n",
       "  <tbody>\n",
       "    <tr>\n",
       "      <th>0</th>\n",
       "      <td>ostrich</td>\n",
       "      <td>1,007</td>\n",
       "      <td>676</td>\n",
       "      <td>0.00148</td>\n",
       "      <td>1.30%</td>\n",
       "      <td>65</td>\n",
       "    </tr>\n",
       "    <tr>\n",
       "      <th>1</th>\n",
       "      <td>topi</td>\n",
       "      <td>1,690</td>\n",
       "      <td>674</td>\n",
       "      <td>0.00148</td>\n",
       "      <td>1.30%</td>\n",
       "      <td>66</td>\n",
       "    </tr>\n",
       "    <tr>\n",
       "      <th>2</th>\n",
       "      <td>eland</td>\n",
       "      <td>1,812</td>\n",
       "      <td>665</td>\n",
       "      <td>0.00150</td>\n",
       "      <td>1.32%</td>\n",
       "      <td>66</td>\n",
       "    </tr>\n",
       "    <tr>\n",
       "      <th>3</th>\n",
       "      <td>human</td>\n",
       "      <td>871</td>\n",
       "      <td>629</td>\n",
       "      <td>0.00159</td>\n",
       "      <td>1.39%</td>\n",
       "      <td>70</td>\n",
       "    </tr>\n",
       "    <tr>\n",
       "      <th>4</th>\n",
       "      <td>impala</td>\n",
       "      <td>2,317</td>\n",
       "      <td>622</td>\n",
       "      <td>0.00161</td>\n",
       "      <td>1.41%</td>\n",
       "      <td>71</td>\n",
       "    </tr>\n",
       "  </tbody>\n",
       "</table>\n",
       "</div>"
      ],
      "text/plain": [
       "   Species Training_boxes_Count  image_count  inv_image_count p_samples  \\\n",
       "0  ostrich                1,007          676          0.00148     1.30%   \n",
       "1     topi                1,690          674          0.00148     1.30%   \n",
       "2    eland                1,812          665          0.00150     1.32%   \n",
       "3    human                  871          629          0.00159     1.39%   \n",
       "4   impala                2,317          622          0.00161     1.41%   \n",
       "\n",
       "   num_sampled_images  \n",
       "0                  65  \n",
       "1                  66  \n",
       "2                  66  \n",
       "3                  70  \n",
       "4                  71  "
      ]
     },
     "execution_count": 14,
     "metadata": {},
     "output_type": "execute_result"
    }
   ],
   "source": [
    "# 2(a) Import the dataset with sampling counts for Species\n",
    "df_sample_size = pd.read_csv('~/data/tensorflow/my_workspace/camera-trap-detection/data/bootstrapping/sample_proportion_round1.csv', sep='\\t')\n",
    "df_sample_size.head()"
   ]
  },
  {
   "cell_type": "code",
   "execution_count": 24,
   "metadata": {},
   "outputs": [],
   "source": [
    "# Initiate an empty dataset that will eventually contain the samples species and the corresponfing filename\n",
    "df_all = pd.DataFrame()\n",
    "for i in range(df_sample_size.shape[0]):\n",
    "    species = df_sample_size.iloc[i]['Species'] # get the respective species to sample\n",
    "    count = df_sample_size.iloc[i]['num_sampled_images'] # get count to sample\n",
    "    df_sampled_species = get_image_samples_for_species(df_single_species, species, count)\n",
    "    df_all = df_all.append(df_sampled_species)\n",
    "df_sampled_species_lst = list(set(df_all['filename']))"
   ]
  },
  {
   "cell_type": "code",
   "execution_count": 25,
   "metadata": {},
   "outputs": [
    {
     "name": "stdout",
     "output_type": "stream",
     "text": [
      "3003\n",
      "3003\n"
     ]
    },
    {
     "data": {
      "text/html": [
       "<div>\n",
       "<style scoped>\n",
       "    .dataframe tbody tr th:only-of-type {\n",
       "        vertical-align: middle;\n",
       "    }\n",
       "\n",
       "    .dataframe tbody tr th {\n",
       "        vertical-align: top;\n",
       "    }\n",
       "\n",
       "    .dataframe thead th {\n",
       "        text-align: right;\n",
       "    }\n",
       "</style>\n",
       "<table border=\"1\" class=\"dataframe\">\n",
       "  <thead>\n",
       "    <tr style=\"text-align: right;\">\n",
       "      <th></th>\n",
       "      <th>filename</th>\n",
       "      <th>class</th>\n",
       "    </tr>\n",
       "  </thead>\n",
       "  <tbody>\n",
       "    <tr>\n",
       "      <th>3041</th>\n",
       "      <td>S2/G12/G12_R3/S2_G12_R3_IMAG0350</td>\n",
       "      <td>rhinoceros</td>\n",
       "    </tr>\n",
       "    <tr>\n",
       "      <th>1824</th>\n",
       "      <td>S2/G12/G12_R3/S2_G12_R3_IMAG0421</td>\n",
       "      <td>rhinoceros</td>\n",
       "    </tr>\n",
       "    <tr>\n",
       "      <th>4349</th>\n",
       "      <td>S2/G12/G12_R3/S2_G12_R3_IMAG0293</td>\n",
       "      <td>rhinoceros</td>\n",
       "    </tr>\n",
       "    <tr>\n",
       "      <th>3581</th>\n",
       "      <td>S2/G12/G12_R3/S2_G12_R3_IMAG0351</td>\n",
       "      <td>rhinoceros</td>\n",
       "    </tr>\n",
       "    <tr>\n",
       "      <th>1410</th>\n",
       "      <td>S2/G12/G12_R3/S2_G12_R3_IMAG0414</td>\n",
       "      <td>rhinoceros</td>\n",
       "    </tr>\n",
       "  </tbody>\n",
       "</table>\n",
       "</div>"
      ],
      "text/plain": [
       "                              filename       class\n",
       "3041  S2/G12/G12_R3/S2_G12_R3_IMAG0350  rhinoceros\n",
       "1824  S2/G12/G12_R3/S2_G12_R3_IMAG0421  rhinoceros\n",
       "4349  S2/G12/G12_R3/S2_G12_R3_IMAG0293  rhinoceros\n",
       "3581  S2/G12/G12_R3/S2_G12_R3_IMAG0351  rhinoceros\n",
       "1410  S2/G12/G12_R3/S2_G12_R3_IMAG0414  rhinoceros"
      ]
     },
     "execution_count": 25,
     "metadata": {},
     "output_type": "execute_result"
    }
   ],
   "source": [
    "print(sum(df_all.groupby(['class'], as_index=False)['filename'].count()['filename']))\n",
    "print(len(df_sampled_species_lst))\n",
    "df_all.tail()"
   ]
  },
  {
   "cell_type": "markdown",
   "metadata": {},
   "source": [
    "## Export the datasets to CSV:\n",
    "1. herd dataset\n",
    "2. Multi-Species\n",
    "3. Single Species"
   ]
  },
  {
   "cell_type": "markdown",
   "metadata": {},
   "source": [
    "**1. HERD images**"
   ]
  },
  {
   "cell_type": "code",
   "execution_count": 21,
   "metadata": {},
   "outputs": [],
   "source": [
    "df_herd = df_base_bbox[[val in df_image_herd_lst for val in df_base_bbox['filename'] ]]\n",
    "df_herd.to_csv('../data/bootstrapping/round1_csv/herd_bbox.csv', index=False)\n",
    "print(df_herd.shape)"
   ]
  },
  {
   "cell_type": "markdown",
   "metadata": {},
   "source": [
    "**2. Multi-Species**"
   ]
  },
  {
   "cell_type": "code",
   "execution_count": 23,
   "metadata": {},
   "outputs": [
    {
     "name": "stdout",
     "output_type": "stream",
     "text": [
      "(25181, 6)\n"
     ]
    }
   ],
   "source": [
    "df_multiSpecies = df_base_bbox[[val in df_base_multi_species_lst for val in df_base_bbox['filename'] ]]\n",
    "df_multiSpecies.to_csv('../data/bootstrapping/round1_csv/multiSpecies_bbox.csv', index=False)\n",
    "print(df_multiSpecies.shape)"
   ]
  },
  {
   "cell_type": "markdown",
   "metadata": {},
   "source": [
    "**3. Single Species**"
   ]
  },
  {
   "cell_type": "code",
   "execution_count": 26,
   "metadata": {},
   "outputs": [
    {
     "name": "stdout",
     "output_type": "stream",
     "text": [
      "(3735, 6)\n"
     ]
    }
   ],
   "source": [
    "df_singleSpecies = df_base_bbox[[val in df_sampled_species_lst for val in df_base_bbox['filename'] ]]\n",
    "df_singleSpecies.to_csv('../data/bootstrapping/round1_csv/singleSpecies_bbox.csv', index=False)\n",
    "print(df_singleSpecies.shape)"
   ]
  },
  {
   "cell_type": "code",
   "execution_count": null,
   "metadata": {},
   "outputs": [],
   "source": []
  }
 ],
 "metadata": {
  "kernelspec": {
   "display_name": "Python 3",
   "language": "python",
   "name": "python3"
  },
  "language_info": {
   "codemirror_mode": {
    "name": "ipython",
    "version": 3
   },
   "file_extension": ".py",
   "mimetype": "text/x-python",
   "name": "python",
   "nbconvert_exporter": "python",
   "pygments_lexer": "ipython3",
   "version": "3.5.2"
  }
 },
 "nbformat": 4,
 "nbformat_minor": 2
}
