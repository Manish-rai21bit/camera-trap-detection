{
 "cells": [
  {
   "cell_type": "markdown",
   "metadata": {},
   "source": [
    "### Bootstrapping data prep pipeline\n",
    "\n",
    "This is a weakly supervised technique and should be augmented with human annotaions at a higher level. \n"
   ]
  },
  {
   "cell_type": "markdown",
   "metadata": {},
   "source": [
    "### Sampler function for data prep for training\n",
    "\n",
    "\n",
    "- The implentation for the blocks in blue ink.\n",
    "- A set of functions that takes as input :\n",
    "    - CSV's at multiple levels - Image, Species count level or Image, bounding box level, etc.  \n",
    "    - Sampling technique\n",
    "    - number of samples required\n",
    "    - this list will evolve as I write this code\n",
    "    \n",
    "\n",
    "<img src=\"IMG_0026.jpg\" width=\"600\" height=\"200\">\n",
    "\n"
   ]
  },
  {
   "cell_type": "markdown",
   "metadata": {},
   "source": [
    "1. Read all the shards created - ```/home/ubuntu/data/tensorflow/my_workspace/training_demo/Predictions/round1/bootstrap_data_<>```\n",
    "2. Consolidate the list of filenames and animals\n",
    "3. Sample them on the proportions that I build\n",
    "4. Choose all the multi-species images"
   ]
  },
  {
   "cell_type": "code",
   "execution_count": 1,
   "metadata": {},
   "outputs": [],
   "source": [
    "import pandas as pd\n",
    "import csv, glob, random\n",
    "from timeit import default_timer as timer\n",
    "import numpy as np\n",
    "import matplotlib.pyplot as plt"
   ]
  },
  {
   "cell_type": "code",
   "execution_count": 17,
   "metadata": {},
   "outputs": [
    {
     "name": "stdout",
     "output_type": "stream",
     "text": [
      "File Name: ../data/bootstrapping/round2_csv/singleSpecies_bbox.csv, Data Added: 1383\n",
      "File Name: ../data/bootstrapping/round2_csv/herd_bbox.csv, Data Added: 2965\n",
      "File Name: ../data/bootstrapping/round2_csv/multiSpecies_bbox.csv, Data Added: 4142\n",
      "File Name: ../data/bootstrapping/round1_csv/singleSpecies_bbox.csv, Data Added: 3003\n",
      "File Name: ../data/bootstrapping/round1_csv/herd_bbox.csv, Data Added: 2747\n",
      "File Name: ../data/bootstrapping/round1_csv/multiSpecies_bbox.csv, Data Added: 6505\n",
      "Total data added so far:  20745\n"
     ]
    }
   ],
   "source": [
    "# add in parameters\n",
    "round_number = 'round2'\n",
    "round_number_next = 'round3'\n",
    "data_already_used_for_training_set = set()\n",
    "list_used_images = glob.glob('../data/bootstrapping/*_csv/*.csv')\n",
    "for lst in list_used_images:\n",
    "    data_already_used_inter = set(pd.read_csv(lst)['filename'])\n",
    "    data_already_used_for_training_set = data_already_used_for_training_set.union(data_already_used_inter)\n",
    "    print(\"File Name: {0}, Data Added: {1}\".format(lst, len(data_already_used_inter)))\n",
    "\n",
    "data_already_used_for_training_list = list(data_already_used_for_training_set)\n",
    "\n",
    "print(\"Total data added so far: \", len(data_already_used_for_training_list))"
   ]
  },
  {
   "cell_type": "markdown",
   "metadata": {},
   "source": [
    "### Dataframe with all shards appended\n",
    "Generate a master dataset with all the appended bounding boxes"
   ]
  },
  {
   "cell_type": "code",
   "execution_count": 18,
   "metadata": {},
   "outputs": [
    {
     "name": "stdout",
     "output_type": "stream",
     "text": [
      "15.3\n",
      "(1877150, 6)\n"
     ]
    }
   ],
   "source": [
    "df_base_bbox = pd.DataFrame()\n",
    "start = timer()\n",
    "for i, path in enumerate(glob.glob('/home/ubuntu/data/tensorflow/my_workspace/training_demo/Predictions/S1_S6/{0}/Post_procession_of_infer_detection/bootstrap_data_snapshot_serengeti_s01_s06_*'.format(round_number))):\n",
    "    df = pd.read_csv(path)\n",
    "    df_base_bbox = df_base_bbox.append(df)\n",
    "end = timer()\n",
    "print(round((end - start), 1))\n",
    "print(df_base_bbox.shape)"
   ]
  },
  {
   "cell_type": "code",
   "execution_count": 19,
   "metadata": {},
   "outputs": [
    {
     "data": {
      "text/html": [
       "<div>\n",
       "<style scoped>\n",
       "    .dataframe tbody tr th:only-of-type {\n",
       "        vertical-align: middle;\n",
       "    }\n",
       "\n",
       "    .dataframe tbody tr th {\n",
       "        vertical-align: top;\n",
       "    }\n",
       "\n",
       "    .dataframe thead th {\n",
       "        text-align: right;\n",
       "    }\n",
       "</style>\n",
       "<table border=\"1\" class=\"dataframe\">\n",
       "  <thead>\n",
       "    <tr style=\"text-align: right;\">\n",
       "      <th></th>\n",
       "      <th>filename</th>\n",
       "      <th>class</th>\n",
       "      <th>xmin</th>\n",
       "      <th>ymin</th>\n",
       "      <th>xmax</th>\n",
       "      <th>ymax</th>\n",
       "    </tr>\n",
       "  </thead>\n",
       "  <tbody>\n",
       "    <tr>\n",
       "      <th>0</th>\n",
       "      <td>S5/B04/B04_R3/S5_B04_R3_IMAG0200</td>\n",
       "      <td>wildebeest</td>\n",
       "      <td>0.644289</td>\n",
       "      <td>0.555656</td>\n",
       "      <td>0.722642</td>\n",
       "      <td>0.682970</td>\n",
       "    </tr>\n",
       "    <tr>\n",
       "      <th>1</th>\n",
       "      <td>S5/B04/B04_R3/S5_B04_R3_IMAG0200</td>\n",
       "      <td>wildebeest</td>\n",
       "      <td>0.203633</td>\n",
       "      <td>0.492199</td>\n",
       "      <td>0.335670</td>\n",
       "      <td>0.692113</td>\n",
       "    </tr>\n",
       "    <tr>\n",
       "      <th>2</th>\n",
       "      <td>S5/B04/B04_R3/S5_B04_R3_IMAG0200</td>\n",
       "      <td>wildebeest</td>\n",
       "      <td>0.348044</td>\n",
       "      <td>0.577083</td>\n",
       "      <td>0.388547</td>\n",
       "      <td>0.609974</td>\n",
       "    </tr>\n",
       "    <tr>\n",
       "      <th>3</th>\n",
       "      <td>S5/B04/B04_R3/S5_B04_R3_IMAG0200</td>\n",
       "      <td>wildebeest</td>\n",
       "      <td>0.690375</td>\n",
       "      <td>0.401059</td>\n",
       "      <td>0.996564</td>\n",
       "      <td>0.889687</td>\n",
       "    </tr>\n",
       "    <tr>\n",
       "      <th>4</th>\n",
       "      <td>S5/B04/B04_R3/S5_B04_R3_IMAG0200</td>\n",
       "      <td>wildebeest</td>\n",
       "      <td>0.699815</td>\n",
       "      <td>0.401052</td>\n",
       "      <td>0.990209</td>\n",
       "      <td>0.862463</td>\n",
       "    </tr>\n",
       "  </tbody>\n",
       "</table>\n",
       "</div>"
      ],
      "text/plain": [
       "                           filename       class      xmin      ymin      xmax  \\\n",
       "0  S5/B04/B04_R3/S5_B04_R3_IMAG0200  wildebeest  0.644289  0.555656  0.722642   \n",
       "1  S5/B04/B04_R3/S5_B04_R3_IMAG0200  wildebeest  0.203633  0.492199  0.335670   \n",
       "2  S5/B04/B04_R3/S5_B04_R3_IMAG0200  wildebeest  0.348044  0.577083  0.388547   \n",
       "3  S5/B04/B04_R3/S5_B04_R3_IMAG0200  wildebeest  0.690375  0.401059  0.996564   \n",
       "4  S5/B04/B04_R3/S5_B04_R3_IMAG0200  wildebeest  0.699815  0.401052  0.990209   \n",
       "\n",
       "       ymax  \n",
       "0  0.682970  \n",
       "1  0.692113  \n",
       "2  0.609974  \n",
       "3  0.889687  \n",
       "4  0.862463  "
      ]
     },
     "execution_count": 19,
     "metadata": {},
     "output_type": "execute_result"
    }
   ],
   "source": [
    "df_base_bbox.head()"
   ]
  },
  {
   "cell_type": "code",
   "execution_count": 20,
   "metadata": {},
   "outputs": [
    {
     "name": "stdout",
     "output_type": "stream",
     "text": [
      "(1781426, 6)\n"
     ]
    },
    {
     "data": {
      "text/html": [
       "<div>\n",
       "<style scoped>\n",
       "    .dataframe tbody tr th:only-of-type {\n",
       "        vertical-align: middle;\n",
       "    }\n",
       "\n",
       "    .dataframe tbody tr th {\n",
       "        vertical-align: top;\n",
       "    }\n",
       "\n",
       "    .dataframe thead th {\n",
       "        text-align: right;\n",
       "    }\n",
       "</style>\n",
       "<table border=\"1\" class=\"dataframe\">\n",
       "  <thead>\n",
       "    <tr style=\"text-align: right;\">\n",
       "      <th></th>\n",
       "      <th>filename</th>\n",
       "      <th>class</th>\n",
       "      <th>xmin</th>\n",
       "      <th>ymin</th>\n",
       "      <th>xmax</th>\n",
       "      <th>ymax</th>\n",
       "    </tr>\n",
       "  </thead>\n",
       "  <tbody>\n",
       "    <tr>\n",
       "      <th>0</th>\n",
       "      <td>S5/B04/B04_R3/S5_B04_R3_IMAG0200</td>\n",
       "      <td>wildebeest</td>\n",
       "      <td>0.644289</td>\n",
       "      <td>0.555656</td>\n",
       "      <td>0.722642</td>\n",
       "      <td>0.682970</td>\n",
       "    </tr>\n",
       "    <tr>\n",
       "      <th>1</th>\n",
       "      <td>S5/B04/B04_R3/S5_B04_R3_IMAG0200</td>\n",
       "      <td>wildebeest</td>\n",
       "      <td>0.203633</td>\n",
       "      <td>0.492199</td>\n",
       "      <td>0.335670</td>\n",
       "      <td>0.692113</td>\n",
       "    </tr>\n",
       "    <tr>\n",
       "      <th>2</th>\n",
       "      <td>S5/B04/B04_R3/S5_B04_R3_IMAG0200</td>\n",
       "      <td>wildebeest</td>\n",
       "      <td>0.348044</td>\n",
       "      <td>0.577083</td>\n",
       "      <td>0.388547</td>\n",
       "      <td>0.609974</td>\n",
       "    </tr>\n",
       "    <tr>\n",
       "      <th>3</th>\n",
       "      <td>S5/B04/B04_R3/S5_B04_R3_IMAG0200</td>\n",
       "      <td>wildebeest</td>\n",
       "      <td>0.690375</td>\n",
       "      <td>0.401059</td>\n",
       "      <td>0.996564</td>\n",
       "      <td>0.889687</td>\n",
       "    </tr>\n",
       "    <tr>\n",
       "      <th>4</th>\n",
       "      <td>S5/B04/B04_R3/S5_B04_R3_IMAG0200</td>\n",
       "      <td>wildebeest</td>\n",
       "      <td>0.699815</td>\n",
       "      <td>0.401052</td>\n",
       "      <td>0.990209</td>\n",
       "      <td>0.862463</td>\n",
       "    </tr>\n",
       "  </tbody>\n",
       "</table>\n",
       "</div>"
      ],
      "text/plain": [
       "                           filename       class      xmin      ymin      xmax  \\\n",
       "0  S5/B04/B04_R3/S5_B04_R3_IMAG0200  wildebeest  0.644289  0.555656  0.722642   \n",
       "1  S5/B04/B04_R3/S5_B04_R3_IMAG0200  wildebeest  0.203633  0.492199  0.335670   \n",
       "2  S5/B04/B04_R3/S5_B04_R3_IMAG0200  wildebeest  0.348044  0.577083  0.388547   \n",
       "3  S5/B04/B04_R3/S5_B04_R3_IMAG0200  wildebeest  0.690375  0.401059  0.996564   \n",
       "4  S5/B04/B04_R3/S5_B04_R3_IMAG0200  wildebeest  0.699815  0.401052  0.990209   \n",
       "\n",
       "       ymax  \n",
       "0  0.682970  \n",
       "1  0.692113  \n",
       "2  0.609974  \n",
       "3  0.889687  \n",
       "4  0.862463  "
      ]
     },
     "execution_count": 20,
     "metadata": {},
     "output_type": "execute_result"
    }
   ],
   "source": [
    "# Exclude data that have already been used in training\n",
    "# index_not_used_for_training = [filename in data_already_used_for_training_list for filename in df_base_bbox['filename']]\n",
    "# index_not_used_for_training\n",
    "\n",
    "df_base_bbox = df_base_bbox[~df_base_bbox['filename'].isin(data_already_used_for_training_list)]\n",
    "print(df_base_bbox.shape)\n",
    "df_base_bbox.head()"
   ]
  },
  {
   "cell_type": "markdown",
   "metadata": {},
   "source": [
    "### 1. HERD\n",
    "We first focus on and sample the herd images. Since, the images are herd images are less than 5000 (2747 images to be precise), we take all of them for our model training."
   ]
  },
  {
   "cell_type": "code",
   "execution_count": 21,
   "metadata": {},
   "outputs": [
    {
     "data": {
      "text/html": [
       "<div>\n",
       "<style scoped>\n",
       "    .dataframe tbody tr th:only-of-type {\n",
       "        vertical-align: middle;\n",
       "    }\n",
       "\n",
       "    .dataframe tbody tr th {\n",
       "        vertical-align: top;\n",
       "    }\n",
       "\n",
       "    .dataframe thead th {\n",
       "        text-align: right;\n",
       "    }\n",
       "</style>\n",
       "<table border=\"1\" class=\"dataframe\">\n",
       "  <thead>\n",
       "    <tr style=\"text-align: right;\">\n",
       "      <th></th>\n",
       "      <th>count_box</th>\n",
       "      <th>num_images</th>\n",
       "    </tr>\n",
       "  </thead>\n",
       "  <tbody>\n",
       "    <tr>\n",
       "      <th>15</th>\n",
       "      <td>16</td>\n",
       "      <td>41</td>\n",
       "    </tr>\n",
       "    <tr>\n",
       "      <th>16</th>\n",
       "      <td>17</td>\n",
       "      <td>11</td>\n",
       "    </tr>\n",
       "    <tr>\n",
       "      <th>17</th>\n",
       "      <td>18</td>\n",
       "      <td>6</td>\n",
       "    </tr>\n",
       "    <tr>\n",
       "      <th>18</th>\n",
       "      <td>19</td>\n",
       "      <td>1</td>\n",
       "    </tr>\n",
       "    <tr>\n",
       "      <th>19</th>\n",
       "      <td>20</td>\n",
       "      <td>1</td>\n",
       "    </tr>\n",
       "  </tbody>\n",
       "</table>\n",
       "</div>"
      ],
      "text/plain": [
       "    count_box  num_images\n",
       "15         16          41\n",
       "16         17          11\n",
       "17         18           6\n",
       "18         19           1\n",
       "19         20           1"
      ]
     },
     "execution_count": 21,
     "metadata": {},
     "output_type": "execute_result"
    }
   ],
   "source": [
    "df_image_popultion_dist = df_base_bbox.groupby(by=['filename'], as_index=False)['xmin'].count()\n",
    "df_image_popultion_dist.columns = ['filename', 'count_box']\n",
    "df_image_herd_lst = list(df_image_popultion_dist[df_image_popultion_dist['count_box'] >= 11]['filename'])\n",
    "df_image_popultion_dist = df_image_popultion_dist.groupby(by=['count_box'], as_index=False)['filename'].count()\n",
    "df_image_popultion_dist.columns = ['count_box', 'num_images']\n",
    "\n",
    "# plt.bar(df_image_popultion_dist.count_box, df_image_popultion_dist.num_images)\n",
    "df_image_popultion_dist.tail()"
   ]
  },
  {
   "cell_type": "code",
   "execution_count": 22,
   "metadata": {},
   "outputs": [
    {
     "data": {
      "text/plain": [
       "3411"
      ]
     },
     "execution_count": 22,
     "metadata": {},
     "output_type": "execute_result"
    }
   ],
   "source": [
    "len(df_image_herd_lst)"
   ]
  },
  {
   "cell_type": "markdown",
   "metadata": {},
   "source": [
    "## 2. Multi-Species images\n",
    "1. Here I will sample 5000(or all) multi-species images. The training dataset does not contain multi-species images so I want to include multi-species images in further model trainig loop.\n",
    "2. Exclude the images that were part of the **part 1 - HERD**"
   ]
  },
  {
   "cell_type": "code",
   "execution_count": 23,
   "metadata": {},
   "outputs": [
    {
     "name": "stdout",
     "output_type": "stream",
     "text": [
      "execution time: 0.5 Seconds\n"
     ]
    }
   ],
   "source": [
    "# 1. get unique filename and class. i.e, for each of the images gets the species in the data\n",
    "# 2. Exclude the images that were part of HERD list\n",
    "# 3. Get a dataframe that has image name and the animals in the image. \n",
    "start = timer() # time the process\n",
    "df_base = df_base_bbox[['filename', 'class']]\n",
    "df_base = df_base.drop_duplicates()\n",
    "df_base = df_base[~df_base['filename'].isin(df_image_herd_lst)] # 2. Excluding images in HERD list\n",
    "end = timer()\n",
    "print(\"execution time: {0} Seconds\".format(round(end - start, 1)))"
   ]
  },
  {
   "cell_type": "code",
   "execution_count": 24,
   "metadata": {},
   "outputs": [
    {
     "name": "stdout",
     "output_type": "stream",
     "text": [
      "# of images: 3031\n",
      "3031\n"
     ]
    },
    {
     "data": {
      "text/html": [
       "<div>\n",
       "<style scoped>\n",
       "    .dataframe tbody tr th:only-of-type {\n",
       "        vertical-align: middle;\n",
       "    }\n",
       "\n",
       "    .dataframe tbody tr th {\n",
       "        vertical-align: top;\n",
       "    }\n",
       "\n",
       "    .dataframe thead th {\n",
       "        text-align: right;\n",
       "    }\n",
       "</style>\n",
       "<table border=\"1\" class=\"dataframe\">\n",
       "  <thead>\n",
       "    <tr style=\"text-align: right;\">\n",
       "      <th></th>\n",
       "      <th>filename</th>\n",
       "      <th>count_species</th>\n",
       "    </tr>\n",
       "  </thead>\n",
       "  <tbody>\n",
       "    <tr>\n",
       "      <th>5639</th>\n",
       "      <td>S1/D04/D04_R6/S1_D04_R6_PICT0137</td>\n",
       "      <td>2</td>\n",
       "    </tr>\n",
       "    <tr>\n",
       "      <th>6402</th>\n",
       "      <td>S1/D05/D05_R5/S1_D05_R5_PICT0495</td>\n",
       "      <td>2</td>\n",
       "    </tr>\n",
       "    <tr>\n",
       "      <th>7099</th>\n",
       "      <td>S1/D05/D05_R5/S1_D05_R5_PICT1457</td>\n",
       "      <td>2</td>\n",
       "    </tr>\n",
       "    <tr>\n",
       "      <th>7283</th>\n",
       "      <td>S1/D06/D06_R2/S1_D06_R2_PICT0072</td>\n",
       "      <td>2</td>\n",
       "    </tr>\n",
       "    <tr>\n",
       "      <th>7284</th>\n",
       "      <td>S1/D06/D06_R2/S1_D06_R2_PICT0073</td>\n",
       "      <td>2</td>\n",
       "    </tr>\n",
       "  </tbody>\n",
       "</table>\n",
       "</div>"
      ],
      "text/plain": [
       "                              filename  count_species\n",
       "5639  S1/D04/D04_R6/S1_D04_R6_PICT0137              2\n",
       "6402  S1/D05/D05_R5/S1_D05_R5_PICT0495              2\n",
       "7099  S1/D05/D05_R5/S1_D05_R5_PICT1457              2\n",
       "7283  S1/D06/D06_R2/S1_D06_R2_PICT0072              2\n",
       "7284  S1/D06/D06_R2/S1_D06_R2_PICT0073              2"
      ]
     },
     "execution_count": 24,
     "metadata": {},
     "output_type": "execute_result"
    }
   ],
   "source": [
    "# 1. From the above dataframe, get the list of images that have multiple animals.\n",
    "# 2. Get the dataframe with image names and the species in it for the multi-species images\n",
    "\n",
    "df_base_temp = df_base.groupby(by=['filename'], as_index=False)['class'].count() # groupby the get the distinct animals per image\n",
    "df_base_temp.columns = ['filename', 'count_species'] # rename the columns\n",
    "\n",
    "# Filtering the multispecies images\n",
    "df_base_multi_species = df_base_temp[df_base_temp['count_species']>=2] # 1.\n",
    "# Capturing the multi-species images in a list object \n",
    "df_base_multi_species_lst = list(set(df_base_multi_species.filename)) # 1.\n",
    "print(\"# of images: {0}\".format(len(set(df_base_multi_species['filename']))))\n",
    "print(len(df_base_multi_species_lst))\n",
    "df_base_multi_species.head()"
   ]
  },
  {
   "cell_type": "code",
   "execution_count": 25,
   "metadata": {},
   "outputs": [
    {
     "data": {
      "text/html": [
       "<div>\n",
       "<style scoped>\n",
       "    .dataframe tbody tr th:only-of-type {\n",
       "        vertical-align: middle;\n",
       "    }\n",
       "\n",
       "    .dataframe tbody tr th {\n",
       "        vertical-align: top;\n",
       "    }\n",
       "\n",
       "    .dataframe thead th {\n",
       "        text-align: right;\n",
       "    }\n",
       "</style>\n",
       "<table border=\"1\" class=\"dataframe\">\n",
       "  <thead>\n",
       "    <tr style=\"text-align: right;\">\n",
       "      <th></th>\n",
       "      <th>count_species</th>\n",
       "      <th>filename</th>\n",
       "    </tr>\n",
       "  </thead>\n",
       "  <tbody>\n",
       "    <tr>\n",
       "      <th>0</th>\n",
       "      <td>1</td>\n",
       "      <td>651373</td>\n",
       "    </tr>\n",
       "    <tr>\n",
       "      <th>1</th>\n",
       "      <td>2</td>\n",
       "      <td>3022</td>\n",
       "    </tr>\n",
       "    <tr>\n",
       "      <th>2</th>\n",
       "      <td>3</td>\n",
       "      <td>9</td>\n",
       "    </tr>\n",
       "  </tbody>\n",
       "</table>\n",
       "</div>"
      ],
      "text/plain": [
       "   count_species  filename\n",
       "0              1    651373\n",
       "1              2      3022\n",
       "2              3         9"
      ]
     },
     "execution_count": 25,
     "metadata": {},
     "output_type": "execute_result"
    }
   ],
   "source": [
    "# Distribution of the image count for n-distinct species\n",
    "species_dist = df_base_temp.groupby(by=['count_species'], as_index=False)['filename'].count()\n",
    "species_dist"
   ]
  },
  {
   "cell_type": "markdown",
   "metadata": {},
   "source": [
    "## 3. Single species images"
   ]
  },
  {
   "cell_type": "code",
   "execution_count": 26,
   "metadata": {},
   "outputs": [
    {
     "data": {
      "text/html": [
       "<div>\n",
       "<style scoped>\n",
       "    .dataframe tbody tr th:only-of-type {\n",
       "        vertical-align: middle;\n",
       "    }\n",
       "\n",
       "    .dataframe tbody tr th {\n",
       "        vertical-align: top;\n",
       "    }\n",
       "\n",
       "    .dataframe thead th {\n",
       "        text-align: right;\n",
       "    }\n",
       "</style>\n",
       "<table border=\"1\" class=\"dataframe\">\n",
       "  <thead>\n",
       "    <tr style=\"text-align: right;\">\n",
       "      <th></th>\n",
       "      <th>filename</th>\n",
       "      <th>class</th>\n",
       "    </tr>\n",
       "  </thead>\n",
       "  <tbody>\n",
       "    <tr>\n",
       "      <th>0</th>\n",
       "      <td>S5/B04/B04_R3/S5_B04_R3_IMAG0200</td>\n",
       "      <td>wildebeest</td>\n",
       "    </tr>\n",
       "    <tr>\n",
       "      <th>6</th>\n",
       "      <td>S5/J02/J02_R1/S5_J02_R1_IMAG0752</td>\n",
       "      <td>wildebeest</td>\n",
       "    </tr>\n",
       "    <tr>\n",
       "      <th>12</th>\n",
       "      <td>S5/U10/U10_R4/S5_U10_R4_IMAG3509</td>\n",
       "      <td>wildebeest</td>\n",
       "    </tr>\n",
       "    <tr>\n",
       "      <th>29</th>\n",
       "      <td>S3/B07/B07_R11/S3_B07_R11_IMAG0246</td>\n",
       "      <td>gazelleThomsons</td>\n",
       "    </tr>\n",
       "    <tr>\n",
       "      <th>30</th>\n",
       "      <td>S2/K09/K09_R1/S2_K09_R1_PICT0812</td>\n",
       "      <td>gazelleThomsons</td>\n",
       "    </tr>\n",
       "  </tbody>\n",
       "</table>\n",
       "</div>"
      ],
      "text/plain": [
       "                              filename            class\n",
       "0     S5/B04/B04_R3/S5_B04_R3_IMAG0200       wildebeest\n",
       "6     S5/J02/J02_R1/S5_J02_R1_IMAG0752       wildebeest\n",
       "12    S5/U10/U10_R4/S5_U10_R4_IMAG3509       wildebeest\n",
       "29  S3/B07/B07_R11/S3_B07_R11_IMAG0246  gazelleThomsons\n",
       "30    S2/K09/K09_R1/S2_K09_R1_PICT0812  gazelleThomsons"
      ]
     },
     "execution_count": 26,
     "metadata": {},
     "output_type": "execute_result"
    }
   ],
   "source": [
    "# 1. Filter out the image, class that are single species\n",
    "## a. df_base already excludes HERD images **(Part 1, HERD)**\n",
    "\n",
    "df_single_species = df_base[~df_base['filename'].isin(df_base_multi_species_lst)]\n",
    "df_single_species.head()"
   ]
  },
  {
   "cell_type": "markdown",
   "metadata": {},
   "source": [
    "#### Function to sample out the images given parameters like:\n",
    "1. Species to sample\n",
    "2. Number of images to sample\n",
    "    - Sampling size is proportional to in the inverse frequency of the training data size of the species.\n",
    "    - Considered species with less than 1000 images in the initial dataset."
   ]
  },
  {
   "cell_type": "code",
   "execution_count": 27,
   "metadata": {},
   "outputs": [],
   "source": [
    "def get_image_samples_for_species(dataframe, species, count, seed = None):\n",
    "    '''This function takes a dataframe and samples out n(count)-records\n",
    "    for the given species'''\n",
    "    random.seed(seed)\n",
    "    dataframe_species = dataframe[dataframe['class']==species]\n",
    "    row, col = dataframe_species.shape\n",
    "    if row < count:\n",
    "        df_sampled_species = dataframe_species\n",
    "    else:\n",
    "        filename_sampled = random.sample(list(set(dataframe_species['filename'])), count)\n",
    "        df_sampled_species = dataframe_species[[val in filename_sampled for val in list(dataframe_species['filename'])]]\n",
    "    return df_sampled_species"
   ]
  },
  {
   "cell_type": "code",
   "execution_count": 28,
   "metadata": {},
   "outputs": [
    {
     "data": {
      "text/html": [
       "<div>\n",
       "<style scoped>\n",
       "    .dataframe tbody tr th:only-of-type {\n",
       "        vertical-align: middle;\n",
       "    }\n",
       "\n",
       "    .dataframe tbody tr th {\n",
       "        vertical-align: top;\n",
       "    }\n",
       "\n",
       "    .dataframe thead th {\n",
       "        text-align: right;\n",
       "    }\n",
       "</style>\n",
       "<table border=\"1\" class=\"dataframe\">\n",
       "  <thead>\n",
       "    <tr style=\"text-align: right;\">\n",
       "      <th></th>\n",
       "      <th>filename</th>\n",
       "      <th>class</th>\n",
       "    </tr>\n",
       "  </thead>\n",
       "  <tbody>\n",
       "    <tr>\n",
       "      <th>3859</th>\n",
       "      <td>S5/P04/P04_R3/S5_P04_R3_IMAG2196</td>\n",
       "      <td>wildebeest</td>\n",
       "    </tr>\n",
       "  </tbody>\n",
       "</table>\n",
       "</div>"
      ],
      "text/plain": [
       "                              filename       class\n",
       "3859  S5/P04/P04_R3/S5_P04_R3_IMAG2196  wildebeest"
      ]
     },
     "execution_count": 28,
     "metadata": {},
     "output_type": "execute_result"
    }
   ],
   "source": [
    "# Test the function \n",
    "get_image_samples_for_species(df_single_species, 'wildebeest', 1)"
   ]
  },
  {
   "cell_type": "code",
   "execution_count": 34,
   "metadata": {},
   "outputs": [
    {
     "data": {
      "text/html": [
       "<div>\n",
       "<style scoped>\n",
       "    .dataframe tbody tr th:only-of-type {\n",
       "        vertical-align: middle;\n",
       "    }\n",
       "\n",
       "    .dataframe tbody tr th {\n",
       "        vertical-align: top;\n",
       "    }\n",
       "\n",
       "    .dataframe thead th {\n",
       "        text-align: right;\n",
       "    }\n",
       "</style>\n",
       "<table border=\"1\" class=\"dataframe\">\n",
       "  <thead>\n",
       "    <tr style=\"text-align: right;\">\n",
       "      <th></th>\n",
       "      <th>Species</th>\n",
       "      <th>image_count</th>\n",
       "      <th>inv_image_count</th>\n",
       "      <th>p_samples</th>\n",
       "      <th>num_sampled_images</th>\n",
       "    </tr>\n",
       "  </thead>\n",
       "  <tbody>\n",
       "    <tr>\n",
       "      <th>0</th>\n",
       "      <td>ostrich</td>\n",
       "      <td>786</td>\n",
       "      <td>0.00127</td>\n",
       "      <td>0.75%</td>\n",
       "      <td>38</td>\n",
       "    </tr>\n",
       "    <tr>\n",
       "      <th>1</th>\n",
       "      <td>topi</td>\n",
       "      <td>852</td>\n",
       "      <td>0.00117</td>\n",
       "      <td>0.69%</td>\n",
       "      <td>35</td>\n",
       "    </tr>\n",
       "    <tr>\n",
       "      <th>2</th>\n",
       "      <td>eland</td>\n",
       "      <td>934</td>\n",
       "      <td>0.00107</td>\n",
       "      <td>0.63%</td>\n",
       "      <td>32</td>\n",
       "    </tr>\n",
       "    <tr>\n",
       "      <th>3</th>\n",
       "      <td>human</td>\n",
       "      <td>641</td>\n",
       "      <td>0.00156</td>\n",
       "      <td>0.91%</td>\n",
       "      <td>46</td>\n",
       "    </tr>\n",
       "    <tr>\n",
       "      <th>4</th>\n",
       "      <td>impala</td>\n",
       "      <td>847</td>\n",
       "      <td>0.00118</td>\n",
       "      <td>0.69%</td>\n",
       "      <td>35</td>\n",
       "    </tr>\n",
       "  </tbody>\n",
       "</table>\n",
       "</div>"
      ],
      "text/plain": [
       "   Species  image_count  inv_image_count p_samples  num_sampled_images\n",
       "0  ostrich          786          0.00127     0.75%                  38\n",
       "1     topi          852          0.00117     0.69%                  35\n",
       "2    eland          934          0.00107     0.63%                  32\n",
       "3    human          641          0.00156     0.91%                  46\n",
       "4   impala          847          0.00118     0.69%                  35"
      ]
     },
     "execution_count": 34,
     "metadata": {},
     "output_type": "execute_result"
    }
   ],
   "source": [
    "# 2(a) Import the dataset with sampling counts for Species\n",
    "df_sample_size = pd.read_csv('~/data/tensorflow/my_workspace/camera-trap-detection/data/bootstrapping/sample_proportion_{0}.csv'.format(round_number_next), sep=',')\n",
    "df_sample_size.head()"
   ]
  },
  {
   "cell_type": "code",
   "execution_count": 35,
   "metadata": {},
   "outputs": [],
   "source": [
    "# Initiate an empty dataset that will eventually contain the samples species and the corresponfing filename\n",
    "df_all = pd.DataFrame()\n",
    "for i in range(df_sample_size.shape[0]):\n",
    "    species = df_sample_size.iloc[i]['Species'] # get the respective species to sample\n",
    "    count = df_sample_size.iloc[i]['num_sampled_images'] # get count to sample\n",
    "    df_sampled_species = get_image_samples_for_species(df_single_species, species, count)\n",
    "    df_all = df_all.append(df_sampled_species)\n",
    "df_sampled_species_lst = list(set(df_all['filename']))"
   ]
  },
  {
   "cell_type": "code",
   "execution_count": 36,
   "metadata": {},
   "outputs": [
    {
     "name": "stdout",
     "output_type": "stream",
     "text": [
      "940\n",
      "940\n"
     ]
    },
    {
     "data": {
      "text/html": [
       "<div>\n",
       "<style scoped>\n",
       "    .dataframe tbody tr th:only-of-type {\n",
       "        vertical-align: middle;\n",
       "    }\n",
       "\n",
       "    .dataframe tbody tr th {\n",
       "        vertical-align: top;\n",
       "    }\n",
       "\n",
       "    .dataframe thead th {\n",
       "        text-align: right;\n",
       "    }\n",
       "</style>\n",
       "<table border=\"1\" class=\"dataframe\">\n",
       "  <thead>\n",
       "    <tr style=\"text-align: right;\">\n",
       "      <th></th>\n",
       "      <th>filename</th>\n",
       "      <th>class</th>\n",
       "    </tr>\n",
       "  </thead>\n",
       "  <tbody>\n",
       "    <tr>\n",
       "      <th>3460</th>\n",
       "      <td>S2/D03/D03_R2/S2_D03_R2_PICT0061</td>\n",
       "      <td>hippopotamus</td>\n",
       "    </tr>\n",
       "    <tr>\n",
       "      <th>3514</th>\n",
       "      <td>S2/F06/F06_R1/S2_F06_R1_PICT0046</td>\n",
       "      <td>hippopotamus</td>\n",
       "    </tr>\n",
       "    <tr>\n",
       "      <th>1288</th>\n",
       "      <td>S5/D04/D04_R2/S5_D04_R2_IMAG0541</td>\n",
       "      <td>hippopotamus</td>\n",
       "    </tr>\n",
       "    <tr>\n",
       "      <th>383</th>\n",
       "      <td>S2/D03/D03_R2/S2_D03_R2_PICT0230</td>\n",
       "      <td>hippopotamus</td>\n",
       "    </tr>\n",
       "    <tr>\n",
       "      <th>1474</th>\n",
       "      <td>S2/F06/F06_R4/S2_F06_R4_IMAG0413</td>\n",
       "      <td>hippopotamus</td>\n",
       "    </tr>\n",
       "  </tbody>\n",
       "</table>\n",
       "</div>"
      ],
      "text/plain": [
       "                              filename         class\n",
       "3460  S2/D03/D03_R2/S2_D03_R2_PICT0061  hippopotamus\n",
       "3514  S2/F06/F06_R1/S2_F06_R1_PICT0046  hippopotamus\n",
       "1288  S5/D04/D04_R2/S5_D04_R2_IMAG0541  hippopotamus\n",
       "383   S2/D03/D03_R2/S2_D03_R2_PICT0230  hippopotamus\n",
       "1474  S2/F06/F06_R4/S2_F06_R4_IMAG0413  hippopotamus"
      ]
     },
     "execution_count": 36,
     "metadata": {},
     "output_type": "execute_result"
    }
   ],
   "source": [
    "print(sum(df_all.groupby(['class'], as_index=False)['filename'].count()['filename']))\n",
    "print(len(df_sampled_species_lst))\n",
    "df_all.tail()"
   ]
  },
  {
   "cell_type": "markdown",
   "metadata": {},
   "source": [
    "## Export the datasets to CSV:\n",
    "1. herd dataset\n",
    "2. Multi-Species\n",
    "3. Single Species"
   ]
  },
  {
   "cell_type": "markdown",
   "metadata": {},
   "source": [
    "**1. HERD images**"
   ]
  },
  {
   "cell_type": "code",
   "execution_count": 38,
   "metadata": {},
   "outputs": [
    {
     "name": "stdout",
     "output_type": "stream",
     "text": [
      "(40302, 6)\n"
     ]
    }
   ],
   "source": [
    "df_herd = df_base_bbox[df_base_bbox['filename'].isin(df_image_herd_lst)]\n",
    "df_herd.to_csv('../data/bootstrapping/{0}_csv/herd_bbox.csv'.format(round_number_next), index=False)\n",
    "print(df_herd.shape)"
   ]
  },
  {
   "cell_type": "markdown",
   "metadata": {},
   "source": [
    "**2. Multi-Species**"
   ]
  },
  {
   "cell_type": "code",
   "execution_count": 39,
   "metadata": {},
   "outputs": [
    {
     "name": "stdout",
     "output_type": "stream",
     "text": [
      "(15842, 6)\n"
     ]
    }
   ],
   "source": [
    "df_multiSpecies = df_base_bbox[df_base_bbox['filename'].isin(df_base_multi_species_lst)]\n",
    "df_multiSpecies.to_csv('../data/bootstrapping/{0}_csv/multiSpecies_bbox.csv'.format(round_number_next), index=False)\n",
    "print(df_multiSpecies.shape)"
   ]
  },
  {
   "cell_type": "markdown",
   "metadata": {},
   "source": [
    "**3. Single Species**"
   ]
  },
  {
   "cell_type": "code",
   "execution_count": 40,
   "metadata": {},
   "outputs": [
    {
     "name": "stdout",
     "output_type": "stream",
     "text": [
      "(1246, 6)\n"
     ]
    }
   ],
   "source": [
    "df_singleSpecies = df_base_bbox[df_base_bbox['filename'].isin(df_sampled_species_lst)]\n",
    "df_singleSpecies.to_csv('../data/bootstrapping/{0}_csv/singleSpecies_bbox.csv'.format(round_number_next), index=False)\n",
    "print(df_singleSpecies.shape)"
   ]
  },
  {
   "cell_type": "markdown",
   "metadata": {},
   "source": [
    "# Species Distribution in the samples:"
   ]
  },
  {
   "cell_type": "code",
   "execution_count": 29,
   "metadata": {},
   "outputs": [],
   "source": [
    "filepath_list = glob.glob('../data/bootstrapping/{0}_csv/*'.format(round_number))"
   ]
  },
  {
   "cell_type": "code",
   "execution_count": 30,
   "metadata": {},
   "outputs": [
    {
     "data": {
      "text/plain": [
       "['../data/bootstrapping/round2_csv/singleSpecies_bbox.csv',\n",
       " '../data/bootstrapping/round2_csv/herd_bbox.csv',\n",
       " '../data/bootstrapping/round2_csv/multiSpecies_bbox.csv']"
      ]
     },
     "execution_count": 30,
     "metadata": {},
     "output_type": "execute_result"
    }
   ],
   "source": [
    "filepath_list"
   ]
  },
  {
   "cell_type": "code",
   "execution_count": 31,
   "metadata": {},
   "outputs": [],
   "source": [
    "df_pred_gt_consolidated = pd.DataFrame()\n",
    "for filepath in filepath_list:\n",
    "    # import csv to pandas\n",
    "    df_pred_gt_temp = pd.read_csv(filepath)\n",
    "    # subset the 2 columns\n",
    "    df_pred_gt_temp = df_pred_gt_temp[['filename', 'class']]\n",
    "    # Drop duplicates. We need to get the frequency of images for each animal\n",
    "    df_pred_gt_temp = df_pred_gt_temp.drop_duplicates()\n",
    "    df_pred_gt_consolidated = df_pred_gt_consolidated.append(df_pred_gt_temp)\n",
    "\n",
    "# Get the frequency of images for each animal\n",
    "df_bootstrap = df_pred_gt_consolidated.groupby(by=['class'], as_index=False)['filename'].count()\n",
    "df_bootstrap.columns = ['species', 'Additional_Data_Size']"
   ]
  },
  {
   "cell_type": "code",
   "execution_count": 33,
   "metadata": {},
   "outputs": [],
   "source": [
    "df_bootstrap.to_csv('/home/ubuntu/data/tensorflow/my_workspace/camera-trap-detection/EDA_and_ModelEvaluation/BootStrap_{0}_addition.csv'.format(round_number), index=False)"
   ]
  },
  {
   "cell_type": "code",
   "execution_count": null,
   "metadata": {},
   "outputs": [],
   "source": []
  }
 ],
 "metadata": {
  "kernelspec": {
   "display_name": "Python 3",
   "language": "python",
   "name": "python3"
  },
  "language_info": {
   "codemirror_mode": {
    "name": "ipython",
    "version": 3
   },
   "file_extension": ".py",
   "mimetype": "text/x-python",
   "name": "python",
   "nbconvert_exporter": "python",
   "pygments_lexer": "ipython3",
   "version": "3.5.2"
  }
 },
 "nbformat": 4,
 "nbformat_minor": 2
}
