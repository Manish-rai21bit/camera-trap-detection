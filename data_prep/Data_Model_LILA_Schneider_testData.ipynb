{
 "cells": [
  {
   "cell_type": "markdown",
   "metadata": {},
   "source": [
    "# Data Model for Object Detection\n",
    "The task here is to prepare a TFRecord dataset that can be fed into the [object detection API of tensorflow](https://github.com/tensorflow/models/tree/master/research/object_detection). This notebook uses a subset of the [GSSS](https://datadryad.org/resource/doi:10.5061/dryad.5pt92) dataset that were used in this [paper](https://datadryad.org/resource/doi:10.5061/dryad.5pt92) by Schneider! <br> \n",
    "I broke down the data model into the following steps:<br>\n",
    "1. Database creation - As part of this step I work on consolidating the input data in various format into a one json file.\n",
    "2. Using this json to create a tensorflow record\n",
    "3. Validating the pipeline\n",
    "\n",
    "\n",
    "The detailed steps that I follow are:\n",
    "1. Data Export : CSV (from the panoptes API) -> JSON file\n",
    "2. Data Import : JSON file -> Dictionary object \n",
    "3. Write TFRecord : Dictionary Object -> TFRecord file\n",
    "4. Validate data in the TFRecord"
   ]
  },
  {
   "cell_type": "markdown",
   "metadata": {},
   "source": [
    "## Importing necessary packages"
   ]
  },
  {
   "cell_type": "code",
   "execution_count": 13,
   "metadata": {},
   "outputs": [],
   "source": [
    "#import pandas as pd\n",
    "import csv, os, sys\n",
    "import operator\n",
    "import tensorflow as tf\n",
    "import json\n",
    "import pandas as pd\n",
    "import matplotlib.pyplot as plt\n",
    "import matplotlib.patches as patches\n",
    "sys.path.append('/home/ubuntu/data/tensorflow/my_workspace/camera-trap-detection/data/')\n",
    "from utils import dataset_util\n",
    "#Added this to handle the truncation error while decoding the jpeg\n",
    "from PIL import ImageFile\n",
    "ImageFile.LOAD_TRUNCATED_IMAGES = True"
   ]
  },
  {
   "cell_type": "code",
   "execution_count": 14,
   "metadata": {},
   "outputs": [],
   "source": [
    "Project_filepath = \"/home/ubuntu/data/tensorflow/my_workspace/training_demo/\"#\"/home/rai00007/Desktop/zooniverse/\" # Original data - \"/data/lucifer1.2/users/rai00007/\""
   ]
  },
  {
   "cell_type": "code",
   "execution_count": 17,
   "metadata": {},
   "outputs": [
    {
     "data": {
      "text/html": [
       "<div>\n",
       "<style scoped>\n",
       "    .dataframe tbody tr th:only-of-type {\n",
       "        vertical-align: middle;\n",
       "    }\n",
       "\n",
       "    .dataframe tbody tr th {\n",
       "        vertical-align: top;\n",
       "    }\n",
       "\n",
       "    .dataframe thead th {\n",
       "        text-align: right;\n",
       "    }\n",
       "</style>\n",
       "<table border=\"1\" class=\"dataframe\">\n",
       "  <thead>\n",
       "    <tr style=\"text-align: right;\">\n",
       "      <th></th>\n",
       "      <th>filename</th>\n",
       "      <th>width</th>\n",
       "      <th>height</th>\n",
       "      <th>class</th>\n",
       "      <th>xmin</th>\n",
       "      <th>ymin</th>\n",
       "      <th>xmax</th>\n",
       "      <th>ymax</th>\n",
       "    </tr>\n",
       "  </thead>\n",
       "  <tbody>\n",
       "    <tr>\n",
       "      <th>0</th>\n",
       "      <td>ASG000dz24.jpg</td>\n",
       "      <td>2048</td>\n",
       "      <td>1536</td>\n",
       "      <td>Impala</td>\n",
       "      <td>1141</td>\n",
       "      <td>883</td>\n",
       "      <td>1227</td>\n",
       "      <td>977</td>\n",
       "    </tr>\n",
       "    <tr>\n",
       "      <th>1</th>\n",
       "      <td>ASG000dz24.jpg</td>\n",
       "      <td>2048</td>\n",
       "      <td>1536</td>\n",
       "      <td>Impala</td>\n",
       "      <td>1340</td>\n",
       "      <td>876</td>\n",
       "      <td>1381</td>\n",
       "      <td>925</td>\n",
       "    </tr>\n",
       "    <tr>\n",
       "      <th>2</th>\n",
       "      <td>ASG000dz24.jpg</td>\n",
       "      <td>2048</td>\n",
       "      <td>1536</td>\n",
       "      <td>Impala</td>\n",
       "      <td>1448</td>\n",
       "      <td>803</td>\n",
       "      <td>1538</td>\n",
       "      <td>1042</td>\n",
       "    </tr>\n",
       "    <tr>\n",
       "      <th>3</th>\n",
       "      <td>ASG000dz24.jpg</td>\n",
       "      <td>2048</td>\n",
       "      <td>1536</td>\n",
       "      <td>Impala</td>\n",
       "      <td>1382</td>\n",
       "      <td>763</td>\n",
       "      <td>1485</td>\n",
       "      <td>1080</td>\n",
       "    </tr>\n",
       "    <tr>\n",
       "      <th>4</th>\n",
       "      <td>ASG000c7hr.jpg</td>\n",
       "      <td>2048</td>\n",
       "      <td>1536</td>\n",
       "      <td>Wildebeest</td>\n",
       "      <td>1987</td>\n",
       "      <td>680</td>\n",
       "      <td>2048</td>\n",
       "      <td>751</td>\n",
       "    </tr>\n",
       "  </tbody>\n",
       "</table>\n",
       "</div>"
      ],
      "text/plain": [
       "         filename  width  height       class  xmin  ymin  xmax  ymax\n",
       "0  ASG000dz24.jpg   2048    1536      Impala  1141   883  1227   977\n",
       "1  ASG000dz24.jpg   2048    1536      Impala  1340   876  1381   925\n",
       "2  ASG000dz24.jpg   2048    1536      Impala  1448   803  1538  1042\n",
       "3  ASG000dz24.jpg   2048    1536      Impala  1382   763  1485  1080\n",
       "4  ASG000c7hr.jpg   2048    1536  Wildebeest  1987   680  2048   751"
      ]
     },
     "execution_count": 17,
     "metadata": {},
     "output_type": "execute_result"
    }
   ],
   "source": [
    "df_schneider_box = pd.read_csv(Project_filepath + 'Data/GoldStandardBoundBoxCoord.csv')\n",
    "schneider_events = list(set(df_schneider_box['filename']))\n",
    "schneider_events = [word.split('.')[0] for word in schneider_events] # [word[:-4] for word in schneider_events]\n",
    "len(schneider_events)\n",
    "df_schneider_box.head()"
   ]
  },
  {
   "cell_type": "code",
   "execution_count": 23,
   "metadata": {},
   "outputs": [
    {
     "name": "stdout",
     "output_type": "stream",
     "text": [
      "(10597, 2)\n"
     ]
    },
    {
     "data": {
      "text/html": [
       "<div>\n",
       "<style scoped>\n",
       "    .dataframe tbody tr th:only-of-type {\n",
       "        vertical-align: middle;\n",
       "    }\n",
       "\n",
       "    .dataframe tbody tr th {\n",
       "        vertical-align: top;\n",
       "    }\n",
       "\n",
       "    .dataframe thead th {\n",
       "        text-align: right;\n",
       "    }\n",
       "</style>\n",
       "<table border=\"1\" class=\"dataframe\">\n",
       "  <thead>\n",
       "    <tr style=\"text-align: right;\">\n",
       "      <th></th>\n",
       "      <th>CaptureEventID</th>\n",
       "      <th>URL_Info</th>\n",
       "    </tr>\n",
       "  </thead>\n",
       "  <tbody>\n",
       "    <tr>\n",
       "      <th>1377257</th>\n",
       "      <td>ASG000c6uw</td>\n",
       "      <td>S4/B03/B03_R1/S4_B03_R1_IMAG0137.JPG</td>\n",
       "    </tr>\n",
       "    <tr>\n",
       "      <th>1377258</th>\n",
       "      <td>ASG000c6uw</td>\n",
       "      <td>S4/B03/B03_R1/S4_B03_R1_IMAG0138.JPG</td>\n",
       "    </tr>\n",
       "    <tr>\n",
       "      <th>1377259</th>\n",
       "      <td>ASG000c6uw</td>\n",
       "      <td>S4/B03/B03_R1/S4_B03_R1_IMAG0139.JPG</td>\n",
       "    </tr>\n",
       "    <tr>\n",
       "      <th>1381262</th>\n",
       "      <td>ASG000c6x1</td>\n",
       "      <td>S4/B03/B03_R1/S4_B03_R1_IMAG4142.JPG</td>\n",
       "    </tr>\n",
       "    <tr>\n",
       "      <th>1381263</th>\n",
       "      <td>ASG000c6x1</td>\n",
       "      <td>S4/B03/B03_R1/S4_B03_R1_IMAG4143.JPG</td>\n",
       "    </tr>\n",
       "  </tbody>\n",
       "</table>\n",
       "</div>"
      ],
      "text/plain": [
       "        CaptureEventID                              URL_Info\n",
       "1377257     ASG000c6uw  S4/B03/B03_R1/S4_B03_R1_IMAG0137.JPG\n",
       "1377258     ASG000c6uw  S4/B03/B03_R1/S4_B03_R1_IMAG0138.JPG\n",
       "1377259     ASG000c6uw  S4/B03/B03_R1/S4_B03_R1_IMAG0139.JPG\n",
       "1381262     ASG000c6x1  S4/B03/B03_R1/S4_B03_R1_IMAG4142.JPG\n",
       "1381263     ASG000c6x1  S4/B03/B03_R1/S4_B03_R1_IMAG4143.JPG"
      ]
     },
     "execution_count": 23,
     "metadata": {},
     "output_type": "execute_result"
    }
   ],
   "source": [
    "df_all_images = pd.read_csv(Project_filepath + 'Data/all_images.csv')\n",
    "df_all_images = df_all_images[df_all_images['CaptureEventID'].isin(schneider_events)]\n",
    "print(df_all_images.shape)\n",
    "df_all_images.head()"
   ]
  },
  {
   "cell_type": "code",
   "execution_count": 41,
   "metadata": {},
   "outputs": [
    {
     "name": "stderr",
     "output_type": "stream",
     "text": [
      "/home/ubuntu/test_env/lib/python3.5/site-packages/ipykernel_launcher.py:2: SettingWithCopyWarning: \n",
      "A value is trying to be set on a copy of a slice from a DataFrame.\n",
      "Try using .loc[row_indexer,col_indexer] = value instead\n",
      "\n",
      "See the caveats in the documentation: http://pandas.pydata.org/pandas-docs/stable/indexing.html#indexing-view-versus-copy\n",
      "  \n"
     ]
    },
    {
     "data": {
      "text/plain": [
       "CaptureEventID                                           ASG000c6x1\n",
       "URL_Info                       S4/B03/B03_R1/S4_B03_R1_IMAG4142.JPG\n",
       "URL_info_full     https://snapshotserengeti.s3.msi.umn.edu/S4/B0...\n",
       "Name: 1381262, dtype: object"
      ]
     },
     "execution_count": 41,
     "metadata": {},
     "output_type": "execute_result"
    }
   ],
   "source": [
    "df = df_all_images.drop_duplicates(subset='CaptureEventID', keep='first')\n",
    "df['URL_info_full'] = 'https://snapshotserengeti.s3.msi.umn.edu/' + df['URL_Info'].astype(str)\n",
    "df.iloc[1]"
   ]
  },
  {
   "cell_type": "markdown",
   "metadata": {},
   "source": [
    "**Download the images**"
   ]
  },
  {
   "cell_type": "code",
   "execution_count": 42,
   "metadata": {},
   "outputs": [],
   "source": [
    "import os, sys, random, ssl\n",
    "import urllib, urllib.request"
   ]
  },
  {
   "cell_type": "code",
   "execution_count": 43,
   "metadata": {},
   "outputs": [],
   "source": [
    "def get_images_from_url(dataset, image_name_index, url_col_index, outpath):\n",
    "    if (not os.environ.get('PYTHONHTTPSVERIFY', '') and\n",
    "        getattr(ssl, '_create_unverified_context', None)): \n",
    "        ssl._create_default_https_context = ssl._create_unverified_context\n",
    "        \n",
    "        check = []\n",
    "        \n",
    "        for i in range(dataset.shape[0]):\n",
    "            if dataset.iloc[i][image_name_index] not in check:\n",
    "                j = 0\n",
    "            if dataset.iloc[i][image_name_index] in check:\n",
    "                j += 1 \n",
    "            \n",
    "            print('Processing image: %d' % i)\n",
    "            \n",
    "            urllib.request.urlretrieve(dataset.iloc[i][url_col_index], outpath+'{0}.jpg'\\\n",
    "                                       .format(dataset.iloc[i][image_name_index] ))"
   ]
  },
  {
   "cell_type": "code",
   "execution_count": 45,
   "metadata": {},
   "outputs": [],
   "source": [
    "outpath = '../data/LILA/schneider_images/'"
   ]
  },
  {
   "cell_type": "code",
   "execution_count": null,
   "metadata": {},
   "outputs": [],
   "source": [
    "get_images_from_url(df, 0, 2, outpath)"
   ]
  },
  {
   "cell_type": "code",
   "execution_count": 48,
   "metadata": {},
   "outputs": [
    {
     "data": {
      "text/plain": [
       "'/home/ubuntu/data/tensorflow/my_workspace/camera-trap-detection/data_prep'"
      ]
     },
     "execution_count": 48,
     "metadata": {},
     "output_type": "execute_result"
    }
   ],
   "source": [
    "pwd"
   ]
  },
  {
   "cell_type": "code",
   "execution_count": null,
   "metadata": {},
   "outputs": [],
   "source": []
  }
 ],
 "metadata": {
  "kernelspec": {
   "display_name": "Python 3",
   "language": "python",
   "name": "python3"
  },
  "language_info": {
   "codemirror_mode": {
    "name": "ipython",
    "version": 3
   },
   "file_extension": ".py",
   "mimetype": "text/x-python",
   "name": "python",
   "nbconvert_exporter": "python",
   "pygments_lexer": "ipython3",
   "version": "3.5.2"
  }
 },
 "nbformat": 4,
 "nbformat_minor": 1
}
